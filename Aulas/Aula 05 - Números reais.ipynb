{
 "cells": [
  {
   "cell_type": "markdown",
   "metadata": {},
   "source": [
    "### <center>Algoritmos e Estruturas de Dados</center>\n",
    "\n",
    "#### <center>Números reais</center>\n",
    "\n",
    "\n",
    "**Prof.**: João Paulo Orlando\n",
    "\n",
    "**Curso**: Técnico em Informática Integrado ao Ensino Médio"
   ]
  },
  {
   "cell_type": "markdown",
   "metadata": {},
   "source": [
    "Os números de ponto flutuante são representados no hardware do computador como frações de base 2 (binárias). Por exemplo, a fração decimal 0.125 tem valor 1/10 + 2/100 + 5/1000.\n",
    "\n",
    "Infelizmente, muitas frações decimais não podem ser representadas precisamente como frações binárias. O resultado é que, em geral, os números decimais de ponto flutuante que você digita acabam sendo armazenados de forma apenas aproximada, na forma de números binários de ponto flutuante.\n",
    "\n",
    "O problema é mais fácil de entender primeiro em base 10. Considere a fração 1/3. Podemos representá-la aproximadamente como uma fração base 10:\n",
    "\n",
    "`0.3`\n",
    "\n",
    "ou melhor,\n",
    "\n",
    "`0.33`\n",
    "\n",
    "ou melhor,\n",
    "\n",
    "`0.333`\n",
    "\n",
    "e assim por diante. Não importa quantos dígitos você está disposto a escrever, o resultado nunca será exatamente `1/3`, mas será uma aproximação de cada vez melhor de `1/3`.\n",
    "\n",
    "Da mesma forma, não importa quantos dígitos de base 2 estejas disposto a usar, o valor decimal 0.1 não pode ser representado exatamente como uma fração de base 2. No sistema de base 2, `1/10` é uma fração binária que se repete infinitamente:\n",
    "\n",
    "`0.0001100110011001100110011001100110011001100110011...`\n",
    "\n",
    "Se parares em qualquer número finito de bits, obterás uma aproximação. Hoje em dia, na maioria dos computadores, as casas decimais são aproximados usando uma fração binária onde o numerado utiliza os primeiros 53 bits iniciando no bit mais significativo e tendo como denominador uma potência de dois. No caso de `1/10`, a fração binária seria `602879701896397 / 2 ** 55` o que chega bem perto, mas mesmo assim, não é igual ao valor original de `1/10`.\n",
    "\n",
    "É fácil esquecer que o valor armazenado é uma aproximação da fração decimal original, devido à forma como os floats são exibidos no interpretador interativo. O Python exibe apenas uma aproximação decimal do verdadeiro valor decimal da aproximação binária armazenada pela máquina. Se o Python exibisse o verdadeiro valor decimal da aproximação binária que representa o decimal 0.1, seria necessário mostrar:\n",
    "\n",
    "`\n",
    "0.1\n",
    "0.1000000000000000055511151231257827021181583404541015625`\n",
    "\n",
    "Contém muito mais dígitos do que é o esperado e utilizado pela grande maioria dos desenvolvedores, portanto, o Python limita o número de dígitos exibidos, apresentando um valor arredondado, ao invés de mostrar todas as casas decimais:\n",
    "\n",
    "`\n",
    "1 / 10\n",
    "0.1`\n",
    "\n",
    "Lembre-se, mesmo que o resultado impresso seja o valor exato de 1/10, o valor que verdadeiramente estará armazenado será uma fração binária representável que mais se aproxima."
   ]
  },
  {
   "cell_type": "code",
   "execution_count": 5,
   "metadata": {},
   "outputs": [
    {
     "name": "stdout",
     "output_type": "stream",
     "text": [
      "0.3333333333333333\n"
     ]
    }
   ],
   "source": [
    "print(1/3)"
   ]
  },
  {
   "cell_type": "code",
   "execution_count": 20,
   "metadata": {},
   "outputs": [
    {
     "name": "stdout",
     "output_type": "stream",
     "text": [
      "0.3333333333333333148296162562473909929394721984863281250000000000000000000000000000000000000000000000\n"
     ]
    }
   ],
   "source": [
    "print(f\"{1/3:.100f}\")"
   ]
  },
  {
   "cell_type": "code",
   "execution_count": 39,
   "metadata": {},
   "outputs": [
    {
     "name": "stdout",
     "output_type": "stream",
     "text": [
      "cos(0.5) = 0.8775825618903728\n"
     ]
    }
   ],
   "source": [
    "# Importa a biblioteca com funções prontas. Estamos usando a função que calcula o cosseno com math.cos()\n",
    "import math\n",
    "\n",
    "x = 0.5\n",
    "\n",
    "print(f'cos({x}) = {math.cos(x)}')"
   ]
  },
  {
   "cell_type": "markdown",
   "metadata": {},
   "source": [
    "Podemos modificar o número de casas decimais da mensagem de saída, repare na diferença para o anterior. Adicionamos ```:.1f``` e ```:.3f``` entre as chaves."
   ]
  },
  {
   "cell_type": "code",
   "execution_count": 10,
   "metadata": {},
   "outputs": [
    {
     "name": "stdout",
     "output_type": "stream",
     "text": [
      "cos(0.5) = 0.9\n",
      "cos(0.5) = 0.878\n"
     ]
    }
   ],
   "source": [
    "import math\n",
    "\n",
    "x = 0.5\n",
    "\n",
    "print(f'cos({x}) = {math.cos(x):.1f}')\n",
    "print(f'cos({x}) = {math.cos(x):.3f}')"
   ]
  },
  {
   "cell_type": "markdown",
   "metadata": {},
   "source": [
    "Por enquanto, o que vamos precisar saber, é somente formatar as casas decimais da saída. Vários exercícios irão solicitar isso de vocês.\n",
    "\n",
    "Entretanto, a formatação possui diversos recursos bem interessantes. Para saber mais, consulte a [documentação](https://docs.python.org/3/library/string.html#format-specification-mini-language)."
   ]
  },
  {
   "cell_type": "code",
   "execution_count": 14,
   "metadata": {},
   "outputs": [
    {
     "name": "stdout",
     "output_type": "stream",
     "text": [
      "12.45\n",
      "74.2\n",
      "Soma = 86.6500\n",
      "Subtração = -61.7500\n",
      "Multiplicação = 923.7900\n",
      "Divisão = 0.1678\n"
     ]
    }
   ],
   "source": [
    "# Faça um programa que leia 2 valores float (números reais) e exiba as 4 operações básicas.\n",
    "#    mostrando os valores sempre com 4 casas decimais\n",
    "\n",
    "valor1 = float(input())\n",
    "valor2 = float(input())\n",
    "\n",
    "soma = valor1 + valor2\n",
    "sub = valor1 - valor2\n",
    "mult = valor1 * valor2\n",
    "div = valor1 / valor2\n",
    "\n",
    "print(f\"Soma = {soma:.4f}\")\n",
    "print(f\"Subtração = {sub:.4f}\")\n",
    "print(f\"Multiplicação = {mult:.4f}\")\n",
    "print(f\"Divisão = {div:.4f}\")"
   ]
  },
  {
   "cell_type": "code",
   "execution_count": 19,
   "metadata": {},
   "outputs": [
    {
     "name": "stdout",
     "output_type": "stream",
     "text": [
      "10\n",
      "7\n",
      "0\n",
      "A média do aluno foi 5.67\n"
     ]
    }
   ],
   "source": [
    "# Faça um programa que leia 3 notas numerada de 0.0 até 10.0, \n",
    "#    calcule e exiba a média com 2 casas decimais.\n",
    "\n",
    "nota1 = float(input())\n",
    "nota2 = float(input())\n",
    "nota3 = float(input())\n",
    "\n",
    "media =  (nota1+nota2+nota3)/3\n",
    "\n",
    "print(f\"A média do aluno foi {media:.2f}\")"
   ]
  },
  {
   "cell_type": "code",
   "execution_count": 18,
   "metadata": {},
   "outputs": [
    {
     "name": "stdout",
     "output_type": "stream",
     "text": [
      "10\n",
      "7\n",
      "0\n",
      "A média do aluno foi 4.60\n"
     ]
    }
   ],
   "source": [
    "#Mesma coisa do programa anterior, mas agora calcule a média ponderada, \n",
    "#    onde as notas tem os seguintes pesos: 25, 30 e 45.\n",
    "\n",
    "nota1 = float(input())\n",
    "nota2 = float(input())\n",
    "nota3 = float(input())\n",
    "\n",
    "media =  (nota1*25+nota2*30+nota3*45)/100\n",
    "\n",
    "print(f\"A média do aluno foi {media:.2f}\")"
   ]
  },
  {
   "cell_type": "code",
   "execution_count": 21,
   "metadata": {},
   "outputs": [
    {
     "name": "stdout",
     "output_type": "stream",
     "text": [
      "3.33\n",
      "6.4433\n",
      "A área é 10.728\n"
     ]
    }
   ],
   "source": [
    "# Faça um programa em python que calcule a área de um triângulo\n",
    "#   dado a base e a altura em números float. \n",
    "#   Imprima a área com 3 casas decimais.\n",
    "\n",
    "###   A = b*h/2    ###\n",
    "\n",
    "base = float(input())\n",
    "altura = float(input())\n",
    "\n",
    "area = (base * altura)/2\n",
    "\n",
    "print(f\"A área é {area:.3f}\")\n"
   ]
  },
  {
   "cell_type": "code",
   "execution_count": 22,
   "metadata": {},
   "outputs": [
    {
     "name": "stdout",
     "output_type": "stream",
     "text": [
      "30\n",
      "O grau 30.0 em celsius corresponde a 86.00 em Fahrenheit.\n"
     ]
    }
   ],
   "source": [
    "# Faça um programa em python que leia um grau em Celsius e converta ele para Fahrenheit.\n",
    "#     Exiba o valores com duas casas decimais.\n",
    "\n",
    "###    F = (C * 9/5) + 32  ###\n",
    "\n",
    "celsius = float(input())\n",
    "fahr = (celsius * 9/5) + 32\n",
    "print(f\"O grau {celsius} em celsius corresponde a {fahr:.2f} em Fahrenheit.\")"
   ]
  },
  {
   "cell_type": "code",
   "execution_count": 3,
   "metadata": {},
   "outputs": [
    {
     "name": "stdout",
     "output_type": "stream",
     "text": [
      "João\n",
      "89\n",
      "1.85\n",
      "João possui imc = 26.0\n"
     ]
    }
   ],
   "source": [
    "# Faça um programa que calcule o IMC de uma pessoa.\n",
    "# Leia o Nome, Peso e Altura da pessoa.\n",
    "# Aplique a fórmula:        IMC = peso/(altura**2)\n",
    "# Exiba o resultado com 1 casa decimal.\n",
    "\n",
    "nome = input()\n",
    "peso = float(input())\n",
    "altura = float(input())\n",
    "\n",
    "imc = peso/(altura**2)\n",
    "print(f\"{nome} possui imc = {imc:.1f}\")"
   ]
  },
  {
   "cell_type": "code",
   "execution_count": null,
   "metadata": {},
   "outputs": [],
   "source": []
  },
  {
   "cell_type": "markdown",
   "metadata": {},
   "source": [
    "Vamos analisar uma situação peculiar de alguns problemas que vocês irão resolver de agora em diante. Observe as entradas do problema 1013.\n",
    "\n",
    "<img src=\"./Imagens/05-01.png\">\n",
    "\n",
    "O método `input()` lê uma linha inteira de informações, independente do que está escrito lá.\n",
    "\n",
    "Vamos simular a entrada desse problema:"
   ]
  },
  {
   "cell_type": "code",
   "execution_count": 4,
   "metadata": {},
   "outputs": [
    {
     "name": "stdout",
     "output_type": "stream",
     "text": [
      "7 14 106\n",
      "A entrada foi '7 14 106'\n"
     ]
    }
   ],
   "source": [
    "entrada = input()\n",
    "print(f\"\"\"A entrada foi '{entrada}'\"\"\")"
   ]
  },
  {
   "cell_type": "markdown",
   "metadata": {},
   "source": [
    "O que é a informação '7 14 106'?\n",
    "\n",
    "É somente um texto, precisamos separar esse texto, exatamente em 3 partes. \n",
    "\n",
    "Para isso, existe um método chamado `split()` que corta o texto pelos espaços em branco. Esse método será aplicado após a execução do `input()`."
   ]
  },
  {
   "cell_type": "code",
   "execution_count": 8,
   "metadata": {},
   "outputs": [
    {
     "name": "stdout",
     "output_type": "stream",
     "text": [
      "7 14 106\n",
      "Agora temos 3 valores: '7', '14' e '106'\n"
     ]
    }
   ],
   "source": [
    "valorA, valorB, valorC = input().split()\n",
    "print(f\"\"\"Agora temos 3 valores: '{valorA}', '{valorB}' e '{valorC}'\"\"\")\n"
   ]
  },
  {
   "cell_type": "markdown",
   "metadata": {},
   "source": [
    "Entretanto, temos mais problema, precisamos converter cada um dos elementos para seu tipo adequado, pois eles são somente texto e não números."
   ]
  },
  {
   "cell_type": "code",
   "execution_count": 9,
   "metadata": {},
   "outputs": [
    {
     "name": "stdout",
     "output_type": "stream",
     "text": [
      "<class 'str'>\n"
     ]
    }
   ],
   "source": [
    "print(type(valorA))"
   ]
  },
  {
   "cell_type": "code",
   "execution_count": 10,
   "metadata": {},
   "outputs": [
    {
     "name": "stdout",
     "output_type": "stream",
     "text": [
      "<class 'int'>\n"
     ]
    }
   ],
   "source": [
    "valorA = int(valorA)\n",
    "print(type(valorA))"
   ]
  },
  {
   "cell_type": "markdown",
   "metadata": {},
   "source": [
    "Então a leitura desses 3 valores de entrada na mesma linha poderia ficar algo assim.\n"
   ]
  },
  {
   "cell_type": "code",
   "execution_count": 16,
   "metadata": {},
   "outputs": [
    {
     "name": "stdout",
     "output_type": "stream",
     "text": [
      "7 14 106\n",
      "106 eh o maior\n"
     ]
    }
   ],
   "source": [
    "valorA, valorB, valorC = input().split()\n",
    "valorA = int(valorA)\n",
    "valorB = int(valorB)\n",
    "valorC = int(valorC)\n",
    "\n",
    "#Podendo continuar o desenvolvimento de assim por diante.\n",
    "\n",
    "maiorAB = (valorA + valorB + abs(valorA - valorB))/2\n",
    "\n",
    "maiorABC = (maiorAB + valorC + abs(maiorAB - valorC))/2\n",
    "\n",
    "print(f\"{int(maiorABC)} eh o maior\")\n"
   ]
  },
  {
   "cell_type": "markdown",
   "metadata": {},
   "source": [
    "Agora podem começar a fazer a **Lista 3 - Números reais**.\n",
    "\n",
    "**Dica**: A quantidade de linhas de entrada, será a quantidade de `input()` que deverá ser feito no seu programa.\n"
   ]
  },
  {
   "cell_type": "code",
   "execution_count": null,
   "metadata": {},
   "outputs": [],
   "source": []
  },
  {
   "cell_type": "code",
   "execution_count": null,
   "metadata": {},
   "outputs": [],
   "source": []
  },
  {
   "cell_type": "code",
   "execution_count": null,
   "metadata": {},
   "outputs": [],
   "source": []
  },
  {
   "cell_type": "code",
   "execution_count": null,
   "metadata": {},
   "outputs": [],
   "source": []
  },
  {
   "cell_type": "code",
   "execution_count": null,
   "metadata": {},
   "outputs": [],
   "source": []
  }
 ],
 "metadata": {
  "kernelspec": {
   "display_name": "Python 3",
   "language": "python",
   "name": "python3"
  },
  "language_info": {
   "codemirror_mode": {
    "name": "ipython",
    "version": 3
   },
   "file_extension": ".py",
   "mimetype": "text/x-python",
   "name": "python",
   "nbconvert_exporter": "python",
   "pygments_lexer": "ipython3",
   "version": "3.7.6"
  }
 },
 "nbformat": 4,
 "nbformat_minor": 4
}
