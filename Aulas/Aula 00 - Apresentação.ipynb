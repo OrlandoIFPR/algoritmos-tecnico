{
 "cells": [
  {
   "cell_type": "markdown",
   "metadata": {},
   "source": [
    "### <center>Algoritmos e Estruturas de Dados</center>\n",
    "\n",
    "#### <center>Apresentação da disciplina</center>\n",
    "\n",
    "\n",
    "**Prof**: João Paulo Orlando\n",
    "\n",
    "**Curso**: Técnico em Informática Integrado ao Ensino Médio"
   ]
  },
  {
   "cell_type": "markdown",
   "metadata": {},
   "source": [
    "### Minha Apresentação\n",
    "\n",
    "#### Formação\n",
    "\n",
    "* Técnico em informática (2004)\n",
    "* Bacharel em Ciência da Computação (2010)\n",
    "* Mestre em Ciências da Computação e Matemática Computacional (2012)\n",
    "* Doutor em Ciências da Computação e Matemática Computacional (2017)\n",
    "\n",
    "#### Atuação\n",
    "Professor do IF:\n",
    "* Desenvolvedor de software na empresa Agrosoft (2004-2006)\n",
    "* Dono da empresa de desenvolvimento de software SmartSoft (2008-2010)\n",
    "* Professor do IFSP (2016-2020)\n",
    "* Professor do IFC (2020-2023)\n",
    "* Professor do IFPR (2023-...)"
   ]
  },
  {
   "cell_type": "markdown",
   "metadata": {},
   "source": [
    "### Disciplina\n",
    "\n",
    "#### Ementa\n",
    "\n",
    "Conceitos de fundamentos de algoritmos. Variáveis. Operadores Aritméticos, Relacionais e Lógicos.\n",
    "Tipos de Dados. Estruturas de decisão. Estruturas de repetição. Funções. Vetores. Matrizes.\n",
    "Estruturas Heterogêneas. Manipulação de Arquivos. Ponteiros. Alocação Dinâmica de Memória. Listas.\n",
    "Pilhas. Filas. Temas transversais conforme Res. CNE/CEB no 02/2012. Exibição de filmes de\n",
    "produção nacional no contexto da disciplina conforme § 8o do artigo 26 da Lei no 9.394/1996."
   ]
  },
  {
   "cell_type": "markdown",
   "metadata": {},
   "source": [
    "#### Objetivo Geral:\n",
    "Capacitar os alunos a compreenderem e aplicarem os conceitos fundamentais de algoritmos utilizando a linguagem de programação Python, desenvolvendo habilidades para a resolução de problemas computacionais por meio da manipulação eficiente de variáveis, operadores aritméticos, relacionais e lógicos, tipos de dados, estruturas de decisão, estruturas de repetição, funções, vetores, matrizes, estruturas heterogêneas, manipulação de arquivos, listas, pilhas e filas.\n",
    "\n",
    "#### Objetivos Específicos:\n",
    "\n",
    "* Compreender os conceitos fundamentais de algoritmos e a lógica de programação.\n",
    "* Dominar o uso de variáveis e entender como armazenar e manipular dados na linguagem Python.\n",
    "* Aplicar eficientemente operadores aritméticos, relacionais e lógicos em expressões matemáticas e lógicas.\n",
    "* Identificar e utilizar adequadamente diferentes tipos de dados em Python.\n",
    "* Implementar estruturas de decisão para tomada de decisões dentro de um programa.\n",
    "* Desenvolver algoritmos com estruturas de repetição para automação de tarefas repetitivas.\n",
    "* Criar e utilizar funções para modularizar o código e promover a reutilização de código.\n",
    "* Trabalhar com vetores e matrizes para manipulação eficiente de conjuntos de dados.\n",
    "* Utilizar estruturas heterogêneas para representar e manipular dados complexos.\n",
    "* Aplicar técnicas de manipulação de arquivos para leitura e escrita de dados em programas Python.\n",
    "* Implementar listas, pilhas e filas, compreendendo suas características e aplicações específicas.\n",
    "* Desenvolver habilidades de resolução de problemas práticos por meio da aplicação integrada de todos os conceitos aprendidos durante o curso.\n",
    "* Estimular a colaboração e o trabalho em equipe na resolução de desafios de programação."
   ]
  },
  {
   "cell_type": "markdown",
   "metadata": {},
   "source": [
    "#### BIBLIOGRAFIA BÁSICA\n",
    "\n",
    "ASCENCIO, A.F.G.; CAMPOS, E.A.V. **Fundamentos da Programação de Computadores: Algoritmos, Pascal, C, C++ e Java**. São Paulo: Prentice-Hall, 3a Edição, 2012.\n",
    "\n",
    "FORBELLONE, A. L. V. Eberspacher, H. F. **Lógica de Programação: a construção de algoritmos**. São Paulo: Makron Books, 2000.\n",
    "\n",
    "MEDINA, Marco. **Algoritmos e programação: teoria e prática**. Novatec, 2005.\n",
    "\n",
    "CORMEN, Thomas. **Desmistificando algoritmos**. Elsevier Brasil, 2017.\n",
    "\n",
    "MEDINA, Marco; FERTING, Cristina. **Algoritmos e programação: teoria e prática**. Novatec Editora, 2006."
   ]
  },
  {
   "cell_type": "markdown",
   "metadata": {},
   "source": [
    "#### BIBLIOGRAFIA COMPLEMENTAR\n",
    "\n",
    "MIZRAHI, Victorine V. **Treinamento em linguagem C - Módulo 2**. Prentice Hall, 2004.\n",
    "\n",
    "SCHILDT, H. **C Completo e Total**. 3 ed. São Paulo: Makron Books, 1997.\n",
    "\n",
    "ZIVIANI, N. **Projeto de algoritmos com implementação em Pascal e C**. São Paulo: Pioneira, 2000.\n",
    "\n",
    "SZWARCFITER, Jayme Luiz; MARKENZON, Lilian. **Estruturas de Dados e seus Algoritmos. Livros Técnicos e Científicos**, 1994.\n",
    "\n",
    "FEOFILOFF, Paulo. **Algoritmos em linguagem C**. Elsevier Brasil, 2009."
   ]
  },
  {
   "cell_type": "markdown",
   "metadata": {},
   "source": [
    "#### BIBLIOGRAFIA EXTRA ONLINE\n",
    "\n",
    "[w3schools](https://www.w3schools.com/python/default.asp)\n",
    "\n",
    "[Introdução à Computação com Python: um curso interativo](https://panda.ime.usp.br/panda/static/cc110/index.html)\n",
    "\n",
    "[Snakify](https://snakify.org/pt/)\n",
    "\n",
    "[Learnpython](https://learnpython.org/)\n",
    "\n",
    "\n",
    "#### Cursos gratuitos\n",
    "\n",
    "[codecademy](https://www.codecademy.com/search?query=python)\n",
    "\n",
    "[Curso em Vídeo - Em português](https://www.youtube.com/watch?v=S9uPNppGsGo&list=PLHz_AreHm4dlKP6QQCekuIPky1CiwmdI6)"
   ]
  },
  {
   "cell_type": "code",
   "execution_count": null,
   "metadata": {},
   "outputs": [
    {
     "ename": "",
     "evalue": "",
     "output_type": "error",
     "traceback": [
      "\u001b[1;31mRunning cells with 'c:\\Python310\\python.exe' requires the ipykernel package.\n",
      "\u001b[1;31mRun the following command to install 'ipykernel' into the Python environment. \n",
      "\u001b[1;31mCommand: 'c:/Python310/python.exe -m pip install ipykernel -U --user --force-reinstall'"
     ]
    }
   ],
   "source": [
    "# Criar um programa que o usuário informe 3 notas e calcule a média, \n",
    "## sendo que a 1ª nota tem peso 2, a 2ª nota tem peso 3 e a 3ª nota tem peso 5.\n",
    "## Após isso, exiba o resultado da média.\n",
    "\n",
    "input()"
   ]
  },
  {
   "cell_type": "markdown",
   "metadata": {},
   "source": [
    "#### Critérios e formas de avaliação\n",
    "\n",
    "No transcorrer de cada bimestre teremos 2 avaliações que poderão ser:\n",
    "* 1 prova e listas de exercícios, ou\n",
    "* 1 prova e 1 trabalho prático, ou\n",
    "* 1 prova e 1 avaliação de comportamento/participação em sala de aula.\n",
    " \n",
    "A média de cada bimestre é feita através do cálculo: Média = (P\\*6 + A\\*4) / 10, onde P é a prova e A é a atividade complementar da nota, podendo ser listas de exercícios ou trabalho prático ou avaliação do comportamento/participação em sala de aula.\n",
    "\n",
    "**Importante: A atividade complementar poderá sofrer alterações no decorrer do bimestre.**\n",
    "\n",
    "A média de cada bimestre serão convertido em conceito seguindo essas regras:\n",
    "\n",
    "```\n",
    "9,0 <= A <= 10,0\n",
    "\n",
    "7,5 <= B <= 8,9\n",
    "\n",
    "6,0 <= C <= 7,4\n",
    "\n",
    "       D <= 5,9```\n",
    "\n",
    "***Importante: Para aprovação é necessário obter todos os conceitos iguais ou superiores à C.***\n",
    "\n",
    "\n",
    "\n",
    "Nas listas de exercícios, o sistema de anti-plágio estará ativado, caso identifique alguma suspeita de plágio, convocarei o(s) aluno(s) para realizar uma atividade presencial de resolução e apresentação dos exercícios resolvidos.\n",
    "\n",
    "As listas de exercícios deverão ser feitas no site [Beecrowd](https://www.beecrowd.com.br). Para tanto, vocês devem fazer o cadastro nesse site. Acessar as listas de exercícios através do botão **Academic**, digitando:\n",
    "\n",
    "ID Disciplina: **11991**\n",
    "\n",
    "Chave: **YFJncvl** \n",
    "\n",
    "Outras informações serão passadas mais adiante.\n"
   ]
  },
  {
   "cell_type": "markdown",
   "metadata": {},
   "source": [
    "#### Atendimento\n",
    "\n",
    "Os meus horários de atendimentos serão exclusivamente:\n",
    "\n",
    "* Por e-mail: joaopauloorlando@gmail.com (preferencial) ou joao.orlando@ifpr.edu.br\n",
    "\n",
    "* Na minha sala nos seguintes horários:\n",
    "\n",
    "    - Segunda-feira das 13:00 horas até 15:00 horas e \n",
    "    - Quarta-feira das 13:00 horas até 15:00 horas.\n",
    "    \n",
    "\n",
    "* Por WhatsApp, não estarei atendendo, salvo exceções quando autorizar e passar o número."
   ]
  },
  {
   "cell_type": "markdown",
   "metadata": {},
   "source": [
    "#### Dúvidas?"
   ]
  }
 ],
 "metadata": {
  "kernelspec": {
   "display_name": "Python 3",
   "language": "python",
   "name": "python3"
  },
  "language_info": {
   "codemirror_mode": {
    "name": "ipython",
    "version": 3
   },
   "file_extension": ".py",
   "mimetype": "text/x-python",
   "name": "python",
   "nbconvert_exporter": "python",
   "pygments_lexer": "ipython3",
   "version": "3.10.4"
  }
 },
 "nbformat": 4,
 "nbformat_minor": 4
}
