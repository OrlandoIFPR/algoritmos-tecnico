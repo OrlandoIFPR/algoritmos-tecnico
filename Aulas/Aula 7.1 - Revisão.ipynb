{
 "cells": [
  {
   "cell_type": "markdown",
   "id": "fb99e3e8",
   "metadata": {},
   "source": [
    "#### Entradas\n",
    "\n",
    "**Tipos de entrada:**\n",
    "\n",
    "Leia 4 valores inteiros na mesma linha:\n",
    "\n",
    "12 7 4 10\n",
    "\n",
    "Leia 4 valores inteiros um em cada linha:\n",
    "\n",
    "12\n",
    "\n",
    "7\n",
    "\n",
    "4\n",
    "\n",
    "10"
   ]
  },
  {
   "cell_type": "code",
   "execution_count": 7,
   "id": "38c1b825",
   "metadata": {},
   "outputs": [
    {
     "name": "stdout",
     "output_type": "stream",
     "text": [
      "12 7 4 10\n",
      "19\n"
     ]
    }
   ],
   "source": [
    "a, b, c, d = input().split()\n",
    "\n",
    "a = int(a)\n",
    "b = int(b)\n",
    "c = int(c)\n",
    "d = int(d)\n",
    "\n",
    "print(a+b)"
   ]
  },
  {
   "cell_type": "code",
   "execution_count": 2,
   "id": "646e7299",
   "metadata": {},
   "outputs": [
    {
     "name": "stdout",
     "output_type": "stream",
     "text": [
      "12\n",
      "7\n",
      "4\n",
      "10\n"
     ]
    }
   ],
   "source": [
    "### Segunda forma\n",
    "\n",
    "a = int(input())\n",
    "b = int(input())\n",
    "c = int(input())\n",
    "d = int(input())\n"
   ]
  },
  {
   "cell_type": "code",
   "execution_count": 9,
   "id": "515fc61c",
   "metadata": {},
   "outputs": [
    {
     "name": "stdout",
     "output_type": "stream",
     "text": [
      "22\n",
      "8\n",
      "105\n",
      "2.14\n"
     ]
    }
   ],
   "source": [
    "a = 15\n",
    "b = 7\n",
    "\n",
    "\n",
    "print(a+b)\n",
    "print(a-b)\n",
    "print(a*b)\n",
    "print(f\"{a/b:.2f}\" )"
   ]
  },
  {
   "cell_type": "code",
   "execution_count": 11,
   "id": "15cd82da",
   "metadata": {},
   "outputs": [
    {
     "name": "stdout",
     "output_type": "stream",
     "text": [
      "2\n",
      "1\n"
     ]
    }
   ],
   "source": [
    "a = 15\n",
    "b = 7\n",
    "\n",
    "#divisão inteira\n",
    "print(a//b)\n",
    "\n",
    "#resto da divisão\n",
    "\n",
    "print(a%b)"
   ]
  },
  {
   "cell_type": "code",
   "execution_count": 14,
   "id": "84c4d26e",
   "metadata": {},
   "outputs": [
    {
     "name": "stdout",
     "output_type": "stream",
     "text": [
      "3850.00\n"
     ]
    }
   ],
   "source": [
    "salario = 3500.00\n",
    "\n",
    "salario = salario * 1.1\n",
    "print(f\"{salario:.2f}\")\n"
   ]
  },
  {
   "cell_type": "code",
   "execution_count": null,
   "id": "aa9bc0ba",
   "metadata": {},
   "outputs": [],
   "source": [
    "#Leitura de um número real\n",
    "\n",
    "salario = float(input())\n"
   ]
  },
  {
   "cell_type": "code",
   "execution_count": 15,
   "id": "97a91ed1",
   "metadata": {},
   "outputs": [
    {
     "name": "stdout",
     "output_type": "stream",
     "text": [
      "3.0\n"
     ]
    }
   ],
   "source": [
    "# Raiz quadrada\n",
    "\n",
    "num = 9\n",
    "\n",
    "print(num**(1/2))"
   ]
  },
  {
   "cell_type": "code",
   "execution_count": 16,
   "id": "401c88f7",
   "metadata": {},
   "outputs": [
    {
     "name": "stdout",
     "output_type": "stream",
     "text": [
      "3.0\n"
     ]
    }
   ],
   "source": [
    "# Raiz quadrada com biblioteca\n",
    "\n",
    "import math as mt\n",
    "\n",
    "num = 9\n",
    "print( mt.sqrt(9))\n",
    "\n"
   ]
  },
  {
   "cell_type": "code",
   "execution_count": 17,
   "id": "2a783b44",
   "metadata": {},
   "outputs": [
    {
     "name": "stdout",
     "output_type": "stream",
     "text": [
      "343\n"
     ]
    }
   ],
   "source": [
    "# Exponencial\n",
    "\n",
    "num = 7\n",
    "exp = 3\n",
    "\n",
    "print(num**3)"
   ]
  },
  {
   "cell_type": "code",
   "execution_count": 20,
   "id": "fb3c926b",
   "metadata": {},
   "outputs": [
    {
     "name": "stdout",
     "output_type": "stream",
     "text": [
      "Me chamo João Paulo, tenho 45 anos.\n"
     ]
    }
   ],
   "source": [
    "nome = \"João Paulo\"\n",
    "idade = 45\n",
    "\n",
    "print(f\"Me chamo {nome}, tenho {idade} anos.\")\n"
   ]
  },
  {
   "cell_type": "markdown",
   "id": "1cac6bad",
   "metadata": {},
   "source": [
    "#### Booleanos"
   ]
  },
  {
   "cell_type": "code",
   "execution_count": null,
   "id": "9ff7329d",
   "metadata": {},
   "outputs": [],
   "source": [
    "isAdult = True\n",
    "isAdult = False\n"
   ]
  },
  {
   "cell_type": "code",
   "execution_count": 25,
   "id": "707780bf",
   "metadata": {},
   "outputs": [
    {
     "name": "stdout",
     "output_type": "stream",
     "text": [
      "False\n"
     ]
    }
   ],
   "source": [
    "age = 15\n",
    "\n",
    "isAdult = age >= 18\n",
    "\n",
    "print(isAdult)"
   ]
  },
  {
   "cell_type": "code",
   "execution_count": 29,
   "id": "8f7ac9a5",
   "metadata": {},
   "outputs": [
    {
     "name": "stdout",
     "output_type": "stream",
     "text": [
      "True\n"
     ]
    }
   ],
   "source": [
    "age = 16\n",
    "isEmancipated = True\n",
    "\n",
    "\n",
    "isAdult = age >= 18 or isEmancipated\n",
    "\n",
    "print(isAdult)"
   ]
  },
  {
   "cell_type": "code",
   "execution_count": 32,
   "id": "fdae76a8",
   "metadata": {},
   "outputs": [
    {
     "name": "stdout",
     "output_type": "stream",
     "text": [
      "True\n"
     ]
    }
   ],
   "source": [
    "num = 49\n",
    "\n",
    "ehMultiplo = num%3==0 or num%5==0 or num%7==0\n",
    "\n",
    "print(ehMultiplo)"
   ]
  },
  {
   "cell_type": "code",
   "execution_count": 36,
   "id": "bcf8a57d",
   "metadata": {},
   "outputs": [
    {
     "name": "stdout",
     "output_type": "stream",
     "text": [
      "False\n"
     ]
    }
   ],
   "source": [
    "num = 35\n",
    "\n",
    "\n",
    "ehMultiplo = num%3==0 and num%5==0 and num%7==0\n",
    "\n",
    "print(ehMultiplo)"
   ]
  },
  {
   "cell_type": "code",
   "execution_count": 41,
   "id": "76b1dda6",
   "metadata": {},
   "outputs": [
    {
     "name": "stdout",
     "output_type": "stream",
     "text": [
      "False\n"
     ]
    }
   ],
   "source": [
    "num = 1\n",
    "ehDif = num != 1 and num != 2\n",
    "\n",
    "print(ehDif)"
   ]
  }
 ],
 "metadata": {
  "kernelspec": {
   "display_name": "Python 3 (ipykernel)",
   "language": "python",
   "name": "python3"
  },
  "language_info": {
   "codemirror_mode": {
    "name": "ipython",
    "version": 3
   },
   "file_extension": ".py",
   "mimetype": "text/x-python",
   "name": "python",
   "nbconvert_exporter": "python",
   "pygments_lexer": "ipython3",
   "version": "3.11.7"
  }
 },
 "nbformat": 4,
 "nbformat_minor": 5
}
