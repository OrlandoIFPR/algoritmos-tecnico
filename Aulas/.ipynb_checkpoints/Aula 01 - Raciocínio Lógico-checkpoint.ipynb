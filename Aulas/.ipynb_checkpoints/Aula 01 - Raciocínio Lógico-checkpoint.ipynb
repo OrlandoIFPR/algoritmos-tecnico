{
 "cells": [
  {
   "cell_type": "markdown",
   "metadata": {},
   "source": [
    "### <center>Algoritmos e Estruturas de Dados</center>\n",
    "\n",
    "#### <center>Raciocínio Lógico</center>\n",
    "\n",
    "\n",
    "**Prof**: João Paulo Orlando\n",
    "\n",
    "**Curso**: Técnico em Informática Integrado ao Ensino Médio"
   ]
  },
  {
   "cell_type": "markdown",
   "metadata": {},
   "source": [
    "#### Bem-vindo ao fascinante mundo do Raciocínio Lógico!!!! \n",
    "\n",
    "Imaginem que o raciocínio lógico é como ser um detetive brilhante, assim como o astuto Sherlock Holmes. Vocês, como detetives lógicos, têm que resolver enigmas e mistérios usando a lógica para conectar as peças do quebra-cabeça.\n",
    "\n",
    "Então, vocês entram na cena do crime, que é como um quebra-cabeça bagunçado. O raciocínio lógico é a sua lupa mental, e cada pista é como uma pista numérica ou uma regra que precisa ser seguida.\n",
    "\n",
    "Sherlock Holmes, com sua mente afiada, observa tudo ao seu redor. Da mesma forma, no raciocínio lógico, vocês observam as relações entre as pistas, procuram padrões e eliminam as opções que não fazem sentido.\n",
    "\n",
    "Assim como Holmes deduz as motivações dos suspeitos, no raciocínio lógico, vocês deduzem as conclusões usando as informações disponíveis. É como resolver um quebra-cabeça gigante, onde todas as peças se encaixam de maneira lógica.\n",
    "\n",
    "No final, assim como Sherlock Holmes revela o culpado, no raciocínio lógico, vocês chegam a uma conclusão sólida e coerente. A lógica é a sua arma, e a resolução do mistério é a sua vitória.\n",
    "\n",
    "Então, a partir de agora, quando estiverem programando, imaginem-se com a mente aguçada de Sherlock Holmes, prontos para desvendar qualquer enigma que a lógica possa aparecer!"
   ]
  },
  {
   "cell_type": "markdown",
   "metadata": {},
   "source": [
    "#### Primeiros desafios\n",
    "\n"
   ]
  },
  {
   "cell_type": "markdown",
   "metadata": {},
   "source": [
    "##### Desafio 1: Lobo, Carneiro e Repolho\n",
    "\n",
    "Dificuldade: Nível fácil\n",
    "\n",
    "O barquinho do camponês comporta apenas um item, além dele próprio. O barquinho pode levar e trazer itens. Você deve ficar atento às seguintes regras:\n",
    "\n",
    "* O lobo devora o carneiro se os dois ficarem sozinhos e;\n",
    "* O carneiro come o repolho se ficar sozinha com ele.\n",
    "\n",
    "Clique no item que deseja levar para o outro lado e, em seguida, clique no barco.\n",
    "\n",
    "[Acesse o jogo aqui](https://www.atividadeseducativas.com.br/index.php?id=6803)"
   ]
  },
  {
   "cell_type": "markdown",
   "metadata": {},
   "source": [
    "##### Desafio 2: Missionários e Canibais\n",
    "\n",
    "Dificuldade: Nível médio\n",
    "\n",
    "Os missionários não podem ficar em menor número, em qualquer uma das margens, ou os canibais os devorarão.\n",
    "\n",
    "[Acesse o jogo aqui](https://www.atividadeseducativas.com.br/index.php?id=6802)"
   ]
  },
  {
   "cell_type": "markdown",
   "metadata": {},
   "source": [
    "##### Desafio 3: Ponte Escura\n",
    "\n",
    "Dificuldade: Nível difícil\n",
    "\n",
    "Use a lamparina e guie todas as pessoas até o outro lado da ponte escura.\n",
    "\n",
    "A lamparina tem uma chama com duração de 30 minutos e cada pessoa leva um determinado tempo (mostrado nos balões) para atravessar a ponte. Use o mouse para escolher as duas pessoas que vão atravessar a ponte. Fique atento, pois as duas pessoas escolhidas irão atravessar a ponte no tempo da pessoa mais lerda.\n",
    "\n",
    "[Acesse o jogo aqui](https://www.atividadeseducativas.com.br/index.php?id=10590)"
   ]
  },
  {
   "cell_type": "markdown",
   "metadata": {},
   "source": [
    "##### Extras\n",
    "\n",
    "[Teste de Einstein](https://www.geniol.com.br/logica/problemas/teste-de-einstein/)\n",
    "\n",
    "[Leap Froggies](https://www.neok12.com/games/leap-froggies/leap-froggies.htm)"
   ]
  }
 ],
 "metadata": {
  "kernelspec": {
   "display_name": "Python 3",
   "language": "python",
   "name": "python3"
  },
  "language_info": {
   "codemirror_mode": {
    "name": "ipython",
    "version": 3
   },
   "file_extension": ".py",
   "mimetype": "text/x-python",
   "name": "python",
   "nbconvert_exporter": "python",
   "pygments_lexer": "ipython3",
   "version": "3.7.6"
  }
 },
 "nbformat": 4,
 "nbformat_minor": 4
}
