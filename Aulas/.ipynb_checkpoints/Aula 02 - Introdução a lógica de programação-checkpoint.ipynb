{
 "cells": [
  {
   "cell_type": "markdown",
   "metadata": {},
   "source": [
    "### <center>Programação I</center>\n",
    "\n",
    "#### <center>Lógica de programação</center>\n",
    "\n",
    "\n",
    "**Prof.**: João Paulo Orlando\n",
    "\n",
    "**Curso**: Técnico em Informática Integrado ao Ensino Médio"
   ]
  },
  {
   "cell_type": "markdown",
   "metadata": {},
   "source": [
    "Para começar a aplicar lógica de programação, precisamos ter um problema a ser resolvido.\n",
    "\n",
    "***\\\"Faça o caminho e me guie até o porco bobo!\" Evite as TNTs ou penas irão voar!***\n",
    "\n",
    "<img src=\".\\Imagens\\02-01.png\" width=\"250\">"
   ]
  },
  {
   "cell_type": "markdown",
   "metadata": {},
   "source": [
    "#### Lógica\n",
    "A lógica de programação é necessária para pessoas que desejam trabalhar com desenvolvimento de sistemas e programas, ela permite definir a sequência lógica para o desenvolvimento.\n",
    "\n",
    "Então o que é lógica?\n",
    "\n",
    "**Lógica de programação é a técnica de encadear pensamentos para atingir determinado objetivo.**\n",
    "\n",
    "Voltando ao nosso problema com porquinhos. **Quais passos o passarinho precisa fazer para alcançar o porquinho?**"
   ]
  },
  {
   "cell_type": "markdown",
   "metadata": {},
   "source": [
    "#### Sequência Lógica\n",
    "\n",
    "Estes pensamentos, podem ser descritos como uma sequência de instruções, que devem ser seguidas para se cumprir uma determinada tarefa.\n",
    "\n",
    "**Sequência Lógica são passos executados até atingir um objetivo ou solução de um problema.**\n",
    "\n",
    "Voltando ao nosso problema com porquinhos. **Qual das 4 sequencias lógicas alcançara o objetivo?**\n",
    "\n",
    "\n",
    "<img src=\"./Imagens/02-02.png\" width=\"400\">"
   ]
  },
  {
   "cell_type": "markdown",
   "metadata": {},
   "source": [
    "#### Instruções\n",
    "\n",
    "Na linguagem comum, entende-se por instruções “**um conjunto de regras ou normas definidas para a realização ou emprego de algo**”.\n",
    "\n",
    "Em informática, porém, instrução é a informação que indica a um computador uma ação elementar a executar.\n",
    "Convém ressaltar que uma ordem isolada não permite realizar o processo completo, para isso é necessário um conjunto de instruções colocadas em ordem sequencial lógica.\n",
    "\n",
    "Por exemplo, se quisermos fazer uma omelete de batatas, precisaremos colocar em prática uma série de instruções: descascar as batatas, bater os ovos, fritar as batatas, etc.\n",
    "\n",
    "É evidente que essas instruções têm que ser executadas em uma ordem adequada – não se pode descascar as batatas após fritá-las.\n",
    "Dessa maneira, uma instrução tomada em separado não tem muito sentido; para obtermos o resultado, precisamos colocar em prática o conjunto de todas as instruções, na ordem correta.\n",
    "**Instruções são um conjunto de regras ou normas definidas para a realização ou emprego de algo. Em informática, é o que indica a um computador uma ação elementar a executar.**\n",
    "\n",
    "<img src=\"./Imagens/02-03.png\" width=\"150\">"
   ]
  },
  {
   "cell_type": "markdown",
   "metadata": {},
   "source": [
    "#### Algoritmo\n",
    "\n",
    "Um algoritmo é formalmente uma sequência finita de passos que levam a execução de uma tarefa. Podemos pensar em algoritmo como uma receita, uma sequência de instruções que dão cabo de uma meta específica. Estas tarefas não podem ser redundantes nem subjetivas na sua definição, devem ser claras e precisas.\n",
    "\n",
    "Como exemplos de algoritmos podemos citar os algoritmos das operações básicas (adição, multiplicação, divisão e subtração) de números reais decimais. Outros exemplos seriam os manuais de aparelhos eletrônicos, como um videocassete, que explicam passo-a-passo como, por exemplo, gravar um evento.\n",
    "\n",
    "Até mesmo as coisas mais simples, podem ser descritas por sequências lógicas. Por exemplo:\n",
    "\n",
    "*Chupar uma bala*\n",
    "* Pegar a bala\n",
    "* Retirar o papel\n",
    "* Chupar a bala\n",
    "* Jogar o papel no lixo\n",
    "\n",
    "*Somar dois números quaisquer*\n",
    "\n",
    "* Escreva o primeiro número no retângulo A\n",
    "* Escreva o segundo número no retângulo B\n",
    "* Some o número do retângulo A com número do retângulo B e coloque o resultado no retângulo C\n",
    "<img src=\"./Imagens/02-04.png\" >\n"
   ]
  },
  {
   "cell_type": "markdown",
   "metadata": {},
   "source": [
    "#### Programas\n",
    "\n",
    "Os programas de computadores nada mais são do que algoritmos escritos numa linguagem de computador (C, JavaScript, PHP, Python entre outras) e são interpretados e executados por uma máquina, no caso um computador. Notem que dada esta interpretação rigorosa, um programa é por natureza muito específico e rígido em relação aos algoritmos da realidade."
   ]
  },
  {
   "cell_type": "markdown",
   "metadata": {},
   "source": [
    "#### Desenvolvendo algoritmos - Pseudocódigo\n",
    "\n",
    "Os algoritmos são descritos em uma linguagem chamada **pseudocódigo**. Este nome é uma alusão à posterior implementação em uma linguagem de programação. Por isso os algoritmos são independentes das linguagens de programação. Ao contrário de uma linguagem de programação, não existe um formalismo rígido de como deve ser escrito o algoritmo.\n",
    "\n",
    "O algoritmo deve ser fácil de se interpretar e fácil de codificar. Ou seja, ele deve ser o intermediário entre a linguagem falada e a linguagem de programação."
   ]
  },
  {
   "cell_type": "markdown",
   "metadata": {},
   "source": [
    "#### Regras para construção do Algoritmo\n",
    "\n",
    "Para escrever um algoritmo precisamos descrever a sequência de instruções, de maneira simples e objetiva. Para isso utilizaremos algumas técnicas:\n",
    "\n",
    "* Usar somente um verbo por frase\n",
    "* Imaginar que você está desenvolvendo um algoritmo para pessoas que não trabalham com informática\n",
    "* Usar frases curtas e simples\n",
    "* Ser objetivo\n",
    "* Procurar usar palavras que não tenham sentido dúbio"
   ]
  },
  {
   "cell_type": "markdown",
   "metadata": {},
   "source": [
    "#### Fases\n",
    "\n",
    "\n",
    "Para montar um algoritmo adequado, primeiro precisamos dividir o problema apresentado em três fases fundamentais.\n",
    "\n",
    "<img src=\"./Imagens/02-05.png\">\n",
    "\n",
    "\n",
    "Onde temos:\n",
    "* **ENTRADA**: São os dados de entrada do algoritmo\n",
    "* **PROCESSAMENTO**: São os procedimentos utilizados para chegar ao resultado\n",
    "* **SAÍDA**: São os dados já processados\n",
    "\n",
    "Analogia com uma pessoa:\n",
    "\n",
    "<img src=\"./Imagens/02-06.png\">"
   ]
  },
  {
   "cell_type": "markdown",
   "metadata": {},
   "source": [
    "#### Exemplo de algoritmo\n",
    "\n",
    "Imagine o seguinte problema: Calcular a média final dos alunos da 3ª Série. Os alunos realizarão quatro provas: P1, P2, P3 e P4.\n",
    "\n",
    "Onde: Média Final = <img src=\"./Imagens/02-07.png\">\n",
    "\n",
    "Para montar o algoritmo proposto, faremos três perguntas:\n",
    "\n",
    "* Quais são os dados de entrada?\n",
    "\n",
    "    R: Os dados de entrada são P1, P2, P3 e P4\n",
    "* Qual será o processamento a ser utilizado?\n",
    "\n",
    "    R: O procedimento será somar todos os dados de entrada e dividi-los por 4 (quatro)\n",
    "<img src=\"./Imagens/02-07.png\">\n",
    "* Quais serão os dados de saída?\n",
    "\n",
    "    R: O dado de saída será a média final\n",
    "    \n",
    "Algoritmo\n",
    "* Receba a nota da prova1\n",
    "* Receba a nota de prova2\n",
    "* Receba a nota de prova3\n",
    "* Receba a nota da prova4\n",
    "* Some todas as notas e divida o resultado por 4\n",
    "* Mostre o resultado da divisão"
   ]
  },
  {
   "cell_type": "markdown",
   "metadata": {},
   "source": [
    "#### Algoritmos podem ser aplicados para qualquer tarefa ou área\n",
    "\n",
    "Vamos considerar o processo de decidir se uma pessoa deve ou não levar um guarda-chuva ao sair de casa, com base nas condições meteorológicas. \n",
    "Vamos chamá-lo de \"Algoritmo de Decisão do Guarda-Chuva\":\n",
    "\n",
    "Algoritmo de Decisão do Guarda-Chuva:\n",
    "\n",
    "1. Início:\n",
    "\n",
    "    1.1. A pessoa acorda e se prepara para sair de casa.\n",
    "\n",
    "\n",
    "2. Observação do Céu:\n",
    "\n",
    "    2.1. Olhe pela janela e observe o céu.\n",
    "\n",
    "\n",
    "3. Verificação de Condições Meteorológicas:\n",
    "\n",
    "    3.1. Se estiver chovendo, vá para o passo 6.\n",
    "    \n",
    "    3.2. Se não estiver chovendo, vá para o passo 4.\n",
    "\n",
    "\n",
    "4. Verificação de Previsão do Tempo:\n",
    "    \n",
    "    4.1. Confira a previsão do tempo para o dia.\n",
    "    \n",
    "    4.2. Se a previsão indicar chuva, vá para o passo 6.\n",
    "    \n",
    "    4.3 Se a previsão indicar tempo seco, vá para o passo 5.\n",
    "\n",
    "\n",
    "5. Decisão Sem Guarda-Chuva:\n",
    "\n",
    "    5.1. Como não está chovendo e a previsão é de tempo seco, a pessoa decide não levar um guarda-chuva.\n",
    "    \n",
    "    5.2. Fim do algoritmo.\n",
    "    \n",
    "\n",
    "6. Decisão Com Guarda-Chuva:\n",
    "\n",
    "    6.1. Como está chovendo ou a previsão é de chuva, a pessoa decide levar um guarda-chuva.\n",
    "    \n",
    "    6.2. Fim do algoritmo.\n",
    "\n",
    "Este é um exemplo básico de um algoritmo de decisão que uma pessoa pode seguir diariamente ao se deparar com a escolha de levar ou não um guarda-chuva. É uma sequência lógica de passos baseada em observações e condições meteorológicas para tomar uma decisão prática."
   ]
  },
  {
   "cell_type": "markdown",
   "metadata": {},
   "source": [
    "#### Atividade\n",
    "\n",
    "Vamos montar alguns algoritmos utilizando blocos.\n",
    "\n",
    "[https://studio.code.org/s/express-2021](https://studio.code.org/s/express-2021)"
   ]
  }
 ],
 "metadata": {
  "kernelspec": {
   "display_name": "Python 3",
   "language": "python",
   "name": "python3"
  },
  "language_info": {
   "codemirror_mode": {
    "name": "ipython",
    "version": 3
   },
   "file_extension": ".py",
   "mimetype": "text/x-python",
   "name": "python",
   "nbconvert_exporter": "python",
   "pygments_lexer": "ipython3",
   "version": "3.7.6"
  }
 },
 "nbformat": 4,
 "nbformat_minor": 4
}
