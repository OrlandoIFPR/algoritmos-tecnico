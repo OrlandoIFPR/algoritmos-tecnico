{
 "cells": [
  {
   "cell_type": "markdown",
   "metadata": {},
   "source": [
    "### <center>Algoritmos e Estruturas de Dados</center>\n",
    "\n",
    "#### <center>Condicionais</center>\n",
    "\n",
    "\n",
    "**Prof.**: João Paulo Orlando\n",
    "\n",
    "**Curso**: Técnico em Informática Integrado ao Ensino Médio"
   ]
  },
  {
   "cell_type": "markdown",
   "metadata": {},
   "source": [
    "Condicionais são estruturas de decisão fundamentais nas linguagens de programação que permitem que um programa altere seu comportamento em tempo de execução, dependendo do estado em que se encontra. \n",
    "\n",
    "Podemos imaginar um programa em execução como um trem viajando sobre um trilho. \n",
    "\n",
    "Algumas bifurcações podem existir ao longo do percurso, e o caminho tomado pelo trem nestes pontos deve ser selecionado através de manivelas de controle. \n",
    "\n",
    "Dependendo da posição em que se encontra a manivela, o trem pode tomar um ou outro caminho, mas nunca seguir nos dois ao mesmo tempo.\n",
    "\n",
    "<img src=\"Imagens\\07-01.jpg\">\n",
    "\n",
    "\n",
    "Estruturas condicionais permitem alterar o fluxo de execução de um programa através da verificação de **condições**, que podem ser codificadas em nosso programa por meio de **expressões lógicas**."
   ]
  },
  {
   "cell_type": "markdown",
   "metadata": {},
   "source": [
    "#### Expressões lógicas\n",
    "\n",
    "Expressões lógicas são aquelas cuja avaliação resulta em valores do tipo **booleano**.\n",
    "\n",
    "O tipo em Python para armazenar os valores verdadeiro e falso é chamado de bool, em homenagem ao matemático britânico George Boole. George Boole criou a Álgebra Booleana, que é a base de toda a aritmética computacional moderna.\n",
    "\n",
    "Existem apenas dois valores booleanos. Eles são `True` e `False`. As iniciais maiúsculas são importantes, uma vez que true e false não são valores booleanos.\n",
    "\n",
    "Os dois principais tipos de operadores para construir expressões lógicas são:\n",
    "* **operadores de comparação ou relacionais**: permitem comparar os valores de um par de objetos, e retornam `True` caso sejam equivalentes e `False` caso contrário; \n",
    "* **operadores lógicos**: úteis para combinar resultados booleanos obtidos de várias comparações, permitindo construir estruturas de decisão mais complexas."
   ]
  },
  {
   "cell_type": "markdown",
   "metadata": {},
   "source": [
    "###### Operadores relacionais\n",
    "\n",
    "Operador | Operação | Exemplo | Interpretação\n",
    ":---- | :---- | :---- | :---- \n",
    "== | Igualdade | x == y | x é igual a y?\n",
    "!= | Diferença | x != y | x é diferente de y?\n",
    "> | Maior que | x > y | x é maior que y?\n",
    ">= | Maior ou igual | x >= y | x é maior ou igual a y?\n",
    "< | Menor que | x < y | x é menor que y?\n",
    "<= | Menor ou igual | x <= y | x é menor ou igual a y?"
   ]
  },
  {
   "cell_type": "code",
   "execution_count": 2,
   "metadata": {},
   "outputs": [
    {
     "name": "stdout",
     "output_type": "stream",
     "text": [
      "True\n",
      "False\n"
     ]
    }
   ],
   "source": [
    "print(5 == 5)\n",
    "print(5 == 3)"
   ]
  },
  {
   "cell_type": "code",
   "execution_count": 4,
   "metadata": {},
   "outputs": [
    {
     "name": "stdout",
     "output_type": "stream",
     "text": [
      "True\n",
      "False\n"
     ]
    }
   ],
   "source": [
    "print(\"João\" != \"Paulo\")\n",
    "print(\"Paulo\" != \"Paulo\")"
   ]
  },
  {
   "cell_type": "code",
   "execution_count": 6,
   "metadata": {},
   "outputs": [
    {
     "name": "stdout",
     "output_type": "stream",
     "text": [
      "True\n",
      "False\n"
     ]
    }
   ],
   "source": [
    "print(7 >= 7)\n",
    "print(7 >= 9)"
   ]
  },
  {
   "cell_type": "code",
   "execution_count": 10,
   "metadata": {},
   "outputs": [
    {
     "name": "stdout",
     "output_type": "stream",
     "text": [
      "False\n",
      "False\n"
     ]
    }
   ],
   "source": [
    "print(7 > 7)\n",
    "print(7 > 9)"
   ]
  },
  {
   "cell_type": "code",
   "execution_count": 9,
   "metadata": {},
   "outputs": [
    {
     "name": "stdout",
     "output_type": "stream",
     "text": [
      "False\n",
      "True\n"
     ]
    }
   ],
   "source": [
    "print(\"Antonio\" > \"Geraldo\")\n",
    "print(\"Antonio\" < \"Geraldo\")"
   ]
  },
  {
   "cell_type": "code",
   "execution_count": 12,
   "metadata": {},
   "outputs": [
    {
     "name": "stdout",
     "output_type": "stream",
     "text": [
      "True\n",
      "False\n"
     ]
    }
   ],
   "source": [
    "print(\"João\" < \"joão\")\n",
    "print(\"João\" > \"joão\")"
   ]
  },
  {
   "cell_type": "markdown",
   "metadata": {},
   "source": [
    "#### Operadores lógicos\n",
    "\n",
    "Operador | Operação | Exemplo | Interpretação\n",
    ":---- | :---- | :---- | :---- \n",
    "and | E lógico | x and y | x e y\n",
    "or | OU lógico | x or y | x ou y\n",
    "not | NÃO lógico | not x | negue x\n",
    "\n",
    "\n",
    "Existem três operadores lógicos: `and`, `or` e `not`. A semântica (significado) desses operadores é similar ao significado deles em português. Por exemplo, `x > 0 and x < 10` é verdadeiro somente se x é maior do que 0 e ao mesmo tempo, x é menor do que 10. Como você descreveria isso em palavras? Você diria que x está entre 0 e 10, não incluindo as extremidades.\n",
    "\n",
    "`n % 2 == 0 or n % 3 == 0` é verdadeiro se uma das condições é verdadeira, isto é, se o número é divisível por 2 ou divisível por 3. Neste caso, uma, ou a outra, ou ambos as partes tem que ser verdadeira para o resultado ser verdadeiro.\n",
    "\n",
    "Finalmente, o operador not nega uma expressão booleana, de forma que `not  x > y` é verdadeiro se x > y é falso, isto é, se x é menor ou igual a y."
   ]
  },
  {
   "cell_type": "code",
   "execution_count": 2,
   "metadata": {},
   "outputs": [],
   "source": [
    "va = True\n",
    "vb = True\n",
    "vc = False\n",
    "vd = False"
   ]
  },
  {
   "cell_type": "code",
   "execution_count": 20,
   "metadata": {},
   "outputs": [
    {
     "name": "stdout",
     "output_type": "stream",
     "text": [
      "True\n",
      "False\n"
     ]
    }
   ],
   "source": [
    "print(va and vb)\n",
    "print(va and vc)"
   ]
  },
  {
   "cell_type": "code",
   "execution_count": 21,
   "metadata": {},
   "outputs": [
    {
     "name": "stdout",
     "output_type": "stream",
     "text": [
      "True\n",
      "False\n"
     ]
    }
   ],
   "source": [
    "print(vb or vc)\n",
    "print(vc or vd)"
   ]
  },
  {
   "cell_type": "code",
   "execution_count": 23,
   "metadata": {},
   "outputs": [
    {
     "name": "stdout",
     "output_type": "stream",
     "text": [
      "False\n",
      "True\n"
     ]
    }
   ],
   "source": [
    "print(not vb)\n",
    "print(not vc)"
   ]
  },
  {
   "cell_type": "code",
   "execution_count": 26,
   "metadata": {},
   "outputs": [
    {
     "name": "stdout",
     "output_type": "stream",
     "text": [
      "False\n",
      "True\n"
     ]
    }
   ],
   "source": [
    "print(not(va and vb))\n",
    "print(not(va and vc))\n",
    "#Mesmo do primeiro com o NOT\n"
   ]
  },
  {
   "cell_type": "markdown",
   "metadata": {},
   "source": [
    "##### Operações lógicas envolvendo comparação"
   ]
  },
  {
   "cell_type": "code",
   "execution_count": 30,
   "metadata": {},
   "outputs": [
    {
     "name": "stdout",
     "output_type": "stream",
     "text": [
      "False\n"
     ]
    }
   ],
   "source": [
    "print((4 > 5) and (3 == 3))"
   ]
  },
  {
   "cell_type": "code",
   "execution_count": 31,
   "metadata": {},
   "outputs": [
    {
     "name": "stdout",
     "output_type": "stream",
     "text": [
      "True\n"
     ]
    }
   ],
   "source": [
    "print((4 > 5) or (3 == 3))"
   ]
  },
  {
   "cell_type": "code",
   "execution_count": 3,
   "metadata": {},
   "outputs": [
    {
     "name": "stdout",
     "output_type": "stream",
     "text": [
      "False\n"
     ]
    }
   ],
   "source": [
    "print(not(4 > 5 or 3 == 3 ))"
   ]
  },
  {
   "cell_type": "code",
   "execution_count": 33,
   "metadata": {},
   "outputs": [
    {
     "name": "stdout",
     "output_type": "stream",
     "text": [
      "False\n"
     ]
    }
   ],
   "source": [
    "print(4 < 5 and 3 == 3 and 5 > 5)"
   ]
  },
  {
   "cell_type": "code",
   "execution_count": 34,
   "metadata": {},
   "outputs": [
    {
     "name": "stdout",
     "output_type": "stream",
     "text": [
      "True\n"
     ]
    }
   ],
   "source": [
    "print(4 < 5 or 3 == 3 or 5 > 5)"
   ]
  },
  {
   "cell_type": "markdown",
   "metadata": {},
   "source": [
    "##### Erro comum!\n",
    "\n",
    "Existe um erro muito comum que ocorre quando programadores tentam escrever expressões booleanas. \n",
    "\n",
    "Por exemplo, suponha que queremos verificar se uma variável número tem valor 5, 6, or 7. Em palavras, podemos dizer: “número é igual a 5 ou 6 ou 7”. \n",
    "\n",
    "Entretanto, se traduzimos isto em Python, *numero == 5 or 6 or 7*, isso não será correto. \n",
    "\n",
    "O operador or precisa juntar a verificação das três igualdades. \n",
    "\n",
    "A forma correta de escrever isto é `numero == 5 or numero == 6 or numero == 7`. \n",
    "\n",
    "Isto pode parecer como um monte de digitação mas é absolutamente necessário. Não dá para fazer de forma mais compacta.\n"
   ]
  },
  {
   "cell_type": "markdown",
   "metadata": {},
   "source": [
    "#### Precedência de operadores\n",
    "\n",
    "A tabela de precedência de operadores agora é incrementada com mais elementos:\n",
    "\n",
    "Ranking/Precedência | Operadores | Nomes\n",
    ":---- | :---- | :----\n",
    "1 (máxima) | ** | Exponenciação\n",
    "2 | +x , -x | Positivo, Negativo\n",
    "3 | *, /, //, % | Multiplicação, divisão, divisão inteira e resto da divisão\n",
    "4 | +, - | Adição, subtração\n",
    "5 | <, <=, >, >=, !=, == | Operadores de comparação\n",
    "6 | not x | Negação lógica\n",
    "7 | and | E lógico\n",
    "8 (Mínima) | or | OU lógico"
   ]
  },
  {
   "cell_type": "code",
   "execution_count": null,
   "metadata": {},
   "outputs": [],
   "source": []
  },
  {
   "cell_type": "markdown",
   "metadata": {},
   "source": [
    "Agora que já sabemos codificar **condições**, podemos de fato construir estruturas condicionais."
   ]
  },
  {
   "cell_type": "markdown",
   "metadata": {},
   "source": [
    "#### Execução condicional\n",
    "\n",
    "Estruturas condicionais podem ter diferentes níveis de complexidade, dependendo do conjunto de condições\n",
    "\n",
    "\n",
    "##### Seleção unária\n",
    "\n",
    "Executamos um bloco de código $A$ que somente deve ser executado caso uma determinada condição **seja satisfeita** (ou seja, avaliada como `True`). Caso contrário, o código $A$ é simplesmente ignorado.\n",
    "\n",
    "\n",
    "<img src=\"imagens\\07-02.png\" width=400>\n",
    "\n",
    "Em Python usamos a seguinte sintaxe:\n",
    "\n",
    "``` \n",
    "if EXPRESSÃO BOOLEANA:\n",
    "    COMANDOS_1        # executados se condição tem valor True\n",
    "    COMANDOS_2        \n",
    "    COMANDOS_3       \n",
    "    COMANDOS_4        \n",
    "    \n",
    "FLUXO NORMAL DO PROGRAMA\n",
    "    \n",
    "```\n",
    "\n",
    "O comando `if` inicia o bloco, na sequencia vem a `EXPRESSÃO BOOLEANA` que é a condição a ser verificada como verdadeira (True) ou falsa (False), depois tem `:` para encerrar a expressão booleana.\n",
    "Nas próximas linhas tem um ou mais comandos indentados que serão executados se a `EXPRESSÃO BOOLEANA` tiver valor True.\n",
    "\n",
    "Após esses comandos, tem o fluxo normal do programa.\n",
    "\n"
   ]
  },
  {
   "cell_type": "code",
   "execution_count": 6,
   "metadata": {},
   "outputs": [
    {
     "name": "stdout",
     "output_type": "stream",
     "text": [
      "Antes de chegar na estrutura condicional (sempre executa)\n",
      "Depois da estrutura condicional (sempre executa)\n"
     ]
    }
   ],
   "source": [
    "cond = False\n",
    "\n",
    "print(\"Antes de chegar na estrutura condicional (sempre executa)\")\n",
    "\n",
    "if cond:\n",
    "    print(\"Executo código A\")\n",
    "    print(\"Executo código B\")\n",
    "    print(\"Executo código C\")\n",
    "  \n",
    "print(\"Depois da estrutura condicional (sempre executa)\")"
   ]
  },
  {
   "cell_type": "code",
   "execution_count": 39,
   "metadata": {},
   "outputs": [
    {
     "name": "stdout",
     "output_type": "stream",
     "text": [
      "Informe a 1ª nota: 5\n",
      "Informe a 2ª nota: 6\n",
      "Aluno em exame! Informe a nota do exame: 7\n"
     ]
    }
   ],
   "source": [
    "nota1 = int(input(\"Informe a 1ª nota: \"))\n",
    "nota2 = int(input(\"Informe a 2ª nota: \"))\n",
    "media = (nota1+nota2)/2\n",
    "\n",
    "if media < 6:\n",
    "    exame = int(input(\"Aluno em exame! Informe a nota do exame: \"))\n",
    "    "
   ]
  },
  {
   "cell_type": "code",
   "execution_count": null,
   "metadata": {},
   "outputs": [],
   "source": []
  },
  {
   "cell_type": "markdown",
   "metadata": {},
   "source": [
    "##### Seleção binária\n",
    "\n",
    "Um `if` pode ser associado a um `else`, contendo um bloco de código que é executado casa a condição do `if` **não seja satisfeita** (ou seja, avaliada como `False`).\n",
    " \n",
    " \n",
    " <img src=\"imagens\\07-03.png\" width=400>"
   ]
  },
  {
   "cell_type": "code",
   "execution_count": 8,
   "metadata": {},
   "outputs": [
    {
     "name": "stdout",
     "output_type": "stream",
     "text": [
      "Antes de chegar na estrutura condicional (sempre executa)\n",
      "Executo código B\n",
      "Depois da estrutura condicional (sempre executa)\n"
     ]
    }
   ],
   "source": [
    "cond = False\n",
    "\n",
    "print(\"Antes de chegar na estrutura condicional (sempre executa)\")\n",
    "\n",
    "if cond:\n",
    "    print(\"Executo código A\")\n",
    "else:\n",
    "    print(\"Executo código B\")\n",
    "    \n",
    "print(\"Depois da estrutura condicional (sempre executa)\")"
   ]
  },
  {
   "cell_type": "code",
   "execution_count": 48,
   "metadata": {},
   "outputs": [
    {
     "name": "stdout",
     "output_type": "stream",
     "text": [
      "Informe a 1ª nota: 6\n",
      "Informe a 2ª nota: 6\n",
      "A média final foi 6.0\n"
     ]
    }
   ],
   "source": [
    "nota1 = int(input(\"Informe a 1ª nota: \"))\n",
    "nota2 = int(input(\"Informe a 2ª nota: \"))\n",
    "media = (nota1+nota2)/2\n",
    "\n",
    "if media < 6:\n",
    "    exame = int(input(\"Aluno em exame! Informe a nota do exame: \"))\n",
    "    print(f'A média final foi {max(media, exame)}')\n",
    "else:\n",
    "    print(f'A média final foi {media}')"
   ]
  },
  {
   "cell_type": "code",
   "execution_count": null,
   "metadata": {},
   "outputs": [],
   "source": []
  },
  {
   "cell_type": "markdown",
   "metadata": {},
   "source": [
    "As duas construções tratadas acima se baseiam na verificação de apenas uma condição, que dependendo de como for avaliada (`True` ou `False`), desencadeia um dentre dois possíveis comportamentos. \n",
    "Mas e se desejarmos construir uma estrutura condicional que permita **mais do que apenas dois \"caminhos\" diferentes**? \n",
    "Neste caso precisamos verificar mais do que uma única condição."
   ]
  },
  {
   "cell_type": "markdown",
   "metadata": {},
   "source": [
    "#### Condicionais aninhados\n",
    "\n",
    "A primeira forma de incluir mais mais do que uma condição a ser testada na estrutura condicional é por aninhamento. Como resultado, teremos uma estrutura hierárquica, em que a execução de uma segunda condição depende do resultado de uma primeira condição. Não há limites para o número de níveis hierárquicos em uma estrutura condicional, apesar de que muitos níveis hierárquicos podem tornar o código mais difícil de entender.\n",
    "\n",
    "Cuidado! Em Python é fundamental respeitar o nível de indentação dos blocos de código em cada nível hierárquico!\n",
    "\n",
    "<img src=\"Imagens\\07-04.png\" width=400>\n"
   ]
  },
  {
   "cell_type": "code",
   "execution_count": 11,
   "metadata": {},
   "outputs": [
    {
     "name": "stdout",
     "output_type": "stream",
     "text": [
      "Antes de chegar na estrutura condicional (sempre executa)\n",
      "Executo código C. A cond1 foi False\n",
      "Depois da estrutura condicional (sempre executa)\n"
     ]
    }
   ],
   "source": [
    "cond1 = False\n",
    "cond2 = False\n",
    "\n",
    "print(\"Antes de chegar na estrutura condicional (sempre executa)\")\n",
    "\n",
    "if cond1:\n",
    "    print(\"Executo código A. Não importa a cond2\")\n",
    "else:\n",
    "    if cond2:\n",
    "        print(\"Executo código B. A cond1 foi False\")\n",
    "    else:\n",
    "        print(\"Executo código C. A cond1 foi False\")\n",
    "\n",
    "print(\"Depois da estrutura condicional (sempre executa)\")"
   ]
  },
  {
   "cell_type": "markdown",
   "metadata": {},
   "source": [
    "#### Condicionais encadeados\n",
    "\n",
    "Uma sequência de vários `if` e `else` aninhados pode inserir muitos níveis de indentação no código, tornando-o confuso. \n",
    "\n",
    "Para evitar este problema, usamos a construção podemos inserir novas condições a serem verificadas usando a palavra `elif`. \n",
    "\n",
    "`elif` é uma abreviação de `else if`. Novamente, exatamente uma ramificação será executada. \n",
    "\n",
    "Não há limites no número de `elif` mas apenas um simples (e opcional) `else` final é permitido e precisa ser a última ramificação do comando.\n",
    "\n",
    "Cada condição é verificada em ordem. Se a primeira é falsa, a próxima é então verificada , e assim por dianta. Se uma delas é verdadeira, a ramificação correspondente é executada e o comando termina. \n",
    "\n",
    "Mesmo que mais do que uma condição seja verdadeira, apenas a ramificação da primeira verdadeira é executada."
   ]
  },
  {
   "cell_type": "code",
   "execution_count": 50,
   "metadata": {},
   "outputs": [
    {
     "name": "stdout",
     "output_type": "stream",
     "text": [
      "Antes de chegar na estrutura condicional (sempre executa)\n",
      "Executo código C. A cond1 foi False\n",
      "Depois da estrutura condicional (sempre executa)\n"
     ]
    }
   ],
   "source": [
    "cond1 = False\n",
    "cond2 = False\n",
    "\n",
    "print(\"Antes de chegar na estrutura condicional (sempre executa)\")\n",
    "\n",
    "if cond1:\n",
    "    print(\"Executo código A. Não importa a cond2\")\n",
    "elif cond2:\n",
    "    print(\"Executo código B. A cond1 foi False\")\n",
    "else:\n",
    "    print(\"Executo código C. A cond1 foi False\")\n",
    "\n",
    "print(\"Depois da estrutura condicional (sempre executa)\")"
   ]
  },
  {
   "cell_type": "code",
   "execution_count": 12,
   "metadata": {},
   "outputs": [
    {
     "name": "stdout",
     "output_type": "stream",
     "text": [
      "3\n",
      "Menor que 5\n",
      "Menor que 10\n"
     ]
    }
   ],
   "source": [
    "v = int(input())\n",
    "\n",
    "if v < 5:\n",
    "    print(\"Menor que 5\")\n",
    "\n",
    "if v < 10: \n",
    "    print(\"Menor que 10\")"
   ]
  },
  {
   "cell_type": "code",
   "execution_count": 18,
   "metadata": {},
   "outputs": [
    {
     "name": "stdout",
     "output_type": "stream",
     "text": [
      "7\n",
      "Intervalo 6...10\n",
      "Intervalo 16...20\n"
     ]
    }
   ],
   "source": [
    "v = int(input())\n",
    "\n",
    "if v <= 5:\n",
    "    print(\"Intervalo 0...5\")\n",
    "\n",
    "elif v <= 10: \n",
    "    print(\"Intervalo 6...10\")\n",
    "\n",
    "elif v <= 15: \n",
    "    print(\"Intervalo 11...15\")\n",
    "\n",
    "#Esse if está sem o else\n",
    "if v <= 20: \n",
    "    print(\"Intervalo 16...20\")"
   ]
  },
  {
   "cell_type": "markdown",
   "metadata": {},
   "source": [
    "Vamos agora fazer o exercício [1049](https://www.beecrowd.com.br/repository/UOJ_1049.html) do Beecrowd das duas formas usando aninhados e encadeados."
   ]
  },
  {
   "cell_type": "code",
   "execution_count": 54,
   "metadata": {},
   "outputs": [
    {
     "name": "stdout",
     "output_type": "stream",
     "text": [
      "vertebrado\n",
      "ave\n",
      "carnivoro\n",
      "aguia\n"
     ]
    }
   ],
   "source": [
    "cls1 = input()\n",
    "cls2 = input()\n",
    "cls3 = input()\n",
    "\n",
    "if cls1 == \"vertebrado\" and cls2 == \"ave\" and cls3 == \"carnivoro\":\n",
    "    print(\"aguia\")\n",
    "elif cls1 == \"vertebrado\" and cls2 == \"ave\" and cls3 == \"onivoro\":\n",
    "    print(\"pomba\")\n",
    "elif cls1 == \"vertebrado\" and cls2 == \"mamifero\" and cls3 == \"onivoro\":\n",
    "    print(\"homem\")\n",
    "elif cls1 == \"vertebrado\" and cls2 == \"mamifero\" and cls3 == \"herbivoro\":\n",
    "    print(\"vaca\")\n",
    "elif cls1 == \"invertebrado\" and cls2 == \"inseto\" and cls3 == \"hematofago\":\n",
    "    print(\"pulga\")\n",
    "elif cls1 == \"invertebrado\" and cls2 == \"inseto\" and cls3 == \"herbivoro\":\n",
    "    print(\"lagarta\")\n",
    "elif cls1 == \"invertebrado\" and cls2 == \"anelideo\" and cls3 == \"hematofago\":\n",
    "    print(\"sanguessuga\")\n",
    "elif cls1 == \"invertebrado\" and cls2 == \"anelideo\" and cls3 == \"onivoro\":\n",
    "    print(\"minhoca\")"
   ]
  },
  {
   "cell_type": "code",
   "execution_count": 51,
   "metadata": {},
   "outputs": [
    {
     "name": "stdout",
     "output_type": "stream",
     "text": [
      "aa\n",
      "aa\n",
      "aa\n",
      "minhoca\n"
     ]
    }
   ],
   "source": [
    "cls1 = input()\n",
    "cls2 = input()\n",
    "cls3 = input()\n",
    "\n",
    "if cls1 == \"vertebrado\":\n",
    "    if cls2 == \"ave\":\n",
    "        if cls3 == \"carnivoro\":\n",
    "            print(\"aguia\")\n",
    "        else:\n",
    "            print(\"pomba\")\n",
    "    else:\n",
    "        if cls3 == \"onivoro\":\n",
    "            print(\"homem\")\n",
    "        else:\n",
    "            print(\"vaca\")\n",
    "else:\n",
    "    if cls2 == \"inseto\":\n",
    "        if cls3 == \"hematofago\":\n",
    "            print(\"pulga\")\n",
    "        else:\n",
    "            print(\"lagarta\")\n",
    "    else:\n",
    "        if cls3 == \"hematofago\":\n",
    "            print(\"sanguessuga\")\n",
    "        else:\n",
    "            print(\"minhoca\")"
   ]
  },
  {
   "cell_type": "markdown",
   "metadata": {},
   "source": [
    "Agora podem começar a fazer a **Lista 4 - Condicionais**"
   ]
  }
 ],
 "metadata": {
  "kernelspec": {
   "display_name": "Python 3",
   "language": "python",
   "name": "python3"
  },
  "language_info": {
   "codemirror_mode": {
    "name": "ipython",
    "version": 3
   },
   "file_extension": ".py",
   "mimetype": "text/x-python",
   "name": "python",
   "nbconvert_exporter": "python",
   "pygments_lexer": "ipython3",
   "version": "3.7.6"
  }
 },
 "nbformat": 4,
 "nbformat_minor": 4
}
