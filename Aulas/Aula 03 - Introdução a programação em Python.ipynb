{
 "cells": [
  {
   "cell_type": "markdown",
   "metadata": {},
   "source": [
    "### <center>Algoritmos e Estruturas de Dados</center>\n",
    "\n",
    "#### <center>Introdução à Programação com Python</center>\n",
    "\n",
    "\n",
    "**Prof.**: João Paulo Orlando\n",
    "\n",
    "**Curso**: Técnico em Informática Integrado ao Ensino Médio"
   ]
  },
  {
   "cell_type": "markdown",
   "metadata": {},
   "source": [
    "#### A linguagem de programação Python\n",
    "\n",
    "**A linguagem de programação que você vai aprender é Python**. Python é um exemplo de linguagem de programação de alto nível; outras linguagens de alto nível que você já pode ter ouvido falar são C++, PHP, Java e JavaScript.\n",
    "\n",
    "Como você deve ter imaginado, existem também as linguagens de baixo nível, às vezes chamadas de “linguagens de máquina” ou “linguagens assembly” (“linguagens de montagem”). Dito de maneira simples, **o computador só consegue executar programas escritos em linguagens de baixo nível**. Deste modo, programas escritos em linguagens de alto nível precisam ser processados antes que possam rodar. Esse processamento extra toma algum tempo, o que é uma pequena desvantagem das linguagens de alto nível. Mas as vantagens são enormes.\n",
    "\n",
    "Primeiro, é muito **mais fácil programar em uma linguagem de alto nível**. É mais rápido escrever programas em uma linguagem de alto nível; os programas ficam mais curtos, mais fáceis de ler, mais simples de alterar, e é provável que estejam corretos. \n",
    "\n",
    "Segundo, **as linguagens de alto nível são portáveis**, o que significa que podem rodar em diferentes tipos de computador, com pouca ou nenhuma modificação. Programas em baixo nível só podem rodar em um único tipo de computador e precisam ser re-escritos para rodar em outro tipo.\n",
    "\n",
    "***Devido a essas vantagens, quase todos os programas são escritos em linguagens de alto nível. As de baixo nível são utilizadas somente para umas poucas aplicações especializadas***.\n",
    "\n",
    "Dois tipos de programas processam linguagens de alto nível, traduzindo-as para linguagens de baixo nível: **interpretadores** e **compiladores**. O interpretador lê um programa escrito em linguagem de alto nível e o executa, ou seja, faz o que o programa diz. Ele processa o programa um pouco de cada vez, alternadamente: ora lendo algumas linhas, ora realizando computações.\n",
    "\n",
    "<img src=\"./Imagens/03-01.png\">\n",
    "\n",
    "O compilador lê o programa e o traduz completamente antes que o programa comece a rodar. Neste caso, **o programa escrito em linguagem de alto nível é chamado de código-fonte**, e **o programa traduzido é chamado de código objeto ou executável**. Uma vez que um programa é compilado, você pode executá-lo repetidamente, sem que precise de nova tradução.\n",
    "\n",
    "<img src=\"./Imagens/03-02.png\">\n",
    "\n",
    "Muitas linguagens modernas se utilizam desses dois processos. O código-fonte é primeiramente compilado para uma linguagem de baixo nível, chamado de código em bytes (“byte code”), e então são interpretados por um programa chamado de máquina virtual. O Python usa ambos os processos, mas devido à forma com que os programadores interagem com essa linguagem, ela é, em geral considerada uma linguagem interpretada."
   ]
  },
  {
   "cell_type": "markdown",
   "metadata": {},
   "source": [
    "#### Como usar a linguagem Python\n",
    "\n",
    "Três sugestões diferentes:\n",
    "\n",
    "1 - Instalando os recursos na máquina (**Usarei para resolver os exercícios**):\n",
    "* Instalar o [Python 3](https://www.python.org/downloads/), \n",
    "* Instalar uma IDE (ambiente de desenvolvimento), pode ser o [VS Code](https://code.visualstudio.com/download).\n",
    "* Instalar o plugin para dar suporte ao Python. Segue tutorial de instalação do plugin e primeiro teste com a linguagem: [https://code.visualstudio.com/docs/python/python-tutorial](https://code.visualstudio.com/docs/python/python-tutorial)\n",
    "\n",
    "\n",
    "2 - Usar um editor online. Existem diversos editores online, como:\n",
    "* [Online GDB](https://www.onlinegdb.com/) --> só tem que lembrar de escolher a linguagem **Python 3** no canto superior direito da tela, antes de executar o código-fonte.\n",
    "* [replit](https://replit.com/languages/python3)\n",
    "* [programiz](https://www.programiz.com/python-programming/online-compiler/)\n",
    "\n",
    "3 - Usar um editor de notebooks de Python (**Usarei nas apresentações das aulas**).\n",
    "* Online pode ser o [Google colab](https://colab.research.google.com)\n",
    "* [Jupyter Notebook](https://jupyter.org/install) que devera ser instalado no computador.\n",
    "\n"
   ]
  },
  {
   "cell_type": "markdown",
   "metadata": {},
   "source": [
    "#### Primeiro programa em Python\n",
    "\n",
    "Exibir Olá Mundo!"
   ]
  },
  {
   "cell_type": "code",
   "execution_count": 1,
   "metadata": {},
   "outputs": [
    {
     "name": "stdout",
     "output_type": "stream",
     "text": [
      "Olá Mundo!\n"
     ]
    }
   ],
   "source": [
    "print(\"Olá Mundo!\")"
   ]
  },
  {
   "cell_type": "markdown",
   "metadata": {},
   "source": [
    "**print** é uma função do Python para exibir uma mensagem na tela do computador, então ele será a saída da execução do programa.\n",
    "\n",
    "**Qual é a definição de uma função?**\n",
    "\n",
    "Uma função é um bloco de código que só é executado quando é chamada. Você pode passar dados, conhecidos como parâmetros, para uma função. Uma função pode retornar dados como resultado."
   ]
  },
  {
   "cell_type": "markdown",
   "metadata": {},
   "source": [
    "#### O que é depuração?\n",
    "\n",
    "Programar é um processo complicado e, como é feito por seres humanos, conduz frequentemente a erros. Erros em programas são chamados de bugs e o processo de encontrá-los e corrigi-los é chamado de depuração (debugging). \n",
    "\n",
    "Três tipos de erro podem acontecer em um programa: **erros de sintaxe**, **erros de execução**, e **erros de semântica**. É importante distinguir entre eles para encontrá-los mais rapidamente."
   ]
  },
  {
   "cell_type": "markdown",
   "metadata": {},
   "source": [
    "##### Erros de sintaxe\n",
    "\n",
    "Python só executa um programa se ele estiver sintaticamente correto; caso contrário, o processo falha e devolve uma mensagem de erro. **Sintaxe se refere à estrutura de um programa e às regras sobre esta estrutura**. Por exemplo, em português, uma frase deve começar com uma letra maiúscula e terminar com um ponto.\n",
    "\n",
    "Para a maioria dos leitores, uns errinhos de sintaxe não chegam a ser um problema significativo e é por isso que conseguimos ler. Python não é tão indulgente. Se o seu programa tiver um único erro de sintaxe em algum lugar, o interpretador Python vai exibir uma mensagem de erro e vai terminar - e o programa não vai rodar. Durante as primeiras semanas da sua carreira como programador, você provavelmente perderá um bocado de tempo procurando erros de sintaxe. Conforme for ganhando experiência, entretanto, cometerá menos erros e os localizará mais rápido."
   ]
  },
  {
   "cell_type": "code",
   "execution_count": 2,
   "metadata": {},
   "outputs": [
    {
     "ename": "NameError",
     "evalue": "name 'pritn' is not defined",
     "output_type": "error",
     "traceback": [
      "\u001b[1;31m---------------------------------------------------------------------------\u001b[0m",
      "\u001b[1;31mNameError\u001b[0m                                 Traceback (most recent call last)",
      "\u001b[1;32m<ipython-input-2-580227b487e2>\u001b[0m in \u001b[0;36m<module>\u001b[1;34m\u001b[0m\n\u001b[1;32m----> 1\u001b[1;33m \u001b[0mpritn\u001b[0m\u001b[1;33m(\u001b[0m\u001b[1;34m\"Olá Mundo!\"\u001b[0m\u001b[1;33m)\u001b[0m\u001b[1;33m\u001b[0m\u001b[1;33m\u001b[0m\u001b[0m\n\u001b[0m",
      "\u001b[1;31mNameError\u001b[0m: name 'pritn' is not defined"
     ]
    }
   ],
   "source": [
    "pritn(\"Olá Mundo!\")"
   ]
  },
  {
   "cell_type": "code",
   "execution_count": 1,
   "metadata": {},
   "outputs": [
    {
     "ename": "SyntaxError",
     "evalue": "Missing parentheses in call to 'print'. Did you mean print(\"Olá Mundo!\")? (<ipython-input-1-b794d7a12152>, line 1)",
     "output_type": "error",
     "traceback": [
      "\u001b[1;36m  File \u001b[1;32m\"<ipython-input-1-b794d7a12152>\"\u001b[1;36m, line \u001b[1;32m1\u001b[0m\n\u001b[1;33m    print \"Olá Mundo!\"\u001b[0m\n\u001b[1;37m                     ^\u001b[0m\n\u001b[1;31mSyntaxError\u001b[0m\u001b[1;31m:\u001b[0m Missing parentheses in call to 'print'. Did you mean print(\"Olá Mundo!\")?\n"
     ]
    }
   ],
   "source": [
    "print \"Olá Mundo!\""
   ]
  },
  {
   "cell_type": "markdown",
   "metadata": {},
   "source": [
    "##### Erros de Execução (Runtime Errors)\n",
    "\n",
    "O segundo tipo de erro é o erro de execução (runtime), que só aparece quando você roda o programa. Esses erros são também conhecidos como exceções, porque normalmente indicam que alguma coisa excepcional (e ruim) aconteceu.\n",
    "\n",
    "Erros de execução são raros nos programas simples que você vai ver no começo, então, pode demorar um pouco até você se deparar com um erro desse tipo."
   ]
  },
  {
   "cell_type": "code",
   "execution_count": 3,
   "metadata": {},
   "outputs": [
    {
     "ename": "ZeroDivisionError",
     "evalue": "division by zero",
     "output_type": "error",
     "traceback": [
      "\u001b[1;31m---------------------------------------------------------------------------\u001b[0m",
      "\u001b[1;31mZeroDivisionError\u001b[0m                         Traceback (most recent call last)",
      "\u001b[1;32m<ipython-input-3-0c99325d9cdb>\u001b[0m in \u001b[0;36m<module>\u001b[1;34m\u001b[0m\n\u001b[1;32m----> 1\u001b[1;33m \u001b[0mprint\u001b[0m\u001b[1;33m(\u001b[0m\u001b[1;36m120\u001b[0m\u001b[1;33m/\u001b[0m\u001b[1;36m0\u001b[0m\u001b[1;33m)\u001b[0m\u001b[1;33m\u001b[0m\u001b[1;33m\u001b[0m\u001b[0m\n\u001b[0m",
      "\u001b[1;31mZeroDivisionError\u001b[0m: division by zero"
     ]
    }
   ],
   "source": [
    "print(120/0)"
   ]
  },
  {
   "cell_type": "markdown",
   "metadata": {},
   "source": [
    "##### Erros de semântica\n",
    "\n",
    "O terceiro tipo de erro é o erro de semântica (também chamado de erro de lógica). Mesmo que o seu programa tenha um erro semântico, ele vai rodar com sucesso, no sentido de que o computador não vai gerar nenhuma mensagem de erro. Só que o programa não vai fazer a coisa certa, vai fazer alguma outra coisa. Especificamente, aquilo que você tiver dito para ele fazer.\n",
    "\n",
    "O problema é que o programa que você escreveu não é aquele que você queria escrever. O significado do programa (sua semântica ou lógica) está errado. Identificar erros semânticos pode ser complicado, porque requer que você trabalhe de trás para frente, olhando a saída do programa e tentando imaginar o que ele está fazendo."
   ]
  },
  {
   "cell_type": "code",
   "execution_count": 4,
   "metadata": {},
   "outputs": [
    {
     "name": "stdout",
     "output_type": "stream",
     "text": [
      "84\n"
     ]
    }
   ],
   "source": [
    "# Crie um programa que exiba a soma dos valores 5, 7, e 9\n",
    "\n",
    "print(5+79)"
   ]
  },
  {
   "cell_type": "markdown",
   "metadata": {},
   "source": [
    "#### Depuração experimental\n",
    "\n",
    "Uma das habilidades mais importantes que você vai desenvolver é a de depurar. Embora possa ser frustrante, depurar é uma das partes intelectualmente mais ricas, desafiadoras e interessantes da programação.\n",
    "\n",
    "De certa maneira, a depuração é como um trabalho de detetive. Você se depara com pistas e tem que deduzir os processos e eventos que levaram aos resultados que aparecem.\n",
    "\n",
    "Depurar também é como uma ciência experimental. Uma vez que você tem uma ideia do que está errado, você modifica o seu programa e tenta de novo. Se a sua hipótese estava correta, então você consegue prever o resultado da modificação e fica um passo mais perto de um programa que funciona. Se a sua hipótese estava errada, você tem que tentar uma nova. Como Sherlock Holmes mostrou, “Quando você tiver eliminado o impossível, aquilo que restou, ainda que improvável, deve ser a verdade.” (A. Conan Doyle, O signo dos quatro).\n",
    "\n",
    "Para algumas pessoas, programação e depuração são o mesmo. Ou seja, programar é o processo de gradualmente depurar um programa, até que ele faça o que você quer. A ideia é começar com um programa que faça alguma coisa e ir fazendo pequenas modificações, depurando-as conforme avança, de modo que você tenha sempre um programa que funciona."
   ]
  },
  {
   "cell_type": "markdown",
   "metadata": {},
   "source": [
    "#### Comentários\n",
    "\n",
    "À medida que os programas se tornam maiores e mais complicados, eles se tornam mais difíceis de ler. As linguagens são densas e, em geral, é difícil olhar para um pedaço de código e entender o que ele faz ou por quê. Por isso, é uma boa ideia colocar anotações em seus programas para explicar, em linguagem natural, o que ele está fazendo. Essas anotações são chamadas de comentários.\n",
    "\n",
    "Um comentário em um programa é um texto que serve para ser lido apenas por humanos - ele é completamente ignorado pelo interpretador. \n",
    "\n",
    "**Em Python, o símbolo # é usado para dar início a um comentário**, e o resto da linha é ignorado. Temos a seguir uma nova versão do Olá Mundo!."
   ]
  },
  {
   "cell_type": "code",
   "execution_count": 1,
   "metadata": {},
   "outputs": [
    {
     "name": "stdout",
     "output_type": "stream",
     "text": [
      "Ola Mundo!\n"
     ]
    }
   ],
   "source": [
    "#---------------------------------------------------------\n",
    "# Esse exemplo de programa mostra como o Python é elegante\n",
    "# Escrito por João Paulo, Dezembro 2022.\n",
    "# Qualquer pessoa pode usar e modificar esse programa.\n",
    "#---------------------------------------------------------\n",
    "\n",
    "print(\"Ola Mundo!\")     # Muito fácil!\n"
   ]
  },
  {
   "cell_type": "markdown",
   "metadata": {},
   "source": [
    "Observe que ao rodar esse programa, ele continua imprimindo apenas a frase “Ola Mundo!” na tela. Nenhum comentário é exibido. Note também que deixamos uma linha em branco no programa, antes do print. Linhas em branco também são ignoradas pelo interpretador, mas essas linhas e os comentários podem tornar o seu programa muito mais fáceis de serem analisados por humanos. Use-os livremente!"
   ]
  }
 ],
 "metadata": {
  "kernelspec": {
   "display_name": "Python 3",
   "language": "python",
   "name": "python3"
  },
  "language_info": {
   "codemirror_mode": {
    "name": "ipython",
    "version": 3
   },
   "file_extension": ".py",
   "mimetype": "text/x-python",
   "name": "python",
   "nbconvert_exporter": "python",
   "pygments_lexer": "ipython3",
   "version": "3.7.6"
  }
 },
 "nbformat": 4,
 "nbformat_minor": 4
}
