{
 "cells": [
  {
   "cell_type": "markdown",
   "metadata": {},
   "source": [
    "### <center>Algoritmos e Estruturas de Dados</center>\n",
    "\n",
    "#### <center>Iterações com for</center>\n",
    "\n",
    "\n",
    "**Prof.**: João Paulo Orlando\n",
    "\n",
    "**Curso**: Técnico em Informática Integrado ao Ensino Médio"
   ]
  },
  {
   "cell_type": "markdown",
   "metadata": {},
   "source": [
    "Realizar tarefas repetitivas sem cometer erros é algo que os computadores fazem bem e as pessoas nem tanto. \n",
    "\n",
    "\n",
    "É por isso que os computadores são utilizados muitas vezes para automatizar tarefas do tipo repetitiva.\n",
    "\n",
    "A execução repetida de uma sequência de instruções é chamada de iteração (iteration) ou Loops. \n",
    "\n",
    "Loops (em português \"laços de repetição\") são estruturas que garantem que uma parte do código seja repetida várias vezes.\n",
    "\n",
    "Existem duas formas em Python de criarmos laços de repetições:\n",
    "\n",
    "* `for`: Quando sabemos exatamente quantas vezes o loop deverá ser executado. Por exemplo, 10 vezes, 1.000.000 de vezes.\n",
    "\n",
    "* `while`: Quando não sabemos quantas vezes o loop deverá ser executado. Por exemplo, leia a senha até ela ser correta (pode ser 1 vezes ou centenas de tentativas).\n"
   ]
  },
  {
   "cell_type": "markdown",
   "metadata": {},
   "source": [
    "#### Iterações e Loops\n",
    "\n",
    "Na computação, chamamos de **loop** uma estrutura contendo código que será executado múltiplas vezes. Cada repetição do loop é chamada **iteração**. Vamos a um diagrama que mostra como essa repetição ocorre.\n",
    "\n",
    "<img src=\"./Imagens/08-01.png\" width=\"500\">\n",
    "\n",
    "<center> <small> Diagrama gerado em <a href=\"https://miro.com/app\">Miro</a></small> </center>\n",
    "\n",
    "Em Python, a estrutura de um loop do tipo `for` é composta por:\n",
    "\n",
    "* uma **variável de iteração** (normalmente chamada `i` ou `j`, mas poderia ser qualquer outro nome, como, por exemplo, `terra`);\n",
    "* uma **lista** com os elementos que desejamos percorrer. \n",
    "\n",
    "Para exemplificar, vamos construir uma estrutura que imprima no console a frase \"nova iteração\" algumas vezes.\n"
   ]
  },
  {
   "cell_type": "code",
   "execution_count": 8,
   "metadata": {},
   "outputs": [
    {
     "name": "stdout",
     "output_type": "stream",
     "text": [
      "Teste\n",
      "Teste\n",
      "Teste\n"
     ]
    }
   ],
   "source": [
    "for i in [1, 1, 1]:\n",
    "    print(\"Teste\")\n",
    "    \n",
    "    "
   ]
  },
  {
   "cell_type": "markdown",
   "metadata": {},
   "source": [
    "Observe o resultado do código-fonte anterior, passamos uma lista com 3 valores no comando `for`, então os comandos dentro do for serão 3 vezes.\n"
   ]
  },
  {
   "cell_type": "code",
   "execution_count": 9,
   "metadata": {},
   "outputs": [
    {
     "name": "stdout",
     "output_type": "stream",
     "text": [
      "Executa 2 vezes\n",
      "Executa 2 vezes\n",
      "\n",
      "Executa 5 vezes\n",
      "Executa 5 vezes\n",
      "Executa 5 vezes\n",
      "Executa 5 vezes\n",
      "Executa 5 vezes\n"
     ]
    }
   ],
   "source": [
    "for i in [1, 2]:\n",
    "    print(\"Executa 2 vezes\")\n",
    "print()\n",
    "\n",
    "for i in [1, 2, 3, 4, 5]:\n",
    "    print(\"Executa 5 vezes\")"
   ]
  },
  {
   "cell_type": "code",
   "execution_count": 11,
   "metadata": {},
   "outputs": [
    {
     "name": "stdout",
     "output_type": "stream",
     "text": [
      "Executa\n",
      "Executa\n",
      "Executa\n",
      "Executa\n",
      "Executa\n",
      "Executa\n",
      "Executa\n",
      "Executa\n",
      "Executa\n",
      "Executa\n"
     ]
    }
   ],
   "source": [
    "for i in [1, 2]:\n",
    "    for i in [1, 2, 3, 4, 5]:\n",
    "        print(\"Executa\")"
   ]
  },
  {
   "cell_type": "markdown",
   "metadata": {},
   "source": [
    "Caso precisarmos fazer um for que execute 100 vezes.\n",
    "\n",
    "```Python\n",
    "    for i in [1, 2, 3, 4, 5, 6, 7, 8, 9, 10, 11, 12, 13, 14, 15, 16, 17, 18, 19, 20, 21, 22, 23, 24, 25, 26, 27, 28, 29, 30, 31, 32, 33, 34, 35, 36, 37, 38, 39, 40, 41, 42, 43, 44, 45, 46, 47, 48, 49, 50, 51, 52, 53, 54, 55, 56, 57, 58, 59, 60, 61, 62, 63, 64, 65, 66, 67, 68, 69, 70, 71, 72, 73, 74, 75, 76, 77, 78, 79, 80, 81, 82, 83, 84, 85, 86, 87, 88, 89, 90, 91, 92, 93, 94, 95, 96, 97, 98, 99, 100]:\n",
    "        print(\"Executa 100 vezes\")\n",
    "\n",
    "```\n",
    "\n",
    "e 1.000.000 de vezes?????\n",
    "\n",
    "**Não parece muito prático!**"
   ]
  },
  {
   "cell_type": "markdown",
   "metadata": {},
   "source": [
    "Para facilitar isso tem a função `range(x)` que gera uma lista de `x` números.\n",
    "\n",
    "`range(2)` gera uma lista com os números: `[0, 1]`.\n",
    "\n",
    "`range(6)` gera uma lista com os números: `[0, 1, 2, 3, 4, 5]`.\n",
    "\n",
    "`range(100)` gera uma lista com os números: `[0, 1, 2, 3, 4, 5, 6, 7, 8, 9, 10, 11, 12, 13, 14, 15, 16, 17, 18, 19, 20, 21, 22, 23, 24, 25, 26, 27, 28, 29, 30, 31, 32, 33, 34, 35, 36, 37, 38, 39, 40, 41, 42, 43, 44, 45, 46, 47, 48, 49, 50, 51, 52, 53, 54, 55, 56, 57, 58, 59, 60, 61, 62, 63, 64, 65, 66, 67, 68, 69, 70, 71, 72, 73, 74, 75, 76, 77, 78, 79, 80, 81, 82, 83, 84, 85, 86, 87, 88, 89, 90, 91, 92, 93, 94, 95, 96, 97, 98, 99]`.\n",
    "\n",
    "\n"
   ]
  },
  {
   "cell_type": "code",
   "execution_count": 21,
   "metadata": {},
   "outputs": [
    {
     "data": {
      "text/plain": [
       "[0, 1, 2, 3, 4, 5, 6, 7, 8, 9]"
      ]
     },
     "execution_count": 21,
     "metadata": {},
     "output_type": "execute_result"
    }
   ],
   "source": [
    "list( range(10) ) "
   ]
  },
  {
   "cell_type": "code",
   "execution_count": 36,
   "metadata": {},
   "outputs": [
    {
     "name": "stdout",
     "output_type": "stream",
     "text": [
      "Olá nº 1\n",
      "Olá nº 2\n",
      "Olá nº 3\n",
      "Olá nº 4\n",
      "Olá nº 5\n",
      "Olá nº 6\n",
      "Olá nº 7\n",
      "Olá nº 8\n"
     ]
    }
   ],
   "source": [
    "# Faça um programa que imprima Olá 10 vezes, numerando cada Olá.\n",
    "for i in range(10):\n",
    "    print(f'Olá nº {i+1}')"
   ]
  },
  {
   "cell_type": "markdown",
   "metadata": {},
   "source": [
    "Repare que podemos utilizar a variável `i` dentro dos comandos do `for`. Podemos fazer cálculos matemáticos com essa variável:"
   ]
  },
  {
   "cell_type": "code",
   "execution_count": 30,
   "metadata": {},
   "outputs": [
    {
     "name": "stdout",
     "output_type": "stream",
     "text": [
      "0 é par!\n",
      "1 é impar!\n",
      "2 é par!\n",
      "3 é impar!\n",
      "4 é par!\n",
      "5 é impar!\n",
      "6 é par!\n",
      "7 é impar!\n",
      "8 é par!\n",
      "9 é impar!\n",
      "10 é par!\n"
     ]
    }
   ],
   "source": [
    "#Impressão números pares e impares\n",
    "\n",
    "for i in range(11):\n",
    "    if i%2==0:\n",
    "        print(f\"{i} é par!\")\n",
    "    else:\n",
    "        print(f\"{i} é impar!\")\n",
    "    \n",
    "    "
   ]
  },
  {
   "cell_type": "markdown",
   "metadata": {},
   "source": [
    "Os códigos-fontes que são executados a cada iteração devem estar indentados dentro do `for`. Repare no código-fonte abaixo `print(\"Nova iteração\")` é executado 10 vezes. Entretanto, `print(\"Depois do for\")` é só executado uma única vez depois do `for`. "
   ]
  },
  {
   "cell_type": "code",
   "execution_count": 35,
   "metadata": {},
   "outputs": [
    {
     "name": "stdout",
     "output_type": "stream",
     "text": [
      "Antes do for...\n",
      "Nova iteração\n",
      "Nova iteração\n",
      "Nova iteração\n",
      "Nova iteração\n",
      "Nova iteração\n",
      "Nova iteração\n",
      "Nova iteração\n",
      "Nova iteração\n",
      "Nova iteração\n",
      "Nova iteração\n",
      "Depois do for\n"
     ]
    }
   ],
   "source": [
    "print(\"Antes do for...\")\n",
    "\n",
    "for i in range(10):\n",
    "    print(\"Nova iteração\")\n",
    "\n",
    "print(\"Depois do for\")"
   ]
  },
  {
   "cell_type": "markdown",
   "metadata": {},
   "source": [
    "Um erro comum é esquecer de voltar a indentação do código. Observe no exemplo abaixo, agora o `print(\"Depois do for\")` executará 10 vezes com o `print(\"Nova iteração\")`. \n",
    "\n",
    "Está correto ou está errado? Tudo depende do problema que está resolvendo."
   ]
  },
  {
   "cell_type": "code",
   "execution_count": 33,
   "metadata": {},
   "outputs": [
    {
     "name": "stdout",
     "output_type": "stream",
     "text": [
      "Antes do for...\n",
      "Nova iteração\n",
      "Depois do for\n",
      "Nova iteração\n",
      "Depois do for\n",
      "Nova iteração\n",
      "Depois do for\n",
      "Nova iteração\n",
      "Depois do for\n",
      "Nova iteração\n",
      "Depois do for\n",
      "Nova iteração\n",
      "Depois do for\n",
      "Nova iteração\n",
      "Depois do for\n",
      "Nova iteração\n",
      "Depois do for\n",
      "Nova iteração\n",
      "Depois do for\n",
      "Nova iteração\n",
      "Depois do for\n"
     ]
    }
   ],
   "source": [
    "print(\"Antes do for...\")\n",
    "\n",
    "for i in range(10):\n",
    "    print(\"Nova iteração\")\n",
    "\n",
    "    print(\"Depois do for\")"
   ]
  },
  {
   "cell_type": "markdown",
   "metadata": {},
   "source": [
    "Podemos passar qualquer valor inteiro ou variável com um inteiro para a função `range()`."
   ]
  },
  {
   "cell_type": "code",
   "execution_count": 39,
   "metadata": {},
   "outputs": [
    {
     "name": "stdout",
     "output_type": "stream",
     "text": [
      "-1\n"
     ]
    }
   ],
   "source": [
    "# Leia um valor N, depois imprima os valores de 0 até N-1.\n",
    "\n",
    "n = int(input())\n",
    "for i in range(n):\n",
    "    print(i)\n",
    "    "
   ]
  },
  {
   "cell_type": "markdown",
   "metadata": {},
   "source": [
    "##### Função `range()`\n",
    "\n",
    "A função `range()` retorna uma sequência de números, começando em 0 por padrão e incrementando em 1 (por padrão) e para antes de um número especificado. Entretanto, podemos mudar esse comportamento padrão."
   ]
  },
  {
   "cell_type": "code",
   "execution_count": null,
   "metadata": {},
   "outputs": [],
   "source": [
    "list(range(10))"
   ]
  },
  {
   "cell_type": "markdown",
   "metadata": {},
   "source": [
    "##### Sintaxe\n",
    "`range(start, stop, step)`\n",
    "\n",
    "\n",
    "`start`\tOpcional. Um número inteiro que especifica o início. Caso não seja colocado, o valor padrão é 0.\n",
    "\n",
    "`stop`\tObrigatório. Um número inteiro que especifica a posição de término (Não incluído na sequência).\n",
    "\n",
    "`step`\tOpcional. Um número inteiro que especifica o incremento da sequência de valores. Caso não seja colocado, o valor padrão é 1.\n",
    "\n",
    "Vamos a alguns testes."
   ]
  },
  {
   "cell_type": "code",
   "execution_count": null,
   "metadata": {},
   "outputs": [],
   "source": [
    "#Range com 1 parametro, \n",
    "# só estou setando o stop em 5, \n",
    "# o start fica com o valor padrão 0 e \n",
    "# o step fica com o valor padrão 1.\n",
    "\n",
    "list(range(5))"
   ]
  },
  {
   "cell_type": "code",
   "execution_count": 40,
   "metadata": {},
   "outputs": [
    {
     "data": {
      "text/plain": [
       "[]"
      ]
     },
     "execution_count": 40,
     "metadata": {},
     "output_type": "execute_result"
    }
   ],
   "source": [
    "#Range com 1 parâmetro, \n",
    "# só estou setando o stop em -5, \n",
    "# o start fica com o valor padrão 0 e \n",
    "# o step fica com o valor padrão 1.\n",
    "\n",
    "list(range(-5))"
   ]
  },
  {
   "cell_type": "code",
   "execution_count": 41,
   "metadata": {},
   "outputs": [
    {
     "data": {
      "text/plain": [
       "[1, 2, 3, 4]"
      ]
     },
     "execution_count": 41,
     "metadata": {},
     "output_type": "execute_result"
    }
   ],
   "source": [
    "#Range com 2 parâmetros, \n",
    "# Estou setando o stop em 5 e o start com 1\n",
    "# o step fica com o valor padrão 1.\n",
    "\n",
    "list(range(1, 5))"
   ]
  },
  {
   "cell_type": "code",
   "execution_count": 44,
   "metadata": {},
   "outputs": [
    {
     "data": {
      "text/plain": [
       "[]"
      ]
     },
     "execution_count": 44,
     "metadata": {},
     "output_type": "execute_result"
    }
   ],
   "source": [
    "#Range com 2 parâmetros, \n",
    "# Estou setando o stop em 1 e o start com 5\n",
    "# o step fica com o valor padrão 1.\n",
    "\n",
    "list(range(5, 1))"
   ]
  },
  {
   "cell_type": "code",
   "execution_count": 45,
   "metadata": {},
   "outputs": [
    {
     "data": {
      "text/plain": [
       "[1, 3, 5, 7, 9]"
      ]
     },
     "execution_count": 45,
     "metadata": {},
     "output_type": "execute_result"
    }
   ],
   "source": [
    "# Range com 3 parâmentros,\n",
    "# Estou setando o start com 1, o stop com 10 e o step 2\n",
    "\n",
    "list(range(1, 10, 2))"
   ]
  },
  {
   "cell_type": "code",
   "execution_count": 46,
   "metadata": {},
   "outputs": [
    {
     "data": {
      "text/plain": [
       "[3, 6, 9, 12, 15, 18, 21, 24, 27, 30]"
      ]
     },
     "execution_count": 46,
     "metadata": {},
     "output_type": "execute_result"
    }
   ],
   "source": [
    "# Multiplos de 3\n",
    "list(range(3, 31, 3))"
   ]
  },
  {
   "cell_type": "code",
   "execution_count": 47,
   "metadata": {},
   "outputs": [
    {
     "data": {
      "text/plain": [
       "[10, 8, 6, 4, 2]"
      ]
     },
     "execution_count": 47,
     "metadata": {},
     "output_type": "execute_result"
    }
   ],
   "source": [
    "# Range com 3 parâmentros,\n",
    "# Estou setando o start com 10, o stop com 1 e o step -2\n",
    "\n",
    "list(range(10, 1, -2))"
   ]
  },
  {
   "cell_type": "code",
   "execution_count": 48,
   "metadata": {},
   "outputs": [
    {
     "name": "stdout",
     "output_type": "stream",
     "text": [
      "Olá João\n",
      "Olá João\n",
      "Olá João\n",
      "Olá João\n",
      "Olá João\n",
      "Olá Paulo\n",
      "Olá Paulo\n",
      "Olá Paulo\n",
      "Olá Paulo\n",
      "Olá Paulo\n"
     ]
    }
   ],
   "source": [
    "for i in range(10):\n",
    "    if i < 5:\n",
    "        print(\"Olá João\")\n",
    "    else:\n",
    "        print(\"Olá Paulo\")"
   ]
  },
  {
   "cell_type": "markdown",
   "metadata": {},
   "source": [
    "Voltando ao `for`\n",
    "\n",
    "Um loop `for` é usado para iterar sobre uma sequência valores:\n",
    "\n",
    "    Pode ser uma lista, uma tupla, um dicionário, um conjunto ou uma string. \n",
    " \n",
    "\n",
    "Isso é menos parecido que for em outras linguagens de programação e funciona mais como um método iterador encontrado em outras linguagens de programação orientadas a objetos.\n",
    "\n",
    "Com o loop for podemos executar um conjunto de instruções, uma vez para cada item em uma lista, tupla, conjunto, etc.\n",
    "\n",
    "\n",
    "O método `range()` então cria essa lista de valores a serem usados um por um na execução do for.\n",
    "\n",
    "Vamos a alguns exemplos.\n"
   ]
  },
  {
   "cell_type": "code",
   "execution_count": 49,
   "metadata": {},
   "outputs": [
    {
     "name": "stdout",
     "output_type": "stream",
     "text": [
      "0\n",
      "1\n",
      "2\n",
      "3\n",
      "4\n"
     ]
    }
   ],
   "source": [
    "for i in range(5):\n",
    "    # Os códigos dentro do for serão executados 5 vezes, pois\n",
    "    # o range(5) cria a seguinte lista de valores [0, 1, 2, 3, 4]\n",
    "    # cada execução do for vai guardar um desses valores na variável i\n",
    "    \n",
    "    print(i)"
   ]
  },
  {
   "cell_type": "code",
   "execution_count": 50,
   "metadata": {},
   "outputs": [
    {
     "name": "stdout",
     "output_type": "stream",
     "text": [
      "0\n",
      "1\n",
      "2\n",
      "3\n",
      "4\n"
     ]
    }
   ],
   "source": [
    "# Basicamente o código acima é mesmo que esse abaixo\n",
    "\n",
    "for i in [0, 1, 2, 3, 4]:\n",
    "    print(i)"
   ]
  },
  {
   "cell_type": "code",
   "execution_count": 51,
   "metadata": {},
   "outputs": [
    {
     "name": "stdout",
     "output_type": "stream",
     "text": [
      "5\n",
      "12\n",
      "6 é par!\n",
      "7 é impar!\n",
      "8 é par!\n",
      "9 é impar!\n",
      "10 é par!\n",
      "11 é impar!\n"
     ]
    }
   ],
   "source": [
    "# Faça um programa que leia dois valores inteiro, o início e fim do for. \n",
    "# Após isso classifique todos os valores ENTRE ELES como par ou impar\n",
    "\n",
    "inicio = int(input())\n",
    "fim = int(input())\n",
    "\n",
    "for i in range(inicio+1, fim):\n",
    "    if i%2 == 0:\n",
    "        print(f\"{i} é par!\")\n",
    "    else:\n",
    "        print(f\"{i} é impar!\")"
   ]
  },
  {
   "cell_type": "markdown",
   "metadata": {},
   "source": [
    "Vamos ver o passo a passo desse código [aqui](https://pythontutor.com/python-debugger.html#code=ini%20%3D%20int%28input%28%29%29%0Afim%20%3D%20int%28input%28%29%29%0A%0Afor%20valor%20in%20range%28ini%2B1,%20fim%29%3A%0A%20%20%20%20if%20valor%252%20%3D%3D%200%3A%0A%20%20%20%20%20%20%20%20print%28f%22O%20valor%20%7Bvalor%7D%20%C3%A9%20par!%22%29%0A%20%20%20%20else%3A%0A%20%20%20%20%20%20%20%20print%28f%22O%20valor%20%7Bvalor%7D%20%C3%A9%20impar!%22%29&cumulative=false&heapPrimitives=nevernest&mode=edit&origin=opt-frontend.js&py=3&rawInputLstJSON=%5B%5D&textReferences=false)\n"
   ]
  },
  {
   "cell_type": "code",
   "execution_count": null,
   "metadata": {},
   "outputs": [],
   "source": [
    "# Mesmo problema anterior, mas agora com a diferença que não sabemos se 1º ou 2º valor lido será o menor.\n",
    "# Então temos que testar a ordem primeiro\n",
    "\n",
    "# 1ª solução\n",
    "\n",
    "v1 = int(input())\n",
    "v2 = int(input())\n",
    "\n",
    "if v1 < v2:\n",
    "    for valor in range(v1+1, v2):\n",
    "        if valor%2 == 0:\n",
    "            print(f\"O valor {valor} é par!\")\n",
    "        else:\n",
    "            print(f\"O valor {valor} é impar!\")\n",
    "else:\n",
    "    for valor in range(v2+1, v1):\n",
    "        if valor%2 == 0:\n",
    "            print(f\"O valor {valor} é par!\")\n",
    "        else:\n",
    "            print(f\"O valor {valor} é impar!\")"
   ]
  },
  {
   "cell_type": "code",
   "execution_count": null,
   "metadata": {},
   "outputs": [],
   "source": [
    "# Mesmo problema anterior, mas agora com a diferença é que no segundo caso\n",
    "# queremos decrescente\n",
    "\n",
    "v1 = int(input())\n",
    "v2 = int(input())\n",
    "\n",
    "if v1 < v2:\n",
    "    for valor in range(v1+1, v2):\n",
    "        if valor%2 == 0:\n",
    "            print(f\"O valor {valor} é par!\")\n",
    "        else:\n",
    "            print(f\"O valor {valor} é impar!\")\n",
    "else:\n",
    "    for valor in range(v1-1, v2, -1):\n",
    "        if valor%2 == 0:\n",
    "            print(f\"O valor {valor} é par!\")\n",
    "        else:\n",
    "            print(f\"O valor {valor} é impar!\")"
   ]
  },
  {
   "cell_type": "code",
   "execution_count": null,
   "metadata": {},
   "outputs": [],
   "source": [
    "# 2ª solução\n",
    "v1 = int(input())\n",
    "v2 = int(input())\n",
    "\n",
    "if v2 < v1:\n",
    "    v1, v2 = v2, v1\n",
    "    \n",
    "    \n",
    "for valor in range(v1+1, v2):\n",
    "    if valor%2 == 0:\n",
    "        print(f\"O valor {valor} é par!\")\n",
    "    else:\n",
    "        print(f\"O valor {valor} é impar!\")\n"
   ]
  },
  {
   "cell_type": "markdown",
   "metadata": {},
   "source": [
    "Agora podem começar a fazer a **Lista 6 - For - Básico**"
   ]
  },
  {
   "cell_type": "markdown",
   "metadata": {},
   "source": [
    "<img src=\".\\Imagens\\08-02.png\">"
   ]
  },
  {
   "cell_type": "code",
   "execution_count": null,
   "metadata": {},
   "outputs": [],
   "source": [
    "n = int(input())\n",
    "for i in range(n):\n",
    "    x, y = input().split()\n",
    "    x = int(x)\n",
    "    y = int(y)\n",
    "    if y < x:\n",
    "        x, y = y, x\n",
    "    \n",
    "    soma = 0\n",
    "    for j in range(x+1, y):\n",
    "        if j%2 != 0:\n",
    "            soma = soma + j\n",
    "    print(soma)\n",
    "            "
   ]
  },
  {
   "cell_type": "markdown",
   "metadata": {},
   "source": [
    "Agora podem começar a fazer a **Lista 5 - For**"
   ]
  }
 ],
 "metadata": {
  "kernelspec": {
   "display_name": "Python 3 (ipykernel)",
   "language": "python",
   "name": "python3"
  },
  "language_info": {
   "codemirror_mode": {
    "name": "ipython",
    "version": 3
   },
   "file_extension": ".py",
   "mimetype": "text/x-python",
   "name": "python",
   "nbconvert_exporter": "python",
   "pygments_lexer": "ipython3",
   "version": "3.11.7"
  }
 },
 "nbformat": 4,
 "nbformat_minor": 4
}
