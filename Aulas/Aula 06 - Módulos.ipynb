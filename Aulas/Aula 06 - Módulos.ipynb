{
 "cells": [
  {
   "cell_type": "markdown",
   "metadata": {},
   "source": [
    "### <center>Algoritmos e Estruturas de Dados</center>\n",
    "\n",
    "#### <center>Módulos</center>\n",
    "\n",
    "\n",
    "**Prof.**: João Paulo Orlando\n",
    "\n",
    "**Curso**: Técnico em Informática Integrado ao Ensino Médio"
   ]
  },
  {
   "cell_type": "markdown",
   "metadata": {},
   "source": [
    "Um módulo é um arquivo contendo definições e comandos em Python para serem usados em outros programas em Python. Há diversos módulos do Python que fazem parte da biblioteca padrão. Para acessar a lista completa de módulos disponíveis podem ver a documentação [Índice de Módulos Python](https://docs.python.org/pt-br/3/py-modindex.html).\n",
    "\n",
    "Nessa disciplina, vamos aprender a utilizar alguns módulos básicos, pois funções muito importantes já estão implementadas para nós."
   ]
  },
  {
   "cell_type": "markdown",
   "metadata": {},
   "source": [
    "Vamos começar com o módulo matemático `math`. Documentação completa em : [Math - funções matemáticas](https://docs.python.org/pt-br/3/library/math.html#module-math)\n",
    "\n",
    "O módulo contém funções matemáticas que você costuma encontrar em calculadoras e algumas constantes matemáticas como `pi` e `e`.\n",
    "Temos 3 formas de importar um módulo e utilizar ele.\n",
    "\n",
    "* `import math`\n",
    "* `import math as mt`\n",
    "* `from math import *`\n",
    "\n",
    "Vamos a um exemplo de cada:"
   ]
  },
  {
   "cell_type": "code",
   "execution_count": 5,
   "metadata": {},
   "outputs": [
    {
     "name": "stdout",
     "output_type": "stream",
     "text": [
      "3.141592653589793 2.718281828459045\n"
     ]
    }
   ],
   "source": [
    "import math\n",
    "print(math.pi, math.e)"
   ]
  },
  {
   "cell_type": "code",
   "execution_count": 11,
   "metadata": {},
   "outputs": [
    {
     "name": "stdout",
     "output_type": "stream",
     "text": [
      "3.141592653589793 2.718281828459045\n"
     ]
    }
   ],
   "source": [
    "import math as mt\n",
    "print(mt.pi, mt.e)\n",
    "\n",
    "#Esse constuma ser o melhor jeito para a grande maioria das vezes."
   ]
  },
  {
   "cell_type": "code",
   "execution_count": 9,
   "metadata": {},
   "outputs": [
    {
     "name": "stdout",
     "output_type": "stream",
     "text": [
      "3.141592653589793 2.718281828459045\n"
     ]
    }
   ],
   "source": [
    "from math import pi, e\n",
    "\n",
    "print(pi, e)\n",
    "\n",
    "# Esse é o menos recomendado, pois pi e e \n",
    "#   podem se confundir com variáveis locais do programa, como pode ser visto no exemplo abaixo"
   ]
  },
  {
   "cell_type": "code",
   "execution_count": 10,
   "metadata": {},
   "outputs": [
    {
     "name": "stdout",
     "output_type": "stream",
     "text": [
      "2 2.718281828459045\n"
     ]
    }
   ],
   "source": [
    "from math import pi, e\n",
    "pi = 2\n",
    "\n",
    "print(pi, e)"
   ]
  },
  {
   "cell_type": "markdown",
   "metadata": {},
   "source": [
    "O módulo math possui muitas funções prontas, seguem a listagem de algumas:\n",
    "\n",
    "* Aritméticas:\n",
    "    - `floor(x)` - arredondar para baixo.\n",
    "    - `ceil(x)` - arredondar para cima.\n",
    "    - `fabs(x)` / `abs(x)` - valor absoluto de um número.\n",
    "\n",
    "* Trigonometria:\n",
    "    - `cos(x)` - valor do cosseno de x radianos.\n",
    "    - `sin(x)` - valor do seno de x radianos.\n",
    "    - `tan(x)` - valor da tangente de x radianos.\n",
    "    - `acos(x)` - retorna o arco cosseno de x, em radianos.\n",
    "    - `asin(x)` - retorna o arco seno de x, em radianos.\n",
    "    - `atan(x)` - retorna o arco tangente de x, em radianos.\n",
    "    \n",
    "* Conversão entre graus e radianos\n",
    "    - `degrees(x)` - retorna o valor em graus de x radianos.\n",
    "    - `radians(x)` - faz o contrário, recebe um valor x em graus e transformar em radiano.\n",
    "\n",
    "* Raiz quadrada:\n",
    "    - `sqrt(x)` \n",
    "\n",
    "* Logaritmo e Exponencial:\n",
    "    - `e` - Constante e, base dos logaritmos naturais (número de Euler)\n",
    "    - `exp(x)` - calcula uma exponenciação do tipo e^x (e elevado a x)\n",
    "    - `log(x)` - calcula o logaritmo natural de x.\n",
    "    - `log10(x)` - calcula o logaritmo na base 10."
   ]
  },
  {
   "cell_type": "code",
   "execution_count": 4,
   "metadata": {},
   "outputs": [
    {
     "name": "stdout",
     "output_type": "stream",
     "text": [
      "Informe um valor para tirar a raíz quadrada: 9\n",
      "A raíz de 9 é 3.0\n"
     ]
    }
   ],
   "source": [
    "import math\n",
    "\n",
    "valor = int(input(\"Informe um valor para tirar a raíz quadrada: \"))\n",
    "\n",
    "raiz = math.sqrt(valor)\n",
    "\n",
    "print(f\"A raíz de {valor} é {raiz}\")\n"
   ]
  },
  {
   "cell_type": "code",
   "execution_count": null,
   "metadata": {},
   "outputs": [],
   "source": []
  }
 ],
 "metadata": {
  "kernelspec": {
   "display_name": "Python 3",
   "language": "python",
   "name": "python3"
  },
  "language_info": {
   "codemirror_mode": {
    "name": "ipython",
    "version": 3
   },
   "file_extension": ".py",
   "mimetype": "text/x-python",
   "name": "python",
   "nbconvert_exporter": "python",
   "pygments_lexer": "ipython3",
   "version": "3.7.6"
  }
 },
 "nbformat": 4,
 "nbformat_minor": 4
}
