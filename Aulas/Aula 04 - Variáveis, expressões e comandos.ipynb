{
 "cells": [
  {
   "cell_type": "markdown",
   "metadata": {},
   "source": [
    "### <center>Algoritmos e Estruturas de Dados</center>\n",
    "\n",
    "#### <center>Variáveis, expressões e comandos</center>\n",
    "\n",
    "\n",
    "**Prof.**: João Paulo Orlando\n",
    "\n",
    "**Curso**: Técnico em Informática Integrado ao Ensino Médio"
   ]
  },
  {
   "cell_type": "markdown",
   "metadata": {},
   "source": [
    "#### Variáveis e valores\n",
    "Um valor é uma das coisas fundamentais — como uma palavra ou número — que um programa manipula.\n",
    "\n",
    "Frequentemente nos referimos a esses valores como objetos.\n",
    "\n",
    "Esses objetos são classificados em classes ou tipos de dados diferentes:\n",
    "\n",
    "* 4 é um número inteiro.\n",
    "\n",
    "* 3.1415 é um número real, ou ponto flutuante.\n",
    "\n",
    "* \"Olá, mundo!\" é um string ou texto cadeia de caracteres, que recebe esse nome, pois contém uma sequência de letras ou caracteres.\n",
    "\n",
    "* True (Verdadeiro) ou False (Falso) é um Booleano.\n",
    "\n",
    "Para sabermos qual é o tipo de um valor podemos usar a função `type()`.\n",
    "\n",
    "A função `type()` retorna o tipo do objeto especificado"
   ]
  },
  {
   "cell_type": "code",
   "execution_count": 16,
   "metadata": {},
   "outputs": [
    {
     "name": "stdout",
     "output_type": "stream",
     "text": [
      "5\n"
     ]
    }
   ],
   "source": [
    "print(5)"
   ]
  },
  {
   "cell_type": "code",
   "execution_count": 17,
   "metadata": {},
   "outputs": [
    {
     "name": "stdout",
     "output_type": "stream",
     "text": [
      "<class 'int'>\n"
     ]
    }
   ],
   "source": [
    "print(type(5))"
   ]
  },
  {
   "cell_type": "code",
   "execution_count": 18,
   "metadata": {},
   "outputs": [
    {
     "name": "stdout",
     "output_type": "stream",
     "text": [
      "True\n"
     ]
    }
   ],
   "source": [
    "print(True)"
   ]
  },
  {
   "cell_type": "code",
   "execution_count": 19,
   "metadata": {},
   "outputs": [
    {
     "name": "stdout",
     "output_type": "stream",
     "text": [
      "<class 'bool'>\n"
     ]
    }
   ],
   "source": [
    "print(type(True))"
   ]
  },
  {
   "cell_type": "code",
   "execution_count": 20,
   "metadata": {},
   "outputs": [
    {
     "name": "stdout",
     "output_type": "stream",
     "text": [
      "5.2\n"
     ]
    }
   ],
   "source": [
    "print(5.2)"
   ]
  },
  {
   "cell_type": "code",
   "execution_count": 21,
   "metadata": {},
   "outputs": [
    {
     "name": "stdout",
     "output_type": "stream",
     "text": [
      "<class 'float'>\n"
     ]
    }
   ],
   "source": [
    "print(type(5.2))"
   ]
  },
  {
   "cell_type": "code",
   "execution_count": 22,
   "metadata": {},
   "outputs": [
    {
     "name": "stdout",
     "output_type": "stream",
     "text": [
      "<class 'str'>\n"
     ]
    }
   ],
   "source": [
    "print(type(\"Olá\"))"
   ]
  },
  {
   "cell_type": "markdown",
   "metadata": {},
   "source": [
    "**Atenção**: \n",
    "\n",
    "Quando você digita um inteiro grande, você poderia ficar tentado a usar vírgulas (Em países de língua inglês) ou ponto (Em países de língua portuguesa) entre grupos de três dígitos, como em 42,000 ou 42.000. \n",
    "\n",
    "Esses não são inteiros legítimos em Python, mas têm outros significados, que são legítimos. Para facilitar a leitura de número maiores podemos usar o _ (underline), mas não é obrigatório."
   ]
  },
  {
   "cell_type": "code",
   "execution_count": 23,
   "metadata": {},
   "outputs": [
    {
     "name": "stdout",
     "output_type": "stream",
     "text": [
      "42.0\n"
     ]
    }
   ],
   "source": [
    "print(42.000)"
   ]
  },
  {
   "cell_type": "code",
   "execution_count": 24,
   "metadata": {},
   "outputs": [
    {
     "name": "stdout",
     "output_type": "stream",
     "text": [
      "42 0\n"
     ]
    }
   ],
   "source": [
    "print(42,000)"
   ]
  },
  {
   "cell_type": "code",
   "execution_count": 25,
   "metadata": {},
   "outputs": [
    {
     "name": "stdout",
     "output_type": "stream",
     "text": [
      "42000\n",
      "42000000000000\n",
      "\n",
      "42000\n",
      "42000000000000\n"
     ]
    }
   ],
   "source": [
    "print(42_000)\n",
    "print(42_000_000_000_000)\n",
    "print()\n",
    "\n",
    "print(42000)\n",
    "print(42000000000000)"
   ]
  },
  {
   "cell_type": "code",
   "execution_count": 26,
   "metadata": {},
   "outputs": [
    {
     "name": "stdout",
     "output_type": "stream",
     "text": [
      "Seis\n",
      "<class 'str'>\n"
     ]
    }
   ],
   "source": [
    "print(\"Seis\")\n",
    "print(type(\"Seis\"))\n",
    "\n",
    "# Quando mostramos o valor de um string usando a função print \n",
    "#   as aspas não são mostradas pela função print. \n",
    "# O valor de um string é a sequência de caracteres entre as aspas. \n",
    "# As aspas são apenas necessárias para ajudar o Python a saber qual é esse valor, \n",
    "#   elas servem para delimitar o string."
   ]
  },
  {
   "cell_type": "code",
   "execution_count": 27,
   "metadata": {},
   "outputs": [
    {
     "ename": "NameError",
     "evalue": "name 'Seis' is not defined",
     "output_type": "error",
     "traceback": [
      "\u001b[1;31m---------------------------------------------------------------------------\u001b[0m",
      "\u001b[1;31mNameError\u001b[0m                                 Traceback (most recent call last)",
      "\u001b[1;32m<ipython-input-27-f2afe9152116>\u001b[0m in \u001b[0;36m<module>\u001b[1;34m\u001b[0m\n\u001b[1;32m----> 1\u001b[1;33m \u001b[0mprint\u001b[0m\u001b[1;33m(\u001b[0m\u001b[0mSeis\u001b[0m\u001b[1;33m)\u001b[0m\u001b[1;33m\u001b[0m\u001b[1;33m\u001b[0m\u001b[0m\n\u001b[0m",
      "\u001b[1;31mNameError\u001b[0m: name 'Seis' is not defined"
     ]
    }
   ],
   "source": [
    "print(Seis)"
   ]
  },
  {
   "cell_type": "markdown",
   "metadata": {},
   "source": [
    "Repare que no caso anterior ocorreu um erro, dizendo que **O nome 'Seis' não está definido**"
   ]
  },
  {
   "cell_type": "code",
   "execution_count": 28,
   "metadata": {},
   "outputs": [
    {
     "name": "stdout",
     "output_type": "stream",
     "text": [
      "<class 'str'>\n",
      "<class 'str'>\n"
     ]
    }
   ],
   "source": [
    "# Qual será o resultado das impressões abaixo?\n",
    "\n",
    "print(type(\"17\"))\n",
    "print(type(\"3.2\"))"
   ]
  },
  {
   "cell_type": "markdown",
   "metadata": {},
   "source": [
    "Strings em Python podem ser delimitados por aspas simples (') aspas duplas (\"), ou três de cada (''' ou \"\"\")"
   ]
  },
  {
   "cell_type": "code",
   "execution_count": null,
   "metadata": {},
   "outputs": [],
   "source": [
    "print(type('Isso é uma string.') )\n",
    "print(type(\"E isso tambem é uma string.\") )\n",
    "print(type(\"\"\"e isso.\"\"\") )\n",
    "print(type('''e mesmo isso...''') )"
   ]
  },
  {
   "cell_type": "markdown",
   "metadata": {},
   "source": [
    "Strings com aspas duplas podem conter aspas simples, como em \"O símbolo ' é um apóstrofo\",\n",
    "\n",
    "Strings com aspas simples podem conter aspas duplas, como em 'Os cavaleiros que dizem \"Ni!\"'.\n",
    "\n",
    "Strings delimitados por três aspas duplas ou aspas simples são chamadas de strings triplos (triple quoted strings). Eles podem conter aspas duplas e aspas simples, além de outros caracteres especiais como o Enter."
   ]
  },
  {
   "cell_type": "code",
   "execution_count": 29,
   "metadata": {},
   "outputs": [
    {
     "name": "stdout",
     "output_type": "stream",
     "text": [
      "Inprimindo 'aspas simples' na mensagem.\n",
      "Inprimindo \"aspas duplas\" na mensagem.\n",
      "Imprimindo \"aspas duplas\" e 'aspas simples' na mesma mensagem.\n"
     ]
    }
   ],
   "source": [
    "print(\"Inprimindo 'aspas simples' na mensagem.\")\n",
    "print('Inprimindo \"aspas duplas\" na mensagem.')\n",
    "print(\"\"\"Imprimindo \"aspas duplas\" e 'aspas simples' na mesma mensagem.\"\"\")"
   ]
  },
  {
   "cell_type": "code",
   "execution_count": 30,
   "metadata": {},
   "outputs": [
    {
     "name": "stdout",
     "output_type": "stream",
     "text": [
      "Essa mensagem tem uma quebra de linha (enter) aqui\n",
      "\n",
      "\n",
      "E agora começa a segunda linha\n"
     ]
    }
   ],
   "source": [
    "print(\"\"\"Essa mensagem tem uma quebra de linha (enter) aqui\n",
    "\n",
    "\n",
    "E agora começa a segunda linha\"\"\")"
   ]
  },
  {
   "cell_type": "code",
   "execution_count": 34,
   "metadata": {},
   "outputs": [
    {
     "ename": "SyntaxError",
     "evalue": "EOL while scanning string literal (<ipython-input-34-28b962dcbd38>, line 1)",
     "output_type": "error",
     "traceback": [
      "\u001b[1;36m  File \u001b[1;32m\"<ipython-input-34-28b962dcbd38>\"\u001b[1;36m, line \u001b[1;32m1\u001b[0m\n\u001b[1;33m    print('Isso não funciona com aspas simples ou dupla\u001b[0m\n\u001b[1;37m                                                       ^\u001b[0m\n\u001b[1;31mSyntaxError\u001b[0m\u001b[1;31m:\u001b[0m EOL while scanning string literal\n"
     ]
    }
   ],
   "source": [
    "print('Isso não funciona com aspas simples ou dupla\n",
    "      pois dá erro')"
   ]
  },
  {
   "cell_type": "markdown",
   "metadata": {},
   "source": [
    "#### Variáveis e Constantes\n",
    "Variáveis e constantes são os elementos básicos que um programa manipula.\n",
    "\n",
    "Uma variável ou constante é um espaço reservado na memória do computador para armazenar um tipo de dado.\n",
    "\n",
    "Variáveis ou constantes devem receber nomes para poderem ser referenciadas e modificadas quando necessário.\n",
    "\n",
    "#### Diferenças entre constantes e variáveis\n",
    "Constante é um determinado valor fixo que não se modifica ao longo do tempo, durante a execução de um programa.\n",
    "\n",
    "<img src=\"./Imagens/04-01.png\">\n",
    "\n",
    "Variável é a representação simbólica dos elementos de um certo conjunto.\n",
    "\n",
    "Cada variável corresponde a uma posição de memória, cujo conteúdo pode se alterado ao longo do tempo durante a execução de um programa.\n",
    "\n",
    "Embora uma variável possa assumir diferentes valores, ela só pode armazenar um valor a cada instante.\n",
    "\n",
    "<img src=\"./Imagens/04-02.png\" width=\"450\">"
   ]
  },
  {
   "cell_type": "markdown",
   "metadata": {},
   "source": [
    "#### Declaração de Variáveis\n",
    "No Python para criarmos uma variável, atribuindo um valor inicial para a variável.\n",
    "\n",
    "No exemplo abaixo é feito três atribuições. A primeira atribui o string \"O que há velhinho?\" a uma nova variável chamada mensagem. O segundo atribui o inteiro 17 à n, e o terceiro atribui um número em ponto-flutuante 3.14159 a variável chamada pi."
   ]
  },
  {
   "cell_type": "code",
   "execution_count": 35,
   "metadata": {},
   "outputs": [
    {
     "name": "stdout",
     "output_type": "stream",
     "text": [
      "O que ha velhinho? 60654.13\n"
     ]
    }
   ],
   "source": [
    "mensagem = \"O que ha velhinho?\"\n",
    "n = 17\n",
    "salario = 3567.89\n",
    "\n",
    "print(mensagem, n*salario)"
   ]
  },
  {
   "cell_type": "markdown",
   "metadata": {},
   "source": [
    "O comando de atribuição associa o nome, que está à esquerda do operador (=), com o valor, que está à direita. Por esta razão é que você receberá uma mensagem de erro se fizer:"
   ]
  },
  {
   "cell_type": "code",
   "execution_count": 36,
   "metadata": {},
   "outputs": [
    {
     "ename": "SyntaxError",
     "evalue": "can't assign to literal (<ipython-input-36-beb598da8e38>, line 1)",
     "output_type": "error",
     "traceback": [
      "\u001b[1;36m  File \u001b[1;32m\"<ipython-input-36-beb598da8e38>\"\u001b[1;36m, line \u001b[1;32m1\u001b[0m\n\u001b[1;33m    17 = n\u001b[0m\n\u001b[1;37m          ^\u001b[0m\n\u001b[1;31mSyntaxError\u001b[0m\u001b[1;31m:\u001b[0m can't assign to literal\n"
     ]
    }
   ],
   "source": [
    "17 = n"
   ]
  },
  {
   "cell_type": "markdown",
   "metadata": {},
   "source": [
    "Se você pedir para que o valor de uma variável seja impresso, Python exibirá o valor que está atualmente associado à variável. Em outras palavras, ao imprimir uma variável será exibido o valor ao qual a variável se refere."
   ]
  },
  {
   "cell_type": "code",
   "execution_count": null,
   "metadata": {},
   "outputs": [],
   "source": [
    "n = 17\n",
    "n = 22\n",
    "n = 31\n",
    "n = 47\n",
    "print(n)"
   ]
  },
  {
   "cell_type": "markdown",
   "metadata": {},
   "source": [
    "Variáveis também tem tipos; novamente, podemos perguntar ao Python o tipo das variáveis."
   ]
  },
  {
   "cell_type": "code",
   "execution_count": 37,
   "metadata": {},
   "outputs": [
    {
     "name": "stdout",
     "output_type": "stream",
     "text": [
      "<class 'str'>\n",
      "<class 'int'>\n",
      "<class 'float'>\n"
     ]
    }
   ],
   "source": [
    "mensagem = \"O que ha velhinho?\"\n",
    "n = 17\n",
    "salario = 3567.89\n",
    "\n",
    "print(type(mensagem))\n",
    "print(type(n))\n",
    "print(type(salario))"
   ]
  },
  {
   "cell_type": "markdown",
   "metadata": {},
   "source": [
    "Usamos variáveis em programas para “lembrar” coisas, como o placar atual de um jogo de futebol. Mas variáveis são variáveis. Isto significa que elas podem ser alterados ao longo do tempo, exatamente como o placar de um jogo de futebol.\n",
    "\n",
    "Você pode atribuir um valor a uma variável e mais tarde atribuir um valor diferente a mesma variável."
   ]
  },
  {
   "cell_type": "markdown",
   "metadata": {},
   "source": [
    "#### Nomes de variáveis e palavras reservadas\n",
    "\n",
    "Regras para construção de nomes de variáveis:\n",
    "\n",
    "* Usar nomes relacionados aos valores\n",
    "* Usar _ em nomes com muitas palavras, ex: meu_nome\n",
    "* Não iniciar nomes com números, ex: 76trombones\n",
    "* Não começar com letras maiúsculas.\n",
    "* Não ser uma palavra reservada da linguagem python. Palavras reservadas são utilizadas em comandos dentro da linguagem e não podem ser usadas como: `and`, `as`, `assert`, `break`, `class`, `continue`, `def`, `del`, `elif`, `else`, `except`, `exec`, `finally`, `for`, `from`, `global`, `if`, `import`, `in`, `is`, `lambda`, `nonlocal`, `not`, `or`, `pass`, `raise`, `return`, `try`, `while`, `with`, `yield`, `True`, `False` e `None`."
   ]
  },
  {
   "cell_type": "code",
   "execution_count": 39,
   "metadata": {},
   "outputs": [],
   "source": [
    "#Nomes de variáveis válidos\n",
    "\n",
    "_nome = 'João'\n",
    "cidade_nascimento = 'Curitiba'\n",
    "cid_nasc = 'Curitba'\n",
    "cid_10 = 'K29'"
   ]
  },
  {
   "cell_type": "code",
   "execution_count": 38,
   "metadata": {},
   "outputs": [
    {
     "ename": "SyntaxError",
     "evalue": "invalid token (<ipython-input-38-2bee5a44594b>, line 3)",
     "output_type": "error",
     "traceback": [
      "\u001b[1;36m  File \u001b[1;32m\"<ipython-input-38-2bee5a44594b>\"\u001b[1;36m, line \u001b[1;32m3\u001b[0m\n\u001b[1;33m    76_tromb = 12\u001b[0m\n\u001b[1;37m      ^\u001b[0m\n\u001b[1;31mSyntaxError\u001b[0m\u001b[1;31m:\u001b[0m invalid token\n"
     ]
    }
   ],
   "source": [
    "#Nome de variável inválido\n",
    "# Não pode começar com números\n",
    "76_tromb = 12"
   ]
  },
  {
   "cell_type": "code",
   "execution_count": 40,
   "metadata": {},
   "outputs": [
    {
     "ename": "SyntaxError",
     "evalue": "invalid syntax (<ipython-input-40-7f055c28a0b2>, line 3)",
     "output_type": "error",
     "traceback": [
      "\u001b[1;36m  File \u001b[1;32m\"<ipython-input-40-7f055c28a0b2>\"\u001b[1;36m, line \u001b[1;32m3\u001b[0m\n\u001b[1;33m    salario$ = 1500.76\u001b[0m\n\u001b[1;37m           ^\u001b[0m\n\u001b[1;31mSyntaxError\u001b[0m\u001b[1;31m:\u001b[0m invalid syntax\n"
     ]
    }
   ],
   "source": [
    "#Nome de variável inválido\n",
    "# Não pode conter caracteres especiais, além do _\n",
    "salario$ = 1500.76"
   ]
  },
  {
   "cell_type": "code",
   "execution_count": 44,
   "metadata": {},
   "outputs": [
    {
     "ename": "SyntaxError",
     "evalue": "invalid syntax (<ipython-input-44-f7fb0b789861>, line 3)",
     "output_type": "error",
     "traceback": [
      "\u001b[1;36m  File \u001b[1;32m\"<ipython-input-44-f7fb0b789861>\"\u001b[1;36m, line \u001b[1;32m3\u001b[0m\n\u001b[1;33m    class = 3\u001b[0m\n\u001b[1;37m          ^\u001b[0m\n\u001b[1;31mSyntaxError\u001b[0m\u001b[1;31m:\u001b[0m invalid syntax\n"
     ]
    }
   ],
   "source": [
    "#Nome de variável inválido\n",
    "# Não pode usar palavras reservadas na linguagem\n",
    "class = 3"
   ]
  },
  {
   "cell_type": "markdown",
   "metadata": {},
   "source": [
    "#### Funções para conversão de valores\n",
    "Algumas vezes é necessário converter valores de um tipo para o outro.\n",
    "\n",
    "Python fornece algumas funções simples que permitirão que façamos isso:\n",
    "\n",
    "* `int()` - constrói um número inteiro a partir de um número inteiro, um número real (removendo todos os decimais) ou uma string (desde que a string represente um número inteiro)\n",
    "* `float()` - constrói um número real a partir de um número inteiro, um número real ou uma string (desde que a string represente um float ou um inteiro)\n",
    "* `str()` - constrói uma string a partir de uma ampla variedade de tipos de dados, incluindo strings, números inteiros e números reais."
   ]
  },
  {
   "cell_type": "code",
   "execution_count": 48,
   "metadata": {},
   "outputs": [
    {
     "name": "stdout",
     "output_type": "stream",
     "text": [
      "18 <class 'int'>\n",
      "18 <class 'str'>\n",
      "18.0 <class 'float'>\n"
     ]
    }
   ],
   "source": [
    "idade = 18\n",
    "print(idade, type(idade))\n",
    "\n",
    "\n",
    "idade_str = str(idade)\n",
    "print(idade_str, type(idade_str))\n",
    "\n",
    "idade_float = float(idade)\n",
    "print(idade_float, type(idade_float))"
   ]
  },
  {
   "cell_type": "code",
   "execution_count": 51,
   "metadata": {},
   "outputs": [
    {
     "name": "stdout",
     "output_type": "stream",
     "text": [
      "18 <class 'int'>\n",
      "18 <class 'str'>\n",
      "18.0 <class 'float'>\n",
      "18 <class 'int'>\n"
     ]
    }
   ],
   "source": [
    "# Podemos mudar o tipo da própria variável\n",
    "\n",
    "idade = 18\n",
    "print(idade, type(idade))\n",
    "\n",
    "idade = str(idade)\n",
    "print(idade, type(idade))\n",
    "\n",
    "idade = float(idade)\n",
    "print(idade, type(idade))\n",
    "\n",
    "idade = int(idade)\n",
    "print(idade, type(idade))"
   ]
  },
  {
   "cell_type": "code",
   "execution_count": 52,
   "metadata": {},
   "outputs": [
    {
     "ename": "ValueError",
     "evalue": "invalid literal for int() with base 10: '23garrafas'",
     "output_type": "error",
     "traceback": [
      "\u001b[1;31m---------------------------------------------------------------------------\u001b[0m",
      "\u001b[1;31mValueError\u001b[0m                                Traceback (most recent call last)",
      "\u001b[1;32m<ipython-input-52-e6410e51dab3>\u001b[0m in \u001b[0;36m<module>\u001b[1;34m\u001b[0m\n\u001b[0;32m      1\u001b[0m \u001b[1;31m# Nem todas conversões funcionam\u001b[0m\u001b[1;33m\u001b[0m\u001b[1;33m\u001b[0m\u001b[1;33m\u001b[0m\u001b[0m\n\u001b[0;32m      2\u001b[0m \u001b[0minfo\u001b[0m \u001b[1;33m=\u001b[0m \u001b[1;34m\"23garrafas\"\u001b[0m\u001b[1;33m\u001b[0m\u001b[1;33m\u001b[0m\u001b[0m\n\u001b[1;32m----> 3\u001b[1;33m \u001b[0mprint\u001b[0m\u001b[1;33m(\u001b[0m\u001b[0mint\u001b[0m\u001b[1;33m(\u001b[0m\u001b[0minfo\u001b[0m\u001b[1;33m)\u001b[0m\u001b[1;33m)\u001b[0m\u001b[1;33m\u001b[0m\u001b[1;33m\u001b[0m\u001b[0m\n\u001b[0m",
      "\u001b[1;31mValueError\u001b[0m: invalid literal for int() with base 10: '23garrafas'"
     ]
    }
   ],
   "source": [
    "# Nem todas conversões funcionam\n",
    "info = \"23garrafas\"\n",
    "print(int(info))"
   ]
  },
  {
   "cell_type": "code",
   "execution_count": 53,
   "metadata": {},
   "outputs": [
    {
     "ename": "ValueError",
     "evalue": "invalid literal for int() with base 10: '23.0'",
     "output_type": "error",
     "traceback": [
      "\u001b[1;31m---------------------------------------------------------------------------\u001b[0m",
      "\u001b[1;31mValueError\u001b[0m                                Traceback (most recent call last)",
      "\u001b[1;32m<ipython-input-53-933533ee3510>\u001b[0m in \u001b[0;36m<module>\u001b[1;34m\u001b[0m\n\u001b[0;32m      1\u001b[0m \u001b[1;31m# Nem todas conversões funcionam\u001b[0m\u001b[1;33m\u001b[0m\u001b[1;33m\u001b[0m\u001b[1;33m\u001b[0m\u001b[0m\n\u001b[0;32m      2\u001b[0m \u001b[0minfo\u001b[0m \u001b[1;33m=\u001b[0m \u001b[1;34m\"23\"\u001b[0m\u001b[1;33m\u001b[0m\u001b[1;33m\u001b[0m\u001b[0m\n\u001b[1;32m----> 3\u001b[1;33m \u001b[0mprint\u001b[0m\u001b[1;33m(\u001b[0m \u001b[0mint\u001b[0m\u001b[1;33m(\u001b[0m \u001b[0mstr\u001b[0m\u001b[1;33m(\u001b[0m \u001b[0mfloat\u001b[0m\u001b[1;33m(\u001b[0m\u001b[0minfo\u001b[0m\u001b[1;33m)\u001b[0m \u001b[1;33m)\u001b[0m \u001b[1;33m)\u001b[0m \u001b[1;33m)\u001b[0m\u001b[1;33m\u001b[0m\u001b[1;33m\u001b[0m\u001b[0m\n\u001b[0m",
      "\u001b[1;31mValueError\u001b[0m: invalid literal for int() with base 10: '23.0'"
     ]
    }
   ],
   "source": [
    "# Nem todas conversões funcionam\n",
    "info = \"23\"\n",
    "print( int( str( float(info) ) ) )"
   ]
  },
  {
   "cell_type": "markdown",
   "metadata": {},
   "source": [
    "#### Mais sobre a função `print()`\n",
    "\n",
    "Muitas vezes os programas que desenvolvemos precisam ter uma mensagem de saída bem formatada. \n",
    "Isso serve para as pessoas que utilizam os nossos programas não ficarem confusas e também serve para que outros softwares possam interagir com o que acabamos de desenvolver.\n",
    "\n",
    "\n",
    "Em Python nós não temos muitas formas de formatar strings. Antes do Python 3.6, nós tínhamos basicamente duas formas de formatar strings:\n",
    "\n",
    "* Utilizando % ou\n",
    "* Utilizando str.format(), a partir do Python 3.0.\n",
    "A partir da versão 3.6 do Python, foi introduzido o conceito de *f-strings* que é o mais simples e torna o código-fonte mais limpo.\n",
    "\n",
    "Também chamadas de “strings literais formatadas” (*formatted string literals*), as *f-strings* são strings com a letra **f** no início e chaves **{}** para realizar a interpolação de expressões."
   ]
  },
  {
   "cell_type": "code",
   "execution_count": 55,
   "metadata": {},
   "outputs": [
    {
     "name": "stdout",
     "output_type": "stream",
     "text": [
      "Nome: Pedro Idade: 26 Endereço: Rua Coronel José, 232\n",
      "Me chamo Pedro, tenho 26 anos e moro na Rua Coronel José, 232\n"
     ]
    }
   ],
   "source": [
    "nome = \"Pedro\"\n",
    "idade = 26\n",
    "endereco = \"Rua Coronel José, 232\"\n",
    "\n",
    "print(f\"Nome: {nome} Idade: {idade} Endereço: {endereco}\")\n",
    "\n",
    "print(f\"Me chamo {nome}, tenho {idade} anos e moro na {endereco}\")"
   ]
  },
  {
   "cell_type": "markdown",
   "metadata": {},
   "source": [
    "Por enquanto, o que vamos precisar saber, é somente formatar a saída com as variáveis. Vários exercícios irão solicitar isso de vocês.\n",
    "\n",
    "Entretanto, a formatação possui diversos recursos bem interessantes. Para saber mais, consulte a [documentação](https://docs.python.org/3/library/string.html#format-specification-mini-language).\n",
    "\n",
    "<img src=\"./Imagens/02-05.png\">\n",
    "\n",
    "Bom já vimos a saída, agora vamos ver uma forma de passarmos dados para o processamento."
   ]
  },
  {
   "cell_type": "markdown",
   "metadata": {},
   "source": [
    "#### Função `input()`\n",
    "Faz uma pausa no programa e espera uma entrada do usuário pelo terminal.\n",
    "\n",
    "Para ler a entrada do usuário a função `input()` espera que após digitada a entrada o usuário aperte a tecla enter.\n",
    "\n",
    "A informação lida será retornada pela função como uma string, então basta atribuir o retorno da função `input()` para uma variável.\n",
    "\n",
    "`texto = input()`"
   ]
  },
  {
   "cell_type": "code",
   "execution_count": null,
   "metadata": {},
   "outputs": [],
   "source": [
    "texto = input()\n",
    "\n",
    "print(f\"O texto digitado foi: {texto}\")"
   ]
  },
  {
   "cell_type": "code",
   "execution_count": null,
   "metadata": {},
   "outputs": [],
   "source": [
    "nome = input(\"Informe o nome: \")\n",
    "idade = input(f\"Informe a idade de {nome}: \")\n",
    "print(f\"O(A) {nome} possui {idade} anos.\")\n"
   ]
  },
  {
   "cell_type": "markdown",
   "metadata": {},
   "source": [
    "**IMPORTANTE**: O texto passado para método input sempre será uma saída também.\n",
    "Linguagem de alto nível fazem isso, um comando que faz múltiplas tarefas de uma linguagem de mais baixo nível.\n",
    "\n",
    "Para os problemas que iremos resolver no site beecrowd, **NÃO DEVEMOS USAR MENSAGENS NOS INPUTS**."
   ]
  },
  {
   "cell_type": "markdown",
   "metadata": {},
   "source": [
    "Um problema é que o `input()` sempre irá ler como uma string, portanto, se a entrada esperada for um número ela deve ser convertida usando se as funções de conversão `int()` ou `float()`.\n",
    "\n",
    "Caso não seja convertido, o programa irá gerar erros nos cálculos."
   ]
  },
  {
   "cell_type": "code",
   "execution_count": null,
   "metadata": {},
   "outputs": [],
   "source": [
    "# Faça um programa que a vida de uma pessoa em anos, \n",
    "# em seguida calcule e mostre a quantidade de vida em meses\n",
    "# entretanto isso gera algo inesperado.\n",
    "\n",
    "idade = input()\n",
    "meses = idade*12\n",
    "print(f\"O(A) {nome} possui {meses} meses de vida.\")"
   ]
  },
  {
   "cell_type": "code",
   "execution_count": null,
   "metadata": {},
   "outputs": [],
   "source": [
    "# Antes de realizar um cálculo matemático, precisamos dizer para o programa \n",
    "# que deve converter a string em um número inteiro. Agora teremos uma resposta adequada.\n",
    "idade = input()\n",
    "meses = int(idade)*12\n",
    "print(f\"O(A) {nome} possui {meses} meses de vida.\")"
   ]
  },
  {
   "cell_type": "code",
   "execution_count": null,
   "metadata": {},
   "outputs": [],
   "source": [
    "#Como a idade é sempre um inteiro, podemos simplificar o programa, já convertendo diretamente a leitura.\n",
    "# Além disso, podemos realizar a multiplicação por 12 diretamente no print()\n",
    "\n",
    "nome = input()\n",
    "idade = int(input())\n",
    "print(f\"O(A) {nome} possui {idade*12} meses de vida.\")"
   ]
  },
  {
   "cell_type": "markdown",
   "metadata": {},
   "source": [
    "<img src=\"./Imagens/02-05.png\">\n",
    "\n",
    "\n",
    "Bom já sabemos uma forma de fazer a entrada e saída para os nossos problemas agora, vamos começar a processar as informações.\n",
    "\n",
    "#### Operadores\n",
    "\n",
    "Um recurso importante e bastante utilizado para isso são os operadores. Eles podem ser de várias categorias: \n",
    "* Aritméticos, \n",
    "* Atribuição, \n",
    "* Lógicos, \n",
    "* Comparação, \n",
    "* Lógicos bit-a-bit, \n",
    "* identidade e \n",
    "* de pertencimento.\n",
    "\n",
    "Por agora, vamos só focar nos Aritméticos e nos de Atribuição.\n",
    "\n",
    "**Aritméticos**: Nos ajudam a fazer cálculos matemáticos. São os mesmos que aprendemos na matemática;\n",
    "\n",
    "**Atribuição**: Nos ajudam a armazenar dados e facilmente modificar variáveis em memória;\n",
    "\n",
    "Operador | Operação | Forma\n",
    ":- | :- | :-\n",
    "+ | Soma | x + y\n",
    "- | Subtração | x - y\n",
    "* | Multiplicação | x * y\n",
    "/ | Divisão | x / y\n",
    "** | Exponenciação | x ** y\n",
    "// | Divisão inteira (ou chão) | x // y\n",
    "% | Resto da divisão (ou módulo) | x % y\n",
    "= | Atribuição | x = y"
   ]
  },
  {
   "cell_type": "code",
   "execution_count": null,
   "metadata": {},
   "outputs": [],
   "source": [
    "#Realizar a leitura de dois valores inteiros e imprimir a soma deles.\n",
    "\n",
    "valor_a = int(input())\n",
    "valor_b = int(input())\n",
    "\n",
    "\n",
    "soma = valor_a + valor_b\n",
    "\n",
    "\n",
    "print(f\"A soma dos valores {valor_a} e {valor_b} é {soma}\")"
   ]
  },
  {
   "cell_type": "code",
   "execution_count": null,
   "metadata": {},
   "outputs": [],
   "source": [
    "va = 2\n",
    "\n",
    "\n",
    "resultado = 2+5*va - va*5+2\n",
    "\n",
    "print(resultado)\n",
    "\n",
    "#Vocês conseguem saber qual será o resultado que estará guardado na variável resultado?"
   ]
  },
  {
   "cell_type": "markdown",
   "metadata": {},
   "source": [
    "Quando uma expressão contém mais de um operador, a ordem da avaliação depende da ordem das operações. Para operadores matemáticos, o Python segue a convenção matemática.\n",
    "\n",
    "* Os Parênteses têm a precedência mais alta e podem ser usados para forçar a avaliação de uma expressão na ordem que você quiser. Como as expressões em parênteses são avaliadas primeiro, `2 * (3-1)` é `4`, e `(1+1)**(5-2)` é `8`. Também é possível usar parênteses para facilitar a leitura de uma expressão, como em `(minutos * 100) / 60`, mesmo se o resultado não for alterado.\n",
    "\n",
    "* A Exponenciação tem a próxima precedência mais alta, então `1 + 2**3` é `9`, não `27`, e `2 * 3**2` é `18`, não `36`.\n",
    "\n",
    "* A Multiplicação e a Divisão têm precedência mais alta que a Adição e a Subtração. Assim, `2 * 3 - 1` é `5`, não `4`, e `6 + 4 / 2` é `8`, não `5`.\n",
    "\n",
    "* Os operadores com a mesma precedência são avaliados da esquerda para a direita (exceto na exponenciação). Assim, na expressão `graus / 2 * pi`, a divisão acontece primeiro e o resultado é multiplicado por `pi`. Para dividir por `2π`, você pode usar parênteses `graus / (2 * pi)`.\n",
    "\n",
    "**Dica**: Se a expressão não estiver clara à primeira vista, podem usar parênteses para tornar mais claro.\n",
    "\n",
    "Bom, até o momento, nós apenas tivemos programas bem simples, com poucos cálculos e com poucas variáveis, mas vida prática de um programador os programas desenvolvidos acabam por vezes se tornando muito complexos e acaba sendo necessário depurar o seu código-fonte e descobrir o que está acontecendo linha por linha. Essa depuração também pode ser feita em códigos menores, o nome dela é teste de mesa. Vamos a um exemplo um pouco mais complexo e ver se descobrimos a resposta sem executar o código."
   ]
  },
  {
   "cell_type": "code",
   "execution_count": null,
   "metadata": {},
   "outputs": [],
   "source": [
    "a = 2\n",
    "b = 3\n",
    "c = 5\n",
    "b = c*a\n",
    "a = b+c\n",
    "c = b-a\n",
    "\n",
    "print(a)\n",
    "print(b)\n",
    "print(c)"
   ]
  },
  {
   "cell_type": "markdown",
   "metadata": {},
   "source": [
    "Além disso, hoje temos ferramentas que servem para visualizar o passo a passo de execução de um código. Segue esse mesmo exemplo, no [PythonTutor](https://pythontutor.com/python-debugger.html#code=a%20%3D%202%0Ab%20%3D%203%0Ac%20%3D%205%0Ab%20%3D%20c*a%0Aa%20%3D%20b%2Bc%0Ac%20%3D%20b-a%0A%0Aprint%28a,%20b,%20c%29&cumulative=false&heapPrimitives=nevernest&mode=edit&origin=opt-frontend.js&py=3&rawInputLstJSON=%5B%5D&textReferences=false)."
   ]
  },
  {
   "cell_type": "markdown",
   "metadata": {},
   "source": [
    "#### Exercícios"
   ]
  },
  {
   "cell_type": "code",
   "execution_count": null,
   "metadata": {},
   "outputs": [],
   "source": [
    "# 1 - Escreva um programa que leia três números inteiros e imprima sua soma. \n"
   ]
  },
  {
   "cell_type": "code",
   "execution_count": null,
   "metadata": {},
   "outputs": [],
   "source": [
    "# 2 - Escreva um programa que leia um número inteiro e imprima o seu quadrado.\n",
    "\n"
   ]
  },
  {
   "cell_type": "code",
   "execution_count": null,
   "metadata": {},
   "outputs": [],
   "source": [
    "# 3 - Escreva um programa que leia o comprimento da base e a altura de um triângulo retângulo \n",
    "#     a seguir imprima a área.\n",
    "#     area = (comprimento * altura) / 2\n"
   ]
  },
  {
   "cell_type": "code",
   "execution_count": null,
   "metadata": {},
   "outputs": [],
   "source": [
    "# 4 - N alunos levam K maçãs e distribuem entre si uniformemente. \n",
    "#     A parte restante (a não-divisível) permanece na cesta. \n",
    "#     Quantas maçãs cada aluno terá? \n",
    "#     Quantas maçãs permanecerão no cesto?\n",
    "\n",
    "#     O programa lê os números N e K. Deve imprimir as duas respostas para as perguntas acima.\n",
    "\n"
   ]
  },
  {
   "cell_type": "markdown",
   "metadata": {},
   "source": [
    "#### Atividades\n",
    "\n",
    "\n",
    "#### Plataforma Beecrowd para as listas de exercícios\n",
    "\n",
    "1 - Todo mundo fazendo o cadastro na plataforma:\n",
    "[Beecrowd](https://www.beecrowd.com.br/judge/pt/login)\n",
    "\n",
    "<img src=\".\\Imagens\\04-03.png\" width=\"200\">\n",
    "\n",
    "2 - Preencha um e-mail e uma senha que não irá esquecer. \n",
    "\n",
    "<img src=\".\\Imagens\\04-04.png\" width=\"200\">\n",
    "\n",
    "3 - Receberá um e-mail com a ativação do cadastro. Clique em **ativar**.\n",
    "\n",
    "<img src=\".\\Imagens\\04-05.png\" width=\"500\">\n",
    "\n",
    "4 - Agora você deve estar na página abaixo. Se tiver dificuldades com inglês, mude o idioma da página, já nesse momento, no canto superior esquerdo da página. Depois, na sequência, faça o login no centro da página.\n",
    "\n",
    "<img src=\".\\Imagens\\04-06.png\" width=\"700\">\n",
    "\n",
    "\n",
    "5 - Primeiro passo na Plataforma, para poder acessar todos os recursos é realizar o preenchimento do perfil. Acessem **Perfil**, depois **Configurações**. Preencham todos os campos marcados em vermelho em todos os grupos de dados marcados com uma bolinha vermelha (Lateral esquerda).\n",
    "**Dica**: marque o mínimo possível de itens, cada item que você marcar a mais, irá abrir novos itens para preenchimento. \n",
    "\n",
    "<img src=\".\\Imagens\\04-07.png\" width=\"700\">\n",
    "\n",
    "\n",
    "5.a - Alguns itens importantes que devem ser modificados:\n",
    "\n",
    "* **Linguagem de desenvolvimento preferida para uso na plataforma beecrowd** para **Python 3.11** \n",
    "* **Em Educação** adicione o IFPR como na imagem abaixo:\n",
    "<img src=\".\\Imagens\\04-08.png\" width=\"700\">\n",
    "\n",
    "\n",
    "6 -  Agora estão prontos para acessar a disciplina, cliquem do botão **Academic** (está no topo da página), cliquem em **Acessar Disciplina**  e digitem os seguintes dados para acessar:\n",
    "\n",
    "ID Disciplina: **11991**\n",
    "\n",
    "Chave: **YFJncvl** \n",
    "\n",
    "Só precisa fazer isso a primeira vez, depois, sempre estará disponível esse acesso pelo botão **Academic**.\n",
    "\n",
    "<img src=\".\\Imagens\\04-09.png\" width=\"700\">\n"
   ]
  },
  {
   "cell_type": "markdown",
   "metadata": {},
   "source": [
    "#### Vamos fazer um tour no site"
   ]
  },
  {
   "cell_type": "code",
   "execution_count": null,
   "metadata": {},
   "outputs": [],
   "source": []
  },
  {
   "cell_type": "code",
   "execution_count": null,
   "metadata": {},
   "outputs": [],
   "source": []
  },
  {
   "cell_type": "code",
   "execution_count": null,
   "metadata": {},
   "outputs": [],
   "source": []
  },
  {
   "cell_type": "code",
   "execution_count": null,
   "metadata": {},
   "outputs": [],
   "source": []
  },
  {
   "cell_type": "markdown",
   "metadata": {},
   "source": [
    "#### Atividade (Já vale nota)\n",
    "\n",
    "Façam os exercícios da **Lista 2 - Números Inteiros** no [Beecrowd](https://www.beecrowd.com.br/judge/pt/).\n",
    "\n",
    "**Só relembrando**: Nas listas de exercícios, o sistema de anti-plágio estará ativado, caso identifique alguma suspeita de plágio, convocarei o(s) aluno(s) para realizar uma atividade presencial de resolução e apresentação dos exercícios resolvidos."
   ]
  }
 ],
 "metadata": {
  "kernelspec": {
   "display_name": "Python 3",
   "language": "python",
   "name": "python3"
  },
  "language_info": {
   "codemirror_mode": {
    "name": "ipython",
    "version": 3
   },
   "file_extension": ".py",
   "mimetype": "text/x-python",
   "name": "python",
   "nbconvert_exporter": "python",
   "pygments_lexer": "ipython3",
   "version": "3.7.6"
  }
 },
 "nbformat": 4,
 "nbformat_minor": 4
}
