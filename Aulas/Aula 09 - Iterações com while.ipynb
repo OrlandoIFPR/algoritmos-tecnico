{
 "cells": [
  {
   "cell_type": "markdown",
   "metadata": {},
   "source": [
    "### <center>Algoritmos e Estruturas de Dados</center>\n",
    "\n",
    "#### <center>Iterações com while</center>\n",
    "\n",
    "\n",
    "**Prof.**: João Paulo Orlando\n",
    "\n",
    "**Curso**: Técnico em Informática Integrado ao Ensino Médio"
   ]
  },
  {
   "cell_type": "markdown",
   "metadata": {},
   "source": [
    "Há outro comando Python que pode ser usado para construir uma iteração. \n",
    "\n",
    "Ele é o comando `while`.\n",
    "\n",
    "O `while` fornece um mecanismo muito mais geral para a iteração. \n",
    "\n",
    "Semelhante ao comando `if`, ele usa uma expressão booleana para controlar o fluxo de execução. \n",
    "\n",
    "O corpo do `while` será repetido enquanto a expressão booleana de controle for avaliada como `True`.\n",
    "\n",
    "Vamos analisar o diagrama de blocos abaixo.\n",
    "\n",
    "<img src=\".\\Imagens\\09-01.png\">\n",
    "\n",
    "<center> <small> Diagrama gerado em <a href=\"https://miro.com/app\">Miro</a></small> </center>"
   ]
  },
  {
   "cell_type": "markdown",
   "metadata": {},
   "source": [
    "Podemos usar o `while` para criar qualquer tipo de iteração, incluindo tudo o que já fizemos com um comando `for`."
   ]
  },
  {
   "cell_type": "markdown",
   "metadata": {},
   "source": [
    "Formalmente, este é o fluxo de execução do comando `while`:\n",
    "\n",
    "* Avalie a condição, que deve resultar em `False` ou `True`.\n",
    "\n",
    "* Se o resultado for `False`, saia do comando `while` e continue o programa executando o próximo comando.\n",
    "\n",
    "* Se o resultado da condição for `True`, execute os comandos dentro do corpo do `while` e, ao final, retorne ao passo 1.\n",
    "\n",
    "O corpo do `while` é constituído por todas as instruções abaixo do cabeçalho com a mesma tabulação.\n",
    "\n",
    "Este tipo de fluxo é chamado de laço (loop) porque o terceiro passo volta para o topo, fechando o laço. \n",
    "\n",
    "Observe que se a condição é avaliada como False no início do laço, os comandos dentro do corpo nunca são executados."
   ]
  },
  {
   "cell_type": "code",
   "execution_count": 1,
   "metadata": {},
   "outputs": [
    {
     "name": "stdout",
     "output_type": "stream",
     "text": [
      "-3\n",
      "11\n",
      "12\n",
      "13\n",
      "10.5\n",
      "10.1\n",
      "-0.1\n",
      "0\n",
      "Nota: 0.0\n"
     ]
    }
   ],
   "source": [
    "n = float(input())\n",
    "while(n < 0 or n > 10):\n",
    "    n =  float(input())\n",
    "\n",
    "print(f\"Nota: {n}\")"
   ]
  },
  {
   "cell_type": "code",
   "execution_count": 5,
   "metadata": {},
   "outputs": [
    {
     "name": "stdout",
     "output_type": "stream",
     "text": [
      "123\n",
      "Senha incorreta! Por favor, tente novamente!\n",
      "jpo\n",
      "Senha incorreta! Por favor, tente novamente!\n",
      "jpo123\n",
      "Senha incorreta! Por favor, tente novamente!\n",
      "joao123\n",
      "Senha incorreta! Por favor, tente novamente!\n",
      "paulo123\n",
      "Senha incorreta! Por favor, tente novamente!\n",
      "orlando123\n",
      "Senha incorreta! Por favor, tente novamente!\n",
      "123\n",
      "Senha incorreta! Por favor, tente novamente!\n",
      "123456\n",
      "Senha incorreta! Por favor, tente novamente!\n",
      "abc123\n",
      "Acesso liberado!\n"
     ]
    }
   ],
   "source": [
    "senha = input()\n",
    "while( senha != \"abc123\"):\n",
    "    print(\"Senha incorreta! Por favor, tente novamente!\")\n",
    "    senha = input()\n",
    "\n",
    "print(\"Acesso liberado!\")"
   ]
  },
  {
   "cell_type": "code",
   "execution_count": 8,
   "metadata": {},
   "outputs": [
    {
     "name": "stdout",
     "output_type": "stream",
     "text": [
      "123\n",
      "Senha incorreta! Por favor, tente novamente! Você tem 3 tentativas ainda!\n",
      "abc123\n",
      "Acesso liberado!\n"
     ]
    }
   ],
   "source": [
    "senha = input()\n",
    "num_tentativa = 3\n",
    "\n",
    "while(senha != \"abc123\" and num_tentativa > 0):\n",
    "    print(f\"Senha incorreta! Por favor, tente novamente! Você tem {num_tentativa} tentativas ainda!\")\n",
    "    senha = input()\n",
    "    num_tentativa = num_tentativa - 1\n",
    "\n",
    "if (senha == \"abc123\"):\n",
    "    print(\"Acesso liberado!\")\n",
    "else:\n",
    "    print(\"Usuário bloqueado!\")"
   ]
  },
  {
   "cell_type": "code",
   "execution_count": 11,
   "metadata": {},
   "outputs": [
    {
     "name": "stdout",
     "output_type": "stream",
     "text": [
      "3 é multiplo de 3.\n",
      "6 é multiplo de 3.\n",
      "9 é multiplo de 3.\n"
     ]
    }
   ],
   "source": [
    "i = 1\n",
    "\n",
    "while i < 10:\n",
    "    if i%3==0:\n",
    "        print(f\"{i} é multiplo de 3.\")\n",
    "    i = i + 1"
   ]
  },
  {
   "cell_type": "markdown",
   "metadata": {},
   "source": [
    "O corpo do laço deve alterar o valor de uma ou mais variáveis para que a condição se torne `False` e faça o laço terminar. \n",
    "\n",
    "Caso contrário, o ciclo se repetirá para sempre. \n",
    "\n",
    "Isso é chamado de um **laço infinito**. \n",
    "\n",
    "No exemplo anterior, podemos provar que o laço termina, pois nós sabemos que o valor de limite é finito e o valor do número é incrementado a cada iteração do laço. \n",
    "\n",
    "Portanto, a cada iteração, o valor do número fica mais próximo do limite, até ultrapassá-lo, quando o laço termina. \n",
    "\n",
    "Há outros casos onde não é tão fácil dizer se o laço termina."
   ]
  },
  {
   "cell_type": "markdown",
   "metadata": {},
   "source": [
    "A introdução do comando `while` nos leva a pensar sobre os tipos de iteração que já vimos. \n",
    "\n",
    "O comando `for` sempre itera em uma sequência de valores, como a lista de nomes para o partido ou a lista de números criados por range. \n",
    "\n",
    "Como nós sabemos que ele vai repetir uma vez para cada valor desse conjunto, dizemos que o `for` cria um laço do tipo iteração definida, pois nós sabemos definitivamente quantas vezes vamos interagir. \n",
    "\n",
    "Por outro lado, o `while` depende de uma condição que precisa ser avaliada como `False` para que o laço termine. \n",
    "\n",
    "Uma vez que não sabemos necessariamente quando isso vai acontecer, ele cria o que chamamos de iteração indefinida.\n",
    "\n",
    "Iteração indefinida significa simplesmente que não sabemos quantas vezes vamos repetir, mas, eventualmente, a condição de controle da iteração irá falhar e a iteração vai parar. \n"
   ]
  },
  {
   "cell_type": "code",
   "execution_count": 13,
   "metadata": {},
   "outputs": [
    {
     "name": "stdout",
     "output_type": "stream",
     "text": [
      "1\n",
      "Informe outro valor!\n",
      "-2\n",
      "O valor par digitado foi -2\n"
     ]
    }
   ],
   "source": [
    "#Faça um programa que fique lendo valores até seja informado um número par. \n",
    "\n",
    "v = int(input())\n",
    "while v%2 != 0:\n",
    "    print(\"Informe outro valor!\")\n",
    "    v = int(input())\n",
    "    \n",
    "print(f\"O valor par digitado foi {v}\")\n"
   ]
  },
  {
   "cell_type": "code",
   "execution_count": 14,
   "metadata": {},
   "outputs": [
    {
     "name": "stdout",
     "output_type": "stream",
     "text": [
      "2\n",
      "Informe outro valor!\n",
      "4\n",
      "Informe outro valor!\n",
      "6\n",
      "Informe outro valor!\n",
      "-10\n",
      "Informe outro valor!\n",
      "-16\n",
      "Informe outro valor!\n",
      "3\n",
      "O valor impar digitado foi 3\n"
     ]
    }
   ],
   "source": [
    "#Faça um programa que fique lendo valores até seja informado um número impar. \n",
    "\n",
    "v = int(input())\n",
    "while v%2 == 0:\n",
    "    print(\"Informe outro valor!\")\n",
    "    v = int(input())\n",
    "    \n",
    "print(f\"O valor impar digitado foi {v}\")\n"
   ]
  },
  {
   "cell_type": "code",
   "execution_count": 15,
   "metadata": {},
   "outputs": [
    {
     "name": "stdout",
     "output_type": "stream",
     "text": [
      "-4\n",
      "Valor inválido!\n",
      "3\n",
      "Valor inválido!\n",
      "2\n",
      "O valor par posito é 2\n"
     ]
    }
   ],
   "source": [
    "#Faça um programa que fique lendo valores até \n",
    "# seja informado um número par positivo. \n",
    "\n",
    "v = int(input())\n",
    "while v%2 != 0 or v < 0:\n",
    "    print(\"Valor inválido!\")\n",
    "    v = int(input())\n",
    "\n",
    "print(f\"O valor par positivo é {v}\")\n"
   ]
  },
  {
   "cell_type": "markdown",
   "metadata": {},
   "source": [
    "Você deve notar que o `while` dá mais trabalho para você — o programador — do que o equivalente `for`. \n",
    "\n",
    "Ao usar um `while` você mesmo é que tem que controlar a variável do laço. \n",
    "\n",
    "Você deve fornecer um valor inicial, criar a condição de saída e depois certificar-se de mudar alguma coisa no corpo de modo que o laço termine."
   ]
  },
  {
   "cell_type": "markdown",
   "metadata": {},
   "source": [
    "##### A sequência 3n + 1\n",
    "\n",
    "Para ilustrar outro exemplo com número indefinido de iterações, vamos olhar para uma sequência que tem fascinado matemáticos por vários anos.\n",
    "\n",
    "A regra para criar a sequência é começar com um dado `n`, e gerar o próximo termo da sequência a partir de `n` da seguinte forma: se `n` for par dividimos `n` por 2, ou senão, multiplicamos `n` por 3 e somamos 1 quando `n` for impar. \n",
    "\n",
    "A sequência termina quando `n` se tornar 1."
   ]
  },
  {
   "cell_type": "code",
   "execution_count": 11,
   "metadata": {},
   "outputs": [
    {
     "name": "stdout",
     "output_type": "stream",
     "text": [
      "1223\n",
      "1223\n",
      "3670\n",
      "1835\n",
      "5506\n",
      "2753\n",
      "8260\n",
      "4130\n",
      "2065\n",
      "6196\n",
      "3098\n",
      "1549\n",
      "4648\n",
      "2324\n",
      "1162\n",
      "581\n",
      "1744\n",
      "872\n",
      "436\n",
      "218\n",
      "109\n",
      "328\n",
      "164\n",
      "82\n",
      "41\n",
      "124\n",
      "62\n",
      "31\n",
      "94\n",
      "47\n",
      "142\n",
      "71\n",
      "214\n",
      "107\n",
      "322\n",
      "161\n",
      "484\n",
      "242\n",
      "121\n",
      "364\n",
      "182\n",
      "91\n",
      "274\n",
      "137\n",
      "412\n",
      "206\n",
      "103\n",
      "310\n",
      "155\n",
      "466\n",
      "233\n",
      "700\n",
      "350\n",
      "175\n",
      "526\n",
      "263\n",
      "790\n",
      "395\n",
      "1186\n",
      "593\n",
      "1780\n",
      "890\n",
      "445\n",
      "1336\n",
      "668\n",
      "334\n",
      "167\n",
      "502\n",
      "251\n",
      "754\n",
      "377\n",
      "1132\n",
      "566\n",
      "283\n",
      "850\n",
      "425\n",
      "1276\n",
      "638\n",
      "319\n",
      "958\n",
      "479\n",
      "1438\n",
      "719\n",
      "2158\n",
      "1079\n",
      "3238\n",
      "1619\n",
      "4858\n",
      "2429\n",
      "7288\n",
      "3644\n",
      "1822\n",
      "911\n",
      "2734\n",
      "1367\n",
      "4102\n",
      "2051\n",
      "6154\n",
      "3077\n",
      "9232\n",
      "4616\n",
      "2308\n",
      "1154\n",
      "577\n",
      "1732\n",
      "866\n",
      "433\n",
      "1300\n",
      "650\n",
      "325\n",
      "976\n",
      "488\n",
      "244\n",
      "122\n",
      "61\n",
      "184\n",
      "92\n",
      "46\n",
      "23\n",
      "70\n",
      "35\n",
      "106\n",
      "53\n",
      "160\n",
      "80\n",
      "40\n",
      "20\n",
      "10\n",
      "5\n",
      "16\n",
      "8\n",
      "4\n",
      "2\n",
      "1\n"
     ]
    }
   ],
   "source": [
    "n = int(input())\n",
    "\n",
    "while n != 1:\n",
    "    print(n)\n",
    "    if n % 2 == 0:        # n é par\n",
    "        n = n // 2\n",
    "    else:                 # n é impar\n",
    "        n = n * 3 + 1\n",
    "print(n)                  # O último número da sequência é 1\n"
   ]
  },
  {
   "cell_type": "markdown",
   "metadata": {},
   "source": [
    "A condição para loop `while é n != 1`. Esse loop continuará executando até que `n == 1` (que torna a condição falsa).\n",
    "\n",
    "A cada iteração do loop, o programa imprime o valor de `n` e então verifica se esse valor é par ou ímpar usando o operador resto. Se ele for par, o valor de `n` é dividido por `2` (usando divisão inteira). Se ele for ímpar, o valor é substituído por `n * 3 + 1`. Teste para vários valores de `n`.\n",
    "\n",
    "Como `n` às vezes cresce e outras diminui, não há uma prova óbvia de que `n` atinge o valor `1`, ou que o programa termina. Para alguns valores particulares de `n`, podemos provar a terminação. Por exemplo, se o valor inicial é uma potência de `2`, então o valor de `n` será par em todas as iterações do loop até atingir o valor `1`.\n"
   ]
  },
  {
   "cell_type": "markdown",
   "metadata": {},
   "source": [
    "#### Comando `break`\n",
    "\n",
    "\n",
    "A palavra-chave `break` é usada para interromper um `for` ou um `while`.\n"
   ]
  },
  {
   "cell_type": "code",
   "execution_count": 12,
   "metadata": {},
   "outputs": [
    {
     "name": "stdout",
     "output_type": "stream",
     "text": [
      "0\n",
      "1\n",
      "2\n",
      "3\n"
     ]
    }
   ],
   "source": [
    "for i in range(9):\n",
    "    if i > 3:\n",
    "        break\n",
    "    print(i)"
   ]
  },
  {
   "cell_type": "code",
   "execution_count": 15,
   "metadata": {},
   "outputs": [
    {
     "name": "stdout",
     "output_type": "stream",
     "text": [
      "0\n",
      "1\n",
      "2\n",
      "3\n"
     ]
    }
   ],
   "source": [
    "i = 0\n",
    "while i < 9:\n",
    "    if i > 3:\n",
    "        break \n",
    "    print(i)\n",
    "    i += 1"
   ]
  },
  {
   "cell_type": "markdown",
   "metadata": {},
   "source": [
    "#### Comando `continue`\n",
    "\n",
    "A palavra-chave continue é usada para terminar a iteração atual em um `for` (ou um `while`) e continua na próxima iteração."
   ]
  },
  {
   "cell_type": "code",
   "execution_count": 17,
   "metadata": {},
   "outputs": [
    {
     "name": "stdout",
     "output_type": "stream",
     "text": [
      "0\n",
      "1\n",
      "2\n",
      "4\n"
     ]
    }
   ],
   "source": [
    "for i in range(5):\n",
    "    if i == 3:\n",
    "        continue\n",
    "    print(i)"
   ]
  },
  {
   "cell_type": "code",
   "execution_count": 16,
   "metadata": {},
   "outputs": [
    {
     "name": "stdout",
     "output_type": "stream",
     "text": [
      "1\n",
      "2\n",
      "4\n",
      "5\n",
      "7\n",
      "8\n",
      "10\n",
      "11\n",
      "13\n",
      "14\n",
      "16\n",
      "17\n",
      "19\n"
     ]
    }
   ],
   "source": [
    "for i in range(20):\n",
    "    if i%3 == 0:\n",
    "        continue\n",
    "    print(i)"
   ]
  },
  {
   "cell_type": "code",
   "execution_count": 19,
   "metadata": {},
   "outputs": [
    {
     "name": "stdout",
     "output_type": "stream",
     "text": [
      "0\n",
      "1\n",
      "2\n",
      "4\n"
     ]
    }
   ],
   "source": [
    "i = 0\n",
    "while i < 5:\n",
    "    if i == 3:\n",
    "        i = i + 1\n",
    "        continue\n",
    "    print(i)\n",
    "    i = i + 1"
   ]
  },
  {
   "cell_type": "markdown",
   "metadata": {},
   "source": [
    "Agora podem começar a fazer a **Lista 6 - While**"
   ]
  }
 ],
 "metadata": {
  "kernelspec": {
   "display_name": "Python 3",
   "language": "python",
   "name": "python3"
  },
  "language_info": {
   "codemirror_mode": {
    "name": "ipython",
    "version": 3
   },
   "file_extension": ".py",
   "mimetype": "text/x-python",
   "name": "python",
   "nbconvert_exporter": "python",
   "pygments_lexer": "ipython3",
   "version": "3.7.6"
  }
 },
 "nbformat": 4,
 "nbformat_minor": 4
}
