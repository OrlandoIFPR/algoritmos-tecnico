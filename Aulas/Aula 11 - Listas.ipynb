{
 "cells": [
  {
   "cell_type": "markdown",
   "metadata": {},
   "source": [
    "### <center>Algoritmos e Estruturas de Dados</center>\n",
    "\n",
    "#### <center>Listas</center>\n",
    "\n",
    "\n",
    "**Prof.**: João Paulo Orlando\n",
    "\n",
    "**Curso**: Técnico em Informática Integrado ao Ensino Médio"
   ]
  },
  {
   "cell_type": "markdown",
   "metadata": {},
   "source": [
    "#### Listas\n",
    "\n",
    "Uma lista ( list ) em Python é uma sequência ou coleção ordenada de valores.\n",
    "\n",
    "Cada valor na lista é identificado por um índice.\n",
    "\n",
    "O valores que formam uma lista são chamados elementos ou itens.\n",
    "\n",
    "Listas são similares a strings , que são uma sequência de caracteres, no entanto, diferentemente de strings , os itens de uma lista podem ser de tipos diferentes."
   ]
  },
  {
   "cell_type": "markdown",
   "metadata": {},
   "source": [
    "Existem várias maneiras de se criar uma nova lista.\n",
    "\n",
    "A maneira mais simples é envolver os elementos da lista por colchetes."
   ]
  },
  {
   "cell_type": "code",
   "execution_count": 4,
   "metadata": {},
   "outputs": [
    {
     "name": "stdout",
     "output_type": "stream",
     "text": [
      "[1, 2, 3, 4]\n",
      "['Gol', 'Fox', 'Up']\n"
     ]
    }
   ],
   "source": [
    "lista_int = [1, 2, 3, 4]\n",
    "lista_str = [\"Gol\", \"Fox\", \"Up\"]\n",
    "\n",
    "print(lista_int)\n",
    "print(lista_str)"
   ]
  },
  {
   "cell_type": "markdown",
   "metadata": {},
   "source": [
    "Os elementos de uma lista não precisam ser do mesmo tipo. A lista a seguir contém um string , um float , um inteiro e uma outra lista."
   ]
  },
  {
   "cell_type": "code",
   "execution_count": 2,
   "metadata": {},
   "outputs": [
    {
     "name": "stdout",
     "output_type": "stream",
     "text": [
      "['Teste', 15.5, 7, [10, 20]]\n"
     ]
    }
   ],
   "source": [
    "lista_mista = [ \"Teste\" ,  15.5 , 7 , [10, 20] ]\n",
    "print(lista_mista)"
   ]
  },
  {
   "cell_type": "code",
   "execution_count": 3,
   "metadata": {},
   "outputs": [
    {
     "name": "stdout",
     "output_type": "stream",
     "text": [
      "Teste\n"
     ]
    }
   ],
   "source": [
    "\n",
    "print(lista_mista[0])"
   ]
  },
  {
   "cell_type": "code",
   "execution_count": 4,
   "metadata": {},
   "outputs": [
    {
     "name": "stdout",
     "output_type": "stream",
     "text": [
      "[[1, 2, 3], [4, 5, 6], [7, 8, 9]]\n"
     ]
    }
   ],
   "source": [
    "matriz = [[1, 2, 3], \n",
    "          [4, 5, 6], \n",
    "          [7, 8, 9]]\n",
    "print(matriz)"
   ]
  },
  {
   "cell_type": "code",
   "execution_count": 19,
   "metadata": {},
   "outputs": [
    {
     "name": "stdout",
     "output_type": "stream",
     "text": [
      "5\n"
     ]
    }
   ],
   "source": [
    "print(matriz[1][1])"
   ]
  },
  {
   "cell_type": "code",
   "execution_count": 1,
   "metadata": {},
   "outputs": [
    {
     "name": "stdout",
     "output_type": "stream",
     "text": [
      "['J', 'o', 'ã', 'o']\n"
     ]
    }
   ],
   "source": [
    "print(list(\"João\"))"
   ]
  },
  {
   "cell_type": "markdown",
   "metadata": {},
   "source": [
    "Um lista em uma outra lista é dita aninhada (nested) e a lista mais interna é chamada frequentemente de sublista (sublist).\n",
    "\n",
    "Existe uma lista especial que não contém elemento algum. Ela é chamada de lista vazia e é denotada por [].\n",
    "\n",
    "Como você esperaria, podemos também atribuir listas a variáveis e termos listas como parâmetro de funções."
   ]
  },
  {
   "cell_type": "code",
   "execution_count": 61,
   "metadata": {},
   "outputs": [
    {
     "name": "stdout",
     "output_type": "stream",
     "text": [
      "[]\n",
      "[]\n"
     ]
    }
   ],
   "source": [
    "lista_vazia = []\n",
    "print(lista_vazia)\n",
    "\n",
    "lista_vazia2 = list()\n",
    "print(lista_vazia2)"
   ]
  },
  {
   "cell_type": "code",
   "execution_count": 5,
   "metadata": {},
   "outputs": [
    {
     "name": "stdout",
     "output_type": "stream",
     "text": [
      "joão paulo\n",
      "['joão', 'paulo']\n"
     ]
    }
   ],
   "source": [
    "print(input().split())"
   ]
  },
  {
   "cell_type": "code",
   "execution_count": 7,
   "metadata": {},
   "outputs": [
    {
     "name": "stdout",
     "output_type": "stream",
     "text": [
      "1\n"
     ]
    }
   ],
   "source": [
    "a, b, c = [1, 2, 3]\n",
    "print(a)"
   ]
  },
  {
   "cell_type": "markdown",
   "metadata": {},
   "source": [
    "#### Lendo uma lista inteira de uma vez\n",
    "\n",
    "Para ler uma lista inteira de valores em Python com um único `input()`, você pode usar a função `split()` para separar os valores inseridos e convertê-los para o tipo desejado (inteiro, float ou string). Aqui estão os exemplos para cada tipo:"
   ]
  },
  {
   "cell_type": "code",
   "execution_count": 2,
   "metadata": {},
   "outputs": [
    {
     "name": "stdout",
     "output_type": "stream",
     "text": [
      "1 2 3 4\n",
      "[1, 2, 3, 4]\n"
     ]
    }
   ],
   "source": [
    "# Leitura dos valores em uma única linha, separados por espaço\n",
    "valores = list( map( int, input().split() ) )\n",
    "print(valores)"
   ]
  },
  {
   "cell_type": "code",
   "execution_count": 9,
   "metadata": {},
   "outputs": [
    {
     "name": "stdout",
     "output_type": "stream",
     "text": [
      "1 2 3 4\n",
      "[1, 2, 3, 4]\n"
     ]
    }
   ],
   "source": [
    "leitura = input()\n",
    "lista_leitura = leitura.split()\n",
    "\n",
    "con_int = map(int, lista_leitura)\n",
    "\n",
    "lista = list(con_int)\n",
    "print(lista)\n",
    "\n"
   ]
  },
  {
   "cell_type": "markdown",
   "metadata": {},
   "source": [
    "O `input()` lê todos os valores como uma única string.\n",
    "\n",
    "O `split()` separa essa string em uma lista de substrings (cada número separado por espaço).\n",
    "\n",
    "O `map(int, ...)` converte cada substring para inteiro.\n",
    "\n",
    "O `list()` transforma o resultado em uma lista de inteiros."
   ]
  },
  {
   "cell_type": "code",
   "execution_count": 3,
   "metadata": {},
   "outputs": [
    {
     "name": "stdout",
     "output_type": "stream",
     "text": [
      "2.3 3.6\n",
      "[2.3, 3.6]\n"
     ]
    }
   ],
   "source": [
    "#Ler uma lista de floats:\n",
    "valores = list(map(float, input().split()))\n",
    "print(valores)"
   ]
  },
  {
   "cell_type": "code",
   "execution_count": null,
   "metadata": {},
   "outputs": [],
   "source": [
    "# Ler uma lista de strings:\n",
    "valores = input().split()\n",
    "print(valores)\n"
   ]
  },
  {
   "cell_type": "markdown",
   "metadata": {},
   "source": [
    "Neste caso, apenas o `split()` é necessário, já que os valores já são strings e não precisam de conversão."
   ]
  },
  {
   "cell_type": "markdown",
   "metadata": {},
   "source": [
    "#### Comprimento das Listas\n",
    "\n",
    "Da mesma forma que ocorre com strings , a função len retorna o comprimento de uma lista (o número de elementos na lista).\n",
    "\n",
    "Entretanto, como listas podem conter itens que são listas, é importante notar que len somente retorna o comprimento da lista mais externa.\n",
    "\n",
    "Em outras palavras, sublistas de uma lista são consideradas como sendo um elemento simples quando contamos o comprimento da lista."
   ]
  },
  {
   "cell_type": "code",
   "execution_count": 5,
   "metadata": {},
   "outputs": [
    {
     "name": "stdout",
     "output_type": "stream",
     "text": [
      "3\n"
     ]
    }
   ],
   "source": [
    "lista_int = [1, 2, 4]\n",
    "print(len(lista_int))"
   ]
  },
  {
   "cell_type": "code",
   "execution_count": 63,
   "metadata": {},
   "outputs": [
    {
     "name": "stdout",
     "output_type": "stream",
     "text": [
      "3\n"
     ]
    }
   ],
   "source": [
    "lista_int = [1, 2, 2]\n",
    "print(len(lista_int))\n",
    "\n",
    "## Qual será o tamanho dessa lista?"
   ]
  },
  {
   "cell_type": "markdown",
   "metadata": {},
   "source": [
    "#### Acessando os elementos\n",
    "\n",
    "A sintaxe para acessar um elemento de uma lista é a mesma usada para acessar um caractere de um string.\n",
    "\n",
    "Nós usamos o operador de indexação ( [] não confundir com a lista vazia).\n",
    "\n",
    "A expressão dentro dos conchetes especifica o índice.\n",
    "\n",
    "Lembrar que o índice do primeiro elemento é 0.\n",
    "\n",
    "Qualquer expressão que tenha como resultado um número inteiro pode ser usada como índice.\n",
    "\n",
    "Índices negativos indicarão elementos da direita para a esquerda ao invés da esquerda para a direita."
   ]
  },
  {
   "cell_type": "code",
   "execution_count": 8,
   "metadata": {},
   "outputs": [
    {
     "name": "stdout",
     "output_type": "stream",
     "text": [
      "Fox\n",
      "Up\n"
     ]
    }
   ],
   "source": [
    "lista_str = [\"Gol\", \"Fox\", \"Up\"]\n",
    "\n",
    "print(lista_str[1])\n",
    "print(lista_str[-1])"
   ]
  },
  {
   "cell_type": "code",
   "execution_count": 66,
   "metadata": {},
   "outputs": [
    {
     "name": "stdout",
     "output_type": "stream",
     "text": [
      "Gol\n"
     ]
    }
   ],
   "source": [
    "print(lista_str[1-1])\n",
    "\n",
    "#Qual será p resultado?"
   ]
  },
  {
   "cell_type": "markdown",
   "metadata": {},
   "source": [
    "`in` e `not in` são operadores booleanos ou lógicos que testam a pertinência em uma sequência. Já usamos esses operadores com strings e eles também funcionam aqui."
   ]
  },
  {
   "cell_type": "code",
   "execution_count": 69,
   "metadata": {},
   "outputs": [
    {
     "name": "stdout",
     "output_type": "stream",
     "text": [
      "True\n",
      "False\n",
      "True\n"
     ]
    }
   ],
   "source": [
    "frutas = [\"maca\", \"laranja\", \"banana\", \"cereja\"]\n",
    "\n",
    "print(\"maca\" in frutas)\n",
    "print(\"pera\" in frutas)\n",
    "print(\"Banana\" not in frutas)"
   ]
  },
  {
   "cell_type": "markdown",
   "metadata": {},
   "source": [
    "#### Concatenação e repetição\n",
    "\n",
    "Novamente, como com strings, o operador + concatena listas. Analogamente, o operador * repete os itens em uma lista um dado número de vezes."
   ]
  },
  {
   "cell_type": "code",
   "execution_count": 15,
   "metadata": {},
   "outputs": [
    {
     "name": "stdout",
     "output_type": "stream",
     "text": [
      "[1, 2, 3, 4, 5]\n",
      "['maca', 'laranja', 'banana', 'cereja', 6, 7, 8, 9]\n",
      "[0, 0, 0, 0]\n",
      "[1, 2, 3]\n"
     ]
    }
   ],
   "source": [
    "frutas = [\"maca\", \"laranja\", \"banana\", \"cereja\"]\n",
    "print([1, 2] + [3, 4, 5])\n",
    "print(frutas + [6, 7, 8, 9])\n",
    "\n",
    "print([0] * 4)\n",
    "\n",
    "print([1, 2] + [3])\n"
   ]
  },
  {
   "cell_type": "code",
   "execution_count": 16,
   "metadata": {},
   "outputs": [
    {
     "name": "stdout",
     "output_type": "stream",
     "text": [
      "[4, 5, 6, 7, 8]\n"
     ]
    }
   ],
   "source": [
    "vetor = [1, 2, 3, 4, 5]\n",
    "for i in range(len(vetor)):\n",
    "    vetor[i] = vetor[i] + 3\n",
    "\n",
    "print(vetor)"
   ]
  },
  {
   "cell_type": "markdown",
   "metadata": {},
   "source": [
    "#### Fatias de listas\n",
    "\n",
    "A operação de fatiar (slice) que vimos com strings também pode ser aplicada sobre listas. \n",
    "\n",
    "Lembre que o primeiro valor indica o ponto do início da fatia, o segundo valor é um depois do final da fatia e o terceiro é o pulo."
   ]
  },
  {
   "cell_type": "code",
   "execution_count": 19,
   "metadata": {},
   "outputs": [
    {
     "name": "stdout",
     "output_type": "stream",
     "text": [
      "['b', 'c']\n",
      "['a', 'b', 'c', 'd']\n",
      "['d', 'e', 'f']\n",
      "['f', 'e', 'd', 'c', 'b', 'a']\n",
      "['a', 'c', 'e']\n"
     ]
    }
   ],
   "source": [
    "uma_lista = ['a', 'b', 'c', 'd', 'e', 'f']\n",
    "print(uma_lista[1:3])\n",
    "print(uma_lista[:4])\n",
    "print(uma_lista[3:])\n",
    "print(uma_lista[::-1])\n",
    "\n",
    "print(uma_lista[::2])"
   ]
  },
  {
   "cell_type": "markdown",
   "metadata": {},
   "source": [
    "#### Listas são mutáveis\n",
    "\n",
    "Diferentemente de strings, listas são mutáveis (mutable). Isto significa que podemos alterar um item em uma lista acessando-o diretamente como parte do comando de atribuição. Usando o operador e indexação (colchetes) à esquerda de um comando de atribuição, podemos atualizar um dos itens de uma lista."
   ]
  },
  {
   "cell_type": "code",
   "execution_count": 13,
   "metadata": {},
   "outputs": [
    {
     "name": "stdout",
     "output_type": "stream",
     "text": [
      "['banana', 'maca', 'cereja']\n",
      "['pera', 'maca', 'laranja']\n"
     ]
    }
   ],
   "source": [
    "frutas = [\"banana\", \"maca\", \"cereja\"]\n",
    "print(frutas)\n",
    "\n",
    "frutas[0] = \"pera\"\n",
    "frutas[-1] = \"laranja\"\n",
    "print(frutas)"
   ]
  },
  {
   "cell_type": "markdown",
   "metadata": {},
   "source": [
    "Combinando uma atribuição com o operador de fatiamento podemos atualizar vários elementos de uma só vez."
   ]
  },
  {
   "cell_type": "code",
   "execution_count": 14,
   "metadata": {},
   "outputs": [
    {
     "name": "stdout",
     "output_type": "stream",
     "text": [
      "['a', 'x', 'y', 'd', 'e', 'f']\n"
     ]
    }
   ],
   "source": [
    "uma_lista = ['a', 'b', 'c', 'd', 'e', 'f']\n",
    "uma_lista[1:3] = ['x', 'y']\n",
    "print(uma_lista)"
   ]
  },
  {
   "cell_type": "markdown",
   "metadata": {},
   "source": [
    "#### Vamos fazer a primeira lista de exercícios de listas"
   ]
  },
  {
   "cell_type": "markdown",
   "metadata": {},
   "source": [
    "#### Remoção em listas\n",
    "\n",
    "Usando fatiamento para remover elementos de uma lista pode ser complicado, e portanto propagador de erros. Python oferece uma maneira alternativa que é mais legível. O comando del remove um elemento de uma lista usando a sua posição."
   ]
  },
  {
   "cell_type": "code",
   "execution_count": 15,
   "metadata": {},
   "outputs": [
    {
     "name": "stdout",
     "output_type": "stream",
     "text": [
      "['um', 'três']\n",
      "['a', 'f']\n"
     ]
    }
   ],
   "source": [
    "a = ['um', 'dois', 'três']\n",
    "del a[1]\n",
    "print(a)\n",
    "\n",
    "lista = ['a', 'b', 'c', 'd', 'e', 'f']\n",
    "del lista[1:5]\n",
    "print(lista)"
   ]
  },
  {
   "cell_type": "markdown",
   "metadata": {},
   "source": [
    "#### Métodos de listas\n",
    "\n",
    "- `append(item)`: Acrescenta um novo item no final da lista.\n",
    "\n",
    "- `insert(posição, item)`: Insere um novo item na posição dada.\n",
    "\n",
    "- `pop()`: Remove e returno o último item.\n",
    "\n",
    "- `pop(posição)`: Remove e retorna o item da posição.\n",
    "\n",
    "- `sort()`: Ordena a lista.\n",
    "\n",
    "- `reverse()`: Inverte lista.\n",
    "\n",
    "- `index(item)`: Retorna a posição da primeira ocorrência do item.\n",
    "\n",
    "- `count()`: Retorna o número de ocorrências do item.\n",
    "\n",
    "- `remove(item)`: Remove a primeira ocorrência do item."
   ]
  },
  {
   "cell_type": "code",
   "execution_count": 16,
   "metadata": {},
   "outputs": [
    {
     "name": "stdout",
     "output_type": "stream",
     "text": [
      "[5, 27, 3, 12]\n"
     ]
    }
   ],
   "source": [
    "minha_lista = []\n",
    "minha_lista.append(5)\n",
    "minha_lista.append(27)\n",
    "minha_lista.append(3)\n",
    "minha_lista.append(12)\n",
    "print(minha_lista)"
   ]
  },
  {
   "cell_type": "code",
   "execution_count": 17,
   "metadata": {},
   "outputs": [
    {
     "name": "stdout",
     "output_type": "stream",
     "text": [
      "[3, 12, 5, 27]\n"
     ]
    }
   ],
   "source": [
    "minha_lista = []\n",
    "minha_lista.append(5)\n",
    "minha_lista.append(27)\n",
    "minha_lista.insert(0, 3)\n",
    "minha_lista.insert(1, 12)\n",
    "print(minha_lista)"
   ]
  },
  {
   "cell_type": "code",
   "execution_count": 21,
   "metadata": {},
   "outputs": [
    {
     "name": "stdout",
     "output_type": "stream",
     "text": [
      "12\n",
      "[5, 27, 3]\n",
      "5\n",
      "[27, 3]\n"
     ]
    }
   ],
   "source": [
    "minha_lista = [5, 27, 3, 12]\n",
    "print(minha_lista.pop())\n",
    "print(minha_lista)\n",
    "print(minha_lista.pop(0))\n",
    "print(minha_lista)"
   ]
  },
  {
   "cell_type": "code",
   "execution_count": 73,
   "metadata": {},
   "outputs": [
    {
     "name": "stdout",
     "output_type": "stream",
     "text": [
      "[3, 5, 12.5, 27]\n"
     ]
    }
   ],
   "source": [
    "minha_lista = [5, 27, 3, 12.5]\n",
    "minha_lista.sort()\n",
    "print(minha_lista)"
   ]
  },
  {
   "cell_type": "code",
   "execution_count": 72,
   "metadata": {},
   "outputs": [
    {
     "name": "stdout",
     "output_type": "stream",
     "text": [
      "['banana', 'cereja', 'maca']\n"
     ]
    }
   ],
   "source": [
    "frutas = [\"banana\", \"maca\", \"cereja\"]\n",
    "frutas.sort()\n",
    "print(frutas)\n"
   ]
  },
  {
   "cell_type": "code",
   "execution_count": 24,
   "metadata": {},
   "outputs": [
    {
     "name": "stdout",
     "output_type": "stream",
     "text": [
      "[27, 12, 5, 3]\n"
     ]
    }
   ],
   "source": [
    "minha_lista = [5, 27, 3, 12]\n",
    "minha_lista.sort()\n",
    "minha_lista.reverse()\n",
    "print(minha_lista)"
   ]
  },
  {
   "cell_type": "code",
   "execution_count": 27,
   "metadata": {},
   "outputs": [
    {
     "name": "stdout",
     "output_type": "stream",
     "text": [
      "1\n"
     ]
    }
   ],
   "source": [
    "carros = [\"Gol\", \"Up\", \"Fox\"]\n",
    "print(carros.index(\"Up\"))"
   ]
  },
  {
   "cell_type": "code",
   "execution_count": 29,
   "metadata": {},
   "outputs": [
    {
     "ename": "ValueError",
     "evalue": "'FOX' is not in list",
     "output_type": "error",
     "traceback": [
      "\u001b[1;31m---------------------------------------------------------------------------\u001b[0m",
      "\u001b[1;31mValueError\u001b[0m                                Traceback (most recent call last)",
      "\u001b[1;32m<ipython-input-29-6b7bcbf7c7a3>\u001b[0m in \u001b[0;36m<module>\u001b[1;34m\u001b[0m\n\u001b[0;32m      1\u001b[0m \u001b[0mcarros\u001b[0m \u001b[1;33m=\u001b[0m \u001b[1;33m[\u001b[0m\u001b[1;34m\"Gol\"\u001b[0m\u001b[1;33m,\u001b[0m \u001b[1;34m\"Up\"\u001b[0m\u001b[1;33m,\u001b[0m \u001b[1;34m\"Fox\"\u001b[0m\u001b[1;33m]\u001b[0m\u001b[1;33m\u001b[0m\u001b[1;33m\u001b[0m\u001b[0m\n\u001b[1;32m----> 2\u001b[1;33m \u001b[0mprint\u001b[0m\u001b[1;33m(\u001b[0m\u001b[0mcarros\u001b[0m\u001b[1;33m.\u001b[0m\u001b[0mindex\u001b[0m\u001b[1;33m(\u001b[0m\u001b[1;34m\"FOX\"\u001b[0m\u001b[1;33m)\u001b[0m\u001b[1;33m)\u001b[0m\u001b[1;33m\u001b[0m\u001b[1;33m\u001b[0m\u001b[0m\n\u001b[0m",
      "\u001b[1;31mValueError\u001b[0m: 'FOX' is not in list"
     ]
    }
   ],
   "source": [
    "carros = [\"Gol\", \"Up\", \"Fox\"]\n",
    "print(carros.index(\"FOX\"))"
   ]
  },
  {
   "cell_type": "code",
   "execution_count": 32,
   "metadata": {},
   "outputs": [
    {
     "name": "stdout",
     "output_type": "stream",
     "text": [
      "1\n",
      "3\n",
      "2\n"
     ]
    }
   ],
   "source": [
    "minha_lista = [5, 27, 3, 12, 3, 2, 1, 23, 3, 12]\n",
    "print(minha_lista.count(5))\n",
    "print(minha_lista.count(3))\n",
    "print(minha_lista.count(12))"
   ]
  },
  {
   "cell_type": "code",
   "execution_count": 34,
   "metadata": {},
   "outputs": [
    {
     "name": "stdout",
     "output_type": "stream",
     "text": [
      "[5, 27, 12, 3, 2, 1, 23, 3, 12]\n"
     ]
    }
   ],
   "source": [
    "minha_lista = [5, 27, 3, 12, 3, 2, 1, 23, 3, 12]\n",
    "minha_lista.remove(3)\n",
    "print(minha_lista)"
   ]
  },
  {
   "cell_type": "code",
   "execution_count": 35,
   "metadata": {},
   "outputs": [
    {
     "ename": "ValueError",
     "evalue": "list.remove(x): x not in list",
     "output_type": "error",
     "traceback": [
      "\u001b[1;31m---------------------------------------------------------------------------\u001b[0m",
      "\u001b[1;31mValueError\u001b[0m                                Traceback (most recent call last)",
      "\u001b[1;32m<ipython-input-35-6e79400d4078>\u001b[0m in \u001b[0;36m<module>\u001b[1;34m\u001b[0m\n\u001b[0;32m      1\u001b[0m \u001b[0mminha_lista\u001b[0m \u001b[1;33m=\u001b[0m \u001b[1;33m[\u001b[0m\u001b[1;36m5\u001b[0m\u001b[1;33m,\u001b[0m \u001b[1;36m27\u001b[0m\u001b[1;33m,\u001b[0m \u001b[1;36m3\u001b[0m\u001b[1;33m,\u001b[0m \u001b[1;36m12\u001b[0m\u001b[1;33m,\u001b[0m \u001b[1;36m3\u001b[0m\u001b[1;33m,\u001b[0m \u001b[1;36m2\u001b[0m\u001b[1;33m,\u001b[0m \u001b[1;36m1\u001b[0m \u001b[1;33m,\u001b[0m \u001b[1;36m23\u001b[0m\u001b[1;33m,\u001b[0m \u001b[1;36m3\u001b[0m\u001b[1;33m,\u001b[0m \u001b[1;36m12\u001b[0m\u001b[1;33m]\u001b[0m\u001b[1;33m\u001b[0m\u001b[1;33m\u001b[0m\u001b[0m\n\u001b[1;32m----> 2\u001b[1;33m \u001b[0mminha_lista\u001b[0m\u001b[1;33m.\u001b[0m\u001b[0mremove\u001b[0m\u001b[1;33m(\u001b[0m\u001b[1;36m8\u001b[0m\u001b[1;33m)\u001b[0m\u001b[1;33m\u001b[0m\u001b[1;33m\u001b[0m\u001b[0m\n\u001b[0m\u001b[0;32m      3\u001b[0m \u001b[0mprint\u001b[0m\u001b[1;33m(\u001b[0m\u001b[0mminha_lista\u001b[0m\u001b[1;33m)\u001b[0m\u001b[1;33m\u001b[0m\u001b[1;33m\u001b[0m\u001b[0m\n",
      "\u001b[1;31mValueError\u001b[0m: list.remove(x): x not in list"
     ]
    }
   ],
   "source": [
    "minha_lista = [5, 27, 3, 12, 3, 2, 1, 23, 3, 12]\n",
    "minha_lista.remove(8)\n",
    "print(minha_lista)"
   ]
  },
  {
   "cell_type": "markdown",
   "metadata": {},
   "source": [
    "#### Vamos fazer a segunda lista de exercícios"
   ]
  },
  {
   "cell_type": "markdown",
   "metadata": {},
   "source": [
    "#### Dividir e unir métodos\n",
    "\n",
    "Quando usavamo o método `split()` em string estavamos dividindo em listas."
   ]
  },
  {
   "cell_type": "code",
   "execution_count": 38,
   "metadata": {},
   "outputs": [
    {
     "name": "stdout",
     "output_type": "stream",
     "text": [
      "['1', '2', '3', '4', '5']\n"
     ]
    }
   ],
   "source": [
    "entrada = \"1 2 3 4 5\"\n",
    "lista = entrada.split()\n",
    "print(lista)"
   ]
  },
  {
   "cell_type": "markdown",
   "metadata": {},
   "source": [
    "Funciona com outros separadores além do espaço (que é o padrão)."
   ]
  },
  {
   "cell_type": "code",
   "execution_count": 49,
   "metadata": {},
   "outputs": [
    {
     "name": "stdout",
     "output_type": "stream",
     "text": [
      "['123.456.444', '87']\n",
      "123.456.444\n",
      "['123', '456', '444']\n"
     ]
    }
   ],
   "source": [
    "entrada = \"123.456.444-87\"\n",
    "cpf = entrada.split(\"-\")\n",
    "print(cpf)\n",
    "\n",
    "print(cpf[0])\n",
    "print(cpf[0].split(\".\"))"
   ]
  },
  {
   "cell_type": "code",
   "execution_count": 79,
   "metadata": {},
   "outputs": [
    {
     "name": "stdout",
     "output_type": "stream",
     "text": [
      "192 168 0 1\n"
     ]
    }
   ],
   "source": [
    "ip = \"192.168.0.1\"\n",
    "ls_ip = ip.split(\".\")\n",
    "\n",
    "pa, pb, pc, pd = ls_ip\n",
    "\n",
    "print(pa, pb, pc, pd )"
   ]
  },
  {
   "cell_type": "markdown",
   "metadata": {},
   "source": [
    "Podemos fazer o contrário, unir um a lista com o método `join()`."
   ]
  },
  {
   "cell_type": "code",
   "execution_count": 80,
   "metadata": {},
   "outputs": [
    {
     "name": "stdout",
     "output_type": "stream",
     "text": [
      "Gol -> Up -> Fox\n"
     ]
    }
   ],
   "source": [
    "lista = [\"Gol\", \"Up\", \"Fox\"]\n",
    "texto = \" -> \".join(lista)\n",
    "print(texto)"
   ]
  },
  {
   "cell_type": "markdown",
   "metadata": {},
   "source": [
    "#### List comprehensions\n",
    "\n",
    "List comprehension é uma maneira compacta de criar listas. A forma geral para obter esse efeito é:\n",
    "\n",
    "`[<expressão> for <item> in <sequência> if <condição>]`\n",
    "\n",
    "onde a cláusula if é opcional. Por exemplo,"
   ]
  },
  {
   "cell_type": "code",
   "execution_count": 53,
   "metadata": {},
   "outputs": [
    {
     "name": "stdout",
     "output_type": "stream",
     "text": [
      "[1, 4, 9, 16, 25]\n"
     ]
    }
   ],
   "source": [
    "lista1 = [1, 2, 3, 4, 5]\n",
    "\n",
    "lista2 = [item ** 2 for item in lista1]\n",
    "\n",
    "print(lista2)\n"
   ]
  },
  {
   "cell_type": "code",
   "execution_count": 81,
   "metadata": {},
   "outputs": [
    {
     "name": "stdout",
     "output_type": "stream",
     "text": [
      "[1, 4, 9, 16, 25]\n"
     ]
    }
   ],
   "source": [
    "print([item ** 2 for item in [1, 2, 3, 4, 5]])"
   ]
  },
  {
   "cell_type": "code",
   "execution_count": 54,
   "metadata": {},
   "outputs": [
    {
     "name": "stdout",
     "output_type": "stream",
     "text": [
      "[1, 4, 9, 16, 25]\n"
     ]
    }
   ],
   "source": [
    "#Mesmo que anterior\n",
    "lista1 = [1, 2, 3, 4, 5]\n",
    "\n",
    "lista2 = []\n",
    "for item in lista1:\n",
    "    lista2.append(item ** 2)\n",
    "\n",
    "print(lista2)"
   ]
  },
  {
   "cell_type": "code",
   "execution_count": 56,
   "metadata": {},
   "outputs": [
    {
     "name": "stdout",
     "output_type": "stream",
     "text": [
      "[10]\n"
     ]
    }
   ],
   "source": [
    "#Com IF\n",
    "lista1 = [4,2,8,6,5]\n",
    "lista2 = [num*2 for num in lista1 if num%2==1]\n",
    "print(lista2)"
   ]
  },
  {
   "cell_type": "code",
   "execution_count": 57,
   "metadata": {},
   "outputs": [
    {
     "name": "stdout",
     "output_type": "stream",
     "text": [
      "[10]\n"
     ]
    }
   ],
   "source": [
    "#Com IF\n",
    "lista1 = [4,2,8,6,5]\n",
    "lista2 = []\n",
    "for num in lista1:\n",
    "    if num%2==1:\n",
    "        lista2.append(num*2)\n",
    "print(lista2)"
   ]
  },
  {
   "cell_type": "markdown",
   "metadata": {},
   "source": [
    "#### Converter string em lista\n",
    "\n",
    "Python possui uma função chamada `list` que procura converter o seu argumento para o tipo list."
   ]
  },
  {
   "cell_type": "code",
   "execution_count": 58,
   "metadata": {},
   "outputs": [
    {
     "name": "stdout",
     "output_type": "stream",
     "text": [
      "['J', 'o', 'ã', 'o', ' ', 'p', 'a', 'u', 'l', 'o']\n"
     ]
    }
   ],
   "source": [
    "nome = \"João paulo\"\n",
    "print(list(nome))"
   ]
  },
  {
   "cell_type": "code",
   "execution_count": 60,
   "metadata": {},
   "outputs": [
    {
     "name": "stdout",
     "output_type": "stream",
     "text": [
      "João Paulo\n"
     ]
    }
   ],
   "source": [
    "nome = \"João paulo\"\n",
    "lista_nome = list(nome)\n",
    "lista_nome[5] = \"P\"\n",
    "\n",
    "nome = \"\".join(lista_nome)\n",
    "print(nome)"
   ]
  },
  {
   "cell_type": "markdown",
   "metadata": {},
   "source": [
    "Como variáveis fazem referência a objetos, se atribuirmos uma variável a outra, ambas as variáveis passam a fazer referência ao mesmo objeto. Para que não seja o mesmo objeto, devemos fazer uma cópia com o método `copy()`."
   ]
  },
  {
   "cell_type": "code",
   "execution_count": 82,
   "metadata": {},
   "outputs": [
    {
     "name": "stdout",
     "output_type": "stream",
     "text": [
      "[1, 2, 5]\n"
     ]
    }
   ],
   "source": [
    "la = [1, 2, 3]\n",
    "lb = la\n",
    "\n",
    "lb[2] = 5\n",
    "print(la)"
   ]
  },
  {
   "cell_type": "code",
   "execution_count": null,
   "metadata": {},
   "outputs": [],
   "source": [
    "la = [1, 2, 3]\n",
    "lb = la.copy()\n",
    "\n",
    "lb[2] = 5\n",
    "print(la)"
   ]
  }
 ],
 "metadata": {
  "kernelspec": {
   "display_name": "Python 3 (ipykernel)",
   "language": "python",
   "name": "python3"
  },
  "language_info": {
   "codemirror_mode": {
    "name": "ipython",
    "version": 3
   },
   "file_extension": ".py",
   "mimetype": "text/x-python",
   "name": "python",
   "nbconvert_exporter": "python",
   "pygments_lexer": "ipython3",
   "version": "3.11.7"
  }
 },
 "nbformat": 4,
 "nbformat_minor": 4
}
