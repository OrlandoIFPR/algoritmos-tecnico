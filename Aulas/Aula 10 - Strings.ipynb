{
 "cells": [
  {
   "cell_type": "markdown",
   "metadata": {},
   "source": [
    "### <center>Algoritmos e Estruturas de Dados</center>\n",
    "\n",
    "#### <center>Strings</center>\n",
    "\n",
    "\n",
    "**Prof.**: João Paulo Orlando\n",
    "\n",
    "**Curso**: Técnico em Informática Integrado ao Ensino Médio"
   ]
  },
  {
   "cell_type": "markdown",
   "metadata": {},
   "source": [
    "Até o momento, exploramos diversos tipos de dados nativos, como inteiros (int), números decimais (float), valores booleanos (bool) e strings (str). Os tipos int, float e bool são considerados simples ou primitivos, pois não são compostos por partes menores e não podem ser divididos em elementos distintos.\n",
    "\n",
    "Por outro lado, as strings se destacam por sua natureza distinta. Ao contrário dos tipos simples, elas são construídas a partir de fragmentos menores. Cada string é composta por sequências de caracteres individuais, o que as torna distintas dos demais tipos.\n",
    "\n",
    "Esses tipos que se constituem a partir de partes menores são conhecidos como tipos de dados compostos. Em determinados contextos, podemos optar por tratar um tipo composto como uma unidade completa, ou então, podemos necessitar acessar suas partes individuais. Essa flexibilidade de abordagem é bastante útil e comum na programação.\n",
    "\n",
    "No caso das strings, elas podem ser definidas como coleções ordenadas de caracteres, assumindo que esses caracteres estão dispostos em uma ordem específica da esquerda para a direita. Essa característica de sequencialidade é fundamental para entender e manipular strings de forma eficaz."
   ]
  },
  {
   "cell_type": "markdown",
   "metadata": {},
   "source": [
    "Leitura e escrita de uma string"
   ]
  },
  {
   "cell_type": "code",
   "execution_count": 1,
   "metadata": {},
   "outputs": [
    {
     "name": "stdout",
     "output_type": "stream",
     "text": [
      "João Paulo\n",
      "Olá João Paulo!\n"
     ]
    }
   ],
   "source": [
    "nome = input()\n",
    "print(f\"Olá {nome}!\")\n"
   ]
  },
  {
   "cell_type": "markdown",
   "metadata": {},
   "source": [
    "Operadores * e +"
   ]
  },
  {
   "cell_type": "code",
   "execution_count": 2,
   "metadata": {},
   "outputs": [
    {
     "name": "stdout",
     "output_type": "stream",
     "text": [
      "Olá João\n"
     ]
    }
   ],
   "source": [
    "texto1 = \"Olá\"\n",
    "texto2 = \"João\"\n",
    "msg_final = texto1 + \" \" + texto2\n",
    "print(msg_final)"
   ]
  },
  {
   "cell_type": "code",
   "execution_count": 3,
   "metadata": {},
   "outputs": [
    {
     "name": "stdout",
     "output_type": "stream",
     "text": [
      "Viva ao Grêmio! Viva ao Grêmio! Viva ao Grêmio! Viva ao Grêmio! Viva ao Grêmio! \n"
     ]
    }
   ],
   "source": [
    "msg = \"Viva ao Grêmio! \"\n",
    "print(msg*5)"
   ]
  },
  {
   "attachments": {},
   "cell_type": "markdown",
   "metadata": {},
   "source": [
    "#### Operador de indexação\n",
    "\n",
    "O operador de indexação em Python, indicado pelo uso de colchetes, permite selecionar um único caractere de uma string. Esses caracteres são acessados com base em sua posição ou valor de índice na sequência. Por exemplo, considerando a sequência abaixo, os 14 caracteres são indexados da esquerda para a direita, começando do índice 0 e indo até o índice 13.\n",
    "\n",
    "<img src=\"./Imagens/10-01.png\">\n",
    "\n",
    "\n",
    "Além disso, é possível acessar as posições da string da direita para a esquerda utilizando números negativos. Nessa abordagem, -1 representa o índice mais à direita, e assim por diante. É importante observar que, na sequência mencionada, o caractere localizado no índice 6 (ou -8) corresponde ao caractere em branco."
   ]
  },
  {
   "cell_type": "code",
   "execution_count": 4,
   "metadata": {},
   "outputs": [
    {
     "name": "stdout",
     "output_type": "stream",
     "text": [
      "r\n",
      "s\n"
     ]
    }
   ],
   "source": [
    "escola = \"Carlos Gomes\"\n",
    "m = escola[2]\n",
    "print(m)\n",
    "\n",
    "ultimo = escola[-1]\n",
    "print(ultimo)"
   ]
  },
  {
   "cell_type": "code",
   "execution_count": 7,
   "metadata": {},
   "outputs": [
    {
     "name": "stdout",
     "output_type": "stream",
     "text": [
      "222\n",
      "achei um ?\n"
     ]
    }
   ],
   "source": [
    "escola = \"\"\"Lorem ipsum dolor sit amet, consectetur adipisicing elit.\n",
    "Maxime ut animi dolores numquam dignissimos. Excepturi, fugiat.\n",
    "Neque at, libero nam est corrupti quos tempore expedita ad necessitatibus nisi,\n",
    "praesentium aliquam?\"\"\"\n",
    "\n",
    "print(len(escola))\n",
    "if escola[221] == \"?\":\n",
    "    print(\"achei um ?\")"
   ]
  },
  {
   "cell_type": "markdown",
   "metadata": {},
   "source": [
    "#### Comprimento\n",
    "\n",
    "A função `len()`, quando aplicada a uma string, retorna o número de caracteres na string (ou seja, o seu comprimento)."
   ]
  },
  {
   "cell_type": "code",
   "execution_count": 8,
   "metadata": {},
   "outputs": [
    {
     "name": "stdout",
     "output_type": "stream",
     "text": [
      "10\n",
      "7\n",
      "16\n"
     ]
    }
   ],
   "source": [
    "nome = \"João Paulo\"\n",
    "print(len(nome))\n",
    "\n",
    "print(len(\"# João \"))\n",
    "\n",
    "print(len(f\"Nome: {nome}\"))"
   ]
  },
  {
   "cell_type": "markdown",
   "metadata": {},
   "source": [
    "#### Fatiamento\n",
    "\n",
    "Uma substring de uma string é chamado de fatia (do inglês slice). Selecionar uma fatia é semelhante a selecionar um caractere:\n",
    "\n",
    "`singers = \"Peter, Paul, and Mary\"\n",
    "print(singers[0:5])\n",
    "print(singers[7:11])\n",
    "print(singers[17:21])\n",
    "`\n",
    "\n",
    "O operador de fatia `[n:m]` retorna a parte do string a partir do n-ésimo caractere até o m-ésimo caractere, incluindo o primeiro, mas excluindo o último. Em outras palavras, comece com o caractere no índice `n` e vá até, mas não inclua, o caractere no índice `m`. Esse comportamento pode parecer contra-intuitivo, mas se você se lembra a função `range()`, ela não inclui o seu ponto final também.\n",
    "\n",
    "Se você omitir o primeiro índice (antes dos dois pontos), a fatia começa no início da cadeia. Se você omitir o segundo índice, a fatia vai até o fim da cadeia."
   ]
  },
  {
   "cell_type": "code",
   "execution_count": 19,
   "metadata": {},
   "outputs": [
    {
     "name": "stdout",
     "output_type": "stream",
     "text": [
      "Peter\n",
      "Paul\n",
      "Mary\n"
     ]
    }
   ],
   "source": [
    "singers = \"Peter, Paul, and Mary\"\n",
    "print(singers[0:5])\n",
    "print(singers[7:11])\n",
    "print(singers[17:21])"
   ]
  },
  {
   "cell_type": "code",
   "execution_count": 24,
   "metadata": {},
   "outputs": [
    {
     "name": "stdout",
     "output_type": "stream",
     "text": [
      "Peter\n",
      "Mary\n",
      "Paul, and Mary\n",
      "Peter, Paul, and Mary Peter, Paul, and Mary\n"
     ]
    }
   ],
   "source": [
    "singers = \"Peter, Paul, and Mary\"\n",
    "print(singers[:5])\n",
    "print(singers[17:])\n",
    "print(singers[7:])\n",
    "print(singers[:], singers[:])"
   ]
  },
  {
   "cell_type": "markdown",
   "metadata": {},
   "source": [
    "Se você especificar uma fatia com três parâmetros `S[a:b:d]`, o terceiro parâmetro especifica o salto, o mesmo que para a função `range()`. \n",
    "\n",
    "Se o terceiro parâmetro for igual a 2, a fatia receberá cada segundo caractere e, se a etapa da fatia for igual a -1 , os caracteres serão executados na ordem inversa. \n",
    "\n",
    "Por exemplo, você pode inverter uma string como esta: `S[::-1]`. \n",
    "Vamos ver os exemplos:"
   ]
  },
  {
   "cell_type": "code",
   "execution_count": 9,
   "metadata": {},
   "outputs": [
    {
     "name": "stdout",
     "output_type": "stream",
     "text": [
      "b\n",
      "g\n"
     ]
    }
   ],
   "source": [
    "s = 'abcdefg'\n",
    "print(s[1])\n",
    "print(s[-1])"
   ]
  },
  {
   "cell_type": "code",
   "execution_count": 10,
   "metadata": {},
   "outputs": [
    {
     "name": "stdout",
     "output_type": "stream",
     "text": [
      "bc\n",
      "bcdef\n"
     ]
    }
   ],
   "source": [
    "s = 'abcdefg'\n",
    "print(s[1:3])\n",
    "print(s[1:-1])"
   ]
  },
  {
   "cell_type": "code",
   "execution_count": 14,
   "metadata": {},
   "outputs": [
    {
     "name": "stdout",
     "output_type": "stream",
     "text": [
      "abc\n",
      "cdefg\n",
      "abcdef\n"
     ]
    }
   ],
   "source": [
    "s = 'abcdefg'\n",
    "print(s[:3])\n",
    "print(s[2:])\n",
    "print(s[:-1])"
   ]
  },
  {
   "cell_type": "code",
   "execution_count": 16,
   "metadata": {},
   "outputs": [
    {
     "name": "stdout",
     "output_type": "stream",
     "text": [
      "aceg\n",
      "bdf\n",
      "gfedcba\n"
     ]
    }
   ],
   "source": [
    "s = 'abcdefg'\n",
    "print(s[::2])\n",
    "print(s[1::2])\n",
    "print(s[::-1])"
   ]
  },
  {
   "cell_type": "markdown",
   "metadata": {},
   "source": [
    "#### Comparação de strings\n",
    "\n",
    "Os operadores de comparação também funcionam com strings. Para ver se duas strings são iguais, basta escrever uma expressão booleana usando o operador de igualdade."
   ]
  },
  {
   "cell_type": "code",
   "execution_count": 6,
   "metadata": {},
   "outputs": [
    {
     "name": "stdout",
     "output_type": "stream",
     "text": [
      "True\n",
      "False\n"
     ]
    }
   ],
   "source": [
    "print(\"Joao\" == \"Joao\")\n",
    "print(\"joao\" == \"Joao\")"
   ]
  },
  {
   "cell_type": "code",
   "execution_count": 8,
   "metadata": {},
   "outputs": [
    {
     "name": "stdout",
     "output_type": "stream",
     "text": [
      "False\n",
      "True\n"
     ]
    }
   ],
   "source": [
    "print(\"Ana\" > \"Bruno\")\n",
    "print(\"Ana\" < \"Bruno\")"
   ]
  },
  {
   "cell_type": "code",
   "execution_count": 25,
   "metadata": {},
   "outputs": [
    {
     "name": "stdout",
     "output_type": "stream",
     "text": [
      "True\n"
     ]
    }
   ],
   "source": [
    "print(\"Bruno\" > \"Bruna\")"
   ]
  },
  {
   "cell_type": "code",
   "execution_count": 29,
   "metadata": {},
   "outputs": [
    {
     "name": "stdout",
     "output_type": "stream",
     "text": [
      "True\n"
     ]
    }
   ],
   "source": [
    "print(\"Bruno\" < \"ana\")\n",
    "#Cuidado, as letras maiúsculas vêm antes das minusculas"
   ]
  },
  {
   "cell_type": "code",
   "execution_count": 30,
   "metadata": {},
   "outputs": [
    {
     "name": "stdout",
     "output_type": "stream",
     "text": [
      "True\n"
     ]
    }
   ],
   "source": [
    "print(\"!\" < \"&\")\n",
    "# ! é o caractere 33 e o & é o caractere 38"
   ]
  },
  {
   "cell_type": "markdown",
   "metadata": {},
   "source": [
    "#### Imutabilidade\n",
    "\n",
    "Qualquer fatia de uma string cria uma nova string e nunca modifica a original. Em Python, as strings são imutáveis, ou seja, elas não podem ser alteradas como objetos. Você só pode atribuir a variável à nova string, mas a antiga permanece na memória.\n"
   ]
  },
  {
   "cell_type": "code",
   "execution_count": 41,
   "metadata": {},
   "outputs": [
    {
     "name": "stdout",
     "output_type": "stream",
     "text": [
      "Hello\n",
      "ll\n"
     ]
    }
   ],
   "source": [
    "s = 'Hello'\n",
    "t = s\n",
    "t = s[2:4]\n",
    "print(s)\n",
    "print(t)"
   ]
  },
  {
   "cell_type": "code",
   "execution_count": 42,
   "metadata": {},
   "outputs": [
    {
     "ename": "TypeError",
     "evalue": "'str' object does not support item assignment",
     "output_type": "error",
     "traceback": [
      "\u001b[1;31m---------------------------------------------------------------------------\u001b[0m",
      "\u001b[1;31mTypeError\u001b[0m                                 Traceback (most recent call last)",
      "\u001b[1;32m<ipython-input-42-14dccdabd927>\u001b[0m in \u001b[0;36m<module>\u001b[1;34m\u001b[0m\n\u001b[0;32m      1\u001b[0m \u001b[0ms\u001b[0m \u001b[1;33m=\u001b[0m \u001b[1;34m'Hello'\u001b[0m\u001b[1;33m\u001b[0m\u001b[1;33m\u001b[0m\u001b[0m\n\u001b[1;32m----> 2\u001b[1;33m \u001b[0ms\u001b[0m\u001b[1;33m[\u001b[0m\u001b[1;36m0\u001b[0m\u001b[1;33m]\u001b[0m \u001b[1;33m=\u001b[0m \u001b[1;34m\"h\"\u001b[0m \u001b[1;31m#Devido a imutabilidade, não posso modificar qualquer parte da string\u001b[0m\u001b[1;33m\u001b[0m\u001b[1;33m\u001b[0m\u001b[0m\n\u001b[0m",
      "\u001b[1;31mTypeError\u001b[0m: 'str' object does not support item assignment"
     ]
    }
   ],
   "source": [
    "s = 'Hello'\n",
    "s[0] = \"h\" #Devido à imutabilidade, não posso modificar qualquer parte da string"
   ]
  },
  {
   "cell_type": "markdown",
   "metadata": {},
   "source": [
    "#### Percorrendo uma string com for\n",
    "\n",
    "Um grande número de computações envolvem o processamento de item de um conjunto de cada vez. Para strings, isto significa que nós gostaríamos de processar um caractere de cada vez. Muitas vezes, nós começamos no início, selecionamos um caractere de cada vez, fazemos alguma coisa com ele, e continuamos até o final. Este padrão de processamento é chamado um percurso."
   ]
  },
  {
   "cell_type": "code",
   "execution_count": 23,
   "metadata": {},
   "outputs": [
    {
     "name": "stdout",
     "output_type": "stream",
     "text": [
      "[0, 1, 2, 3, 4, 5, 6, 7, 8, 9]\n"
     ]
    }
   ],
   "source": [
    "print(list(range(10)))"
   ]
  },
  {
   "cell_type": "code",
   "execution_count": 24,
   "metadata": {},
   "outputs": [
    {
     "name": "stdout",
     "output_type": "stream",
     "text": [
      "['J', 'o', 'ã', 'o']\n"
     ]
    }
   ],
   "source": [
    "print(list(\"João\"))"
   ]
  },
  {
   "cell_type": "code",
   "execution_count": 9,
   "metadata": {},
   "outputs": [
    {
     "name": "stdout",
     "output_type": "stream",
     "text": [
      "C\n",
      "o\n",
      "m\n",
      "a\n",
      "o\n"
     ]
    }
   ],
   "source": [
    "palavra = \"Computação\"\n",
    "for letra in palavra:\n",
    "    if letra < \"p\":\n",
    "        print(letra)"
   ]
  },
  {
   "cell_type": "markdown",
   "metadata": {},
   "source": [
    "#### Varredura com for com índice\n",
    "\n",
    "Podemos utilizar a função `enumerate()`, numerar as letras do texto\n"
   ]
  },
  {
   "cell_type": "code",
   "execution_count": 27,
   "metadata": {},
   "outputs": [
    {
     "name": "stdout",
     "output_type": "stream",
     "text": [
      "[(0, 't'), (1, 'e'), (2, 'x'), (3, 't'), (4, 'o')]\n"
     ]
    }
   ],
   "source": [
    "print(list(enumerate(\"texto\")))"
   ]
  },
  {
   "cell_type": "code",
   "execution_count": 28,
   "metadata": {},
   "outputs": [
    {
     "name": "stdout",
     "output_type": "stream",
     "text": [
      "0 P\n",
      "1 y\n",
      "2 t\n",
      "3 h\n",
      "4 o\n",
      "5 n\n",
      "6  \n",
      "7 é\n",
      "8  \n",
      "9 l\n",
      "10 e\n",
      "11 g\n",
      "12 a\n",
      "13 l\n",
      "14 !\n"
     ]
    }
   ],
   "source": [
    "texto = \"Python é legal!\"\n",
    "for indice, letra in enumerate(texto):\n",
    "    print(indice, letra)"
   ]
  },
  {
   "cell_type": "markdown",
   "metadata": {},
   "source": [
    "#### Percorrendo com `for` e `while` através do índice\n",
    "\n",
    "Também é possível percorrer com `while` ou com `for`, através do índice."
   ]
  },
  {
   "cell_type": "code",
   "execution_count": 10,
   "metadata": {},
   "outputs": [
    {
     "name": "stdout",
     "output_type": "stream",
     "text": [
      "0 --> a\n",
      "1 --> p\n",
      "2 --> p\n",
      "3 --> l\n",
      "4 --> e\n"
     ]
    }
   ],
   "source": [
    "fruta = \"apple\"\n",
    "\n",
    "for pos in range(len(fruta)):\n",
    "    print(pos, \"-->\", fruta[pos])"
   ]
  },
  {
   "cell_type": "code",
   "execution_count": 29,
   "metadata": {},
   "outputs": [
    {
     "name": "stdout",
     "output_type": "stream",
     "text": [
      "a\n",
      "p\n",
      "p\n",
      "l\n",
      "e\n"
     ]
    }
   ],
   "source": [
    "fruta = \"apple\"\n",
    "\n",
    "pos = 0\n",
    "while pos < len(fruta):\n",
    "    print(fruta[pos])\n",
    "    pos = pos + 1"
   ]
  },
  {
   "cell_type": "markdown",
   "metadata": {},
   "source": [
    "#### Operadores in e not in\n",
    "\n",
    "O operador `in` testa se uma string é uma substring de outro.\n",
    "\n",
    "Note que uma string é uma substring de si mesmo, e a string vazio é uma substring de qualquer outra string. \n",
    "\n",
    "\n"
   ]
  },
  {
   "cell_type": "code",
   "execution_count": 31,
   "metadata": {},
   "outputs": [
    {
     "name": "stdout",
     "output_type": "stream",
     "text": [
      "True\n",
      "False\n",
      "True\n",
      "False\n"
     ]
    }
   ],
   "source": [
    "print('p' in 'apple')\n",
    "print('i' in 'apple')\n",
    "print('ap' in 'apple')\n",
    "print('pa' in 'apple')"
   ]
  },
  {
   "cell_type": "code",
   "execution_count": 44,
   "metadata": {},
   "outputs": [
    {
     "name": "stdout",
     "output_type": "stream",
     "text": [
      "True\n",
      "True\n",
      "True\n",
      "True\n"
     ]
    }
   ],
   "source": [
    "print('a' in 'a')\n",
    "print('apple' in 'apple')\n",
    "print('' in '')\n",
    "print('' in 'apple')"
   ]
  },
  {
   "cell_type": "markdown",
   "metadata": {},
   "source": [
    "O operador not in retorna o resultado lógico oposto de in."
   ]
  },
  {
   "cell_type": "code",
   "execution_count": 33,
   "metadata": {},
   "outputs": [
    {
     "name": "stdout",
     "output_type": "stream",
     "text": [
      "True\n"
     ]
    }
   ],
   "source": [
    "print('x' not in 'apple')"
   ]
  },
  {
   "cell_type": "markdown",
   "metadata": {},
   "source": [
    "#### Métodos para strings\n",
    "O python possui diversos métodos para trabalhar com strings:\n",
    "\n",
    "* capitalize() - Capitalizar uma palavra\n",
    "* count() - Retorna a quantidade de vezes que um caractere se repete\n",
    "* endswith() - Retorna True(Verdadeiro) se uma string termina com uma string indicada\n",
    "* startswith() - Retorna True(Verdadeiro) se uma string começa com uma string indicada\n",
    "* find() - Retorna a 1º posição da letra/string desejada\n",
    "* lower() - Converte todas as letras em minúsculas\n",
    "* upper() - Converte todas as letras em maiúsculas\n",
    "* replace() - Substitui uma string"
   ]
  },
  {
   "cell_type": "code",
   "execution_count": 45,
   "metadata": {},
   "outputs": [
    {
     "name": "stdout",
     "output_type": "stream",
     "text": [
      "Terminal terminal\n"
     ]
    }
   ],
   "source": [
    "name = \"tERMINAL tERMINAL\"\n",
    "print( name.capitalize() )\n"
   ]
  },
  {
   "cell_type": "code",
   "execution_count": 47,
   "metadata": {},
   "outputs": [
    {
     "name": "stdout",
     "output_type": "stream",
     "text": [
      "2\n"
     ]
    }
   ],
   "source": [
    "name = \"casa\"\n",
    "print( name.count(\"a\") )"
   ]
  },
  {
   "cell_type": "code",
   "execution_count": 37,
   "metadata": {},
   "outputs": [
    {
     "name": "stdout",
     "output_type": "stream",
     "text": [
      "True\n"
     ]
    }
   ],
   "source": [
    "name = \"Terminal\"\n",
    "print( name.endswith(\"nal\") )"
   ]
  },
  {
   "cell_type": "code",
   "execution_count": 39,
   "metadata": {},
   "outputs": [
    {
     "name": "stdout",
     "output_type": "stream",
     "text": [
      "True\n"
     ]
    }
   ],
   "source": [
    "name = \"Terminal\"\n",
    "print( name.startswith(\"Ter\") )"
   ]
  },
  {
   "cell_type": "code",
   "execution_count": 50,
   "metadata": {},
   "outputs": [
    {
     "name": "stdout",
     "output_type": "stream",
     "text": [
      "4\n",
      "0\n",
      "-1\n",
      "-1\n"
     ]
    }
   ],
   "source": [
    "name = \"TerminalT\"\n",
    "print( name.find(\"i\") )\n",
    "print( name.find(\"T\") )\n",
    "print( name.find(\"t\") )\n",
    "print( name.find(\"x\") )\n"
   ]
  },
  {
   "cell_type": "code",
   "execution_count": 51,
   "metadata": {},
   "outputs": [
    {
     "name": "stdout",
     "output_type": "stream",
     "text": [
      "terminal root\n"
     ]
    }
   ],
   "source": [
    "name = \"TeRmInAl RoOt\"\n",
    "print( name.lower() )"
   ]
  },
  {
   "cell_type": "code",
   "execution_count": 44,
   "metadata": {},
   "outputs": [
    {
     "name": "stdout",
     "output_type": "stream",
     "text": [
      "TERMINAL ROOT\n"
     ]
    }
   ],
   "source": [
    "name = \"TeRmInAl RoOt\"\n",
    "print( name.upper() )"
   ]
  },
  {
   "cell_type": "code",
   "execution_count": 45,
   "metadata": {},
   "outputs": [
    {
     "name": "stdout",
     "output_type": "stream",
     "text": [
      "Terminal Root\n"
     ]
    }
   ],
   "source": [
    "name = \"Terminal User\"\n",
    "print( name.replace(\"User\", \"Root\") )"
   ]
  },
  {
   "cell_type": "markdown",
   "metadata": {},
   "source": [
    "#### Codificação ASCII (American Standard Code for Information Interchange)\n",
    "\n",
    "<img src=\"./Imagens/10-02.png\">\n",
    "\n",
    "Fonte: [Treina Web](https://www.treinaweb.com.br/blog/uma-introducao-a-ascii-e-unicode)\n",
    "\n",
    "Por exemplo, o 'a' minúsculo que você digita no teclado é representado na tabela pelo decimal 97, mas internamente o computador trabalha isso em binário, ou seja, com 8 bits `01100001` (97 em decimal).\n",
    "\n",
    "#### Função `ord()`\n",
    "Transforma o caractere no valor correspondente da tabela ASCII.\n"
   ]
  },
  {
   "cell_type": "code",
   "execution_count": 13,
   "metadata": {},
   "outputs": [
    {
     "name": "stdout",
     "output_type": "stream",
     "text": [
      "97\n"
     ]
    }
   ],
   "source": [
    "print(ord('a'))"
   ]
  },
  {
   "cell_type": "markdown",
   "metadata": {},
   "source": [
    "#### Função `chr()`\n",
    "A função `chr()` transforma um número, no caractere correspondente, conforme tabela ASCII."
   ]
  },
  {
   "cell_type": "code",
   "execution_count": 14,
   "metadata": {},
   "outputs": [
    {
     "name": "stdout",
     "output_type": "stream",
     "text": [
      "a\n"
     ]
    }
   ],
   "source": [
    "print(chr(97))"
   ]
  },
  {
   "cell_type": "markdown",
   "metadata": {},
   "source": [
    "##### Cifra de César\n",
    "\n",
    "Em criptografia, a Cifra de César, também conhecida como cifra de troca, código de César ou troca de César, é uma das mais simples e conhecidas técnicas de criptografia. É um tipo de cifra de substituição na qual cada letra do texto é substituída por outra, que se apresenta no alfabeto abaixo dela um número fixo de vezes. Por exemplo, com uma troca de três posições, A seria substituído por D, B se tornaria E, e assim por diante. O nome do método é em homenagem a Júlio César, que o usou para se comunicar com os seus generais."
   ]
  },
  {
   "cell_type": "code",
   "execution_count": 19,
   "metadata": {},
   "outputs": [
    {
     "name": "stdout",
     "output_type": "stream",
     "text": [
      "Informe o texto a ser codificado: \n",
      "paulo\n",
      "Informe o deslocamento\n",
      "2\n",
      "rcwnq\n"
     ]
    }
   ],
   "source": [
    "# Crie um programa que leia um texto a ser criptografado \n",
    "#   e um inteiro que será o deslocamento. A seguir exiba a \n",
    "#   a mensagem criptografada.\n",
    "\n",
    "print(\"Informe o texto a ser codificado: \")\n",
    "texto = input()\n",
    "print(\"Informe o deslocamento\")\n",
    "deslocamento = int(input())\n",
    "\n",
    "texto_cripto = \"\"\n",
    "\n",
    "for letra in texto:\n",
    "    texto_cripto = texto_cripto + chr(ord(letra)+deslocamento) \n",
    "\n",
    "print(texto_cripto)"
   ]
  },
  {
   "cell_type": "code",
   "execution_count": 20,
   "metadata": {},
   "outputs": [
    {
     "name": "stdout",
     "output_type": "stream",
     "text": [
      "Informe o texto codificado: \n",
      "rcwnq\n",
      "Informe o deslocamento\n",
      "2\n",
      "paulo\n"
     ]
    }
   ],
   "source": [
    "# Faça o programa que descriptografe a mensagem criptografada,\n",
    "# lendo a mensagem codificada e deslocamento aplicado.\n",
    "\n",
    "print(\"Informe o texto codificado: \")\n",
    "texto = input()\n",
    "print(\"Informe o deslocamento\")\n",
    "deslocamento = int(input())\n",
    "\n",
    "texto_original = \"\"\n",
    "\n",
    "for letra in texto:\n",
    "    texto_original = texto_original + chr(ord(letra)-deslocamento) \n",
    "\n",
    "print(texto_original)"
   ]
  },
  {
   "cell_type": "markdown",
   "metadata": {},
   "source": [
    "Outros métodos em Python para strings podem ser consultados em [Doc](https://www.w3schools.com/python/python_strings_methods.asp)"
   ]
  },
  {
   "cell_type": "markdown",
   "metadata": {},
   "source": [
    "Agora podem começar a fazer a **Lista 7 - Strings**"
   ]
  }
 ],
 "metadata": {
  "kernelspec": {
   "display_name": "Python 3",
   "language": "python",
   "name": "python3"
  },
  "language_info": {
   "codemirror_mode": {
    "name": "ipython",
    "version": 3
   },
   "file_extension": ".py",
   "mimetype": "text/x-python",
   "name": "python",
   "nbconvert_exporter": "python",
   "pygments_lexer": "ipython3",
   "version": "3.7.6"
  }
 },
 "nbformat": 4,
 "nbformat_minor": 4
}
